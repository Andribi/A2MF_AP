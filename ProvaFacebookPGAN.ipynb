{
  "nbformat": 4,
  "nbformat_minor": 0,
  "metadata": {
    "colab": {
      "name": "ProvaFacebookPGAN.ipynb",
      "provenance": [],
      "authorship_tag": "ABX9TyPjxI8tv60REETFzw6RJV3I",
      "include_colab_link": true
    },
    "kernelspec": {
      "name": "python3",
      "display_name": "Python 3"
    },
    "language_info": {
      "name": "python"
    },
    "accelerator": "GPU",
    "widgets": {
      "application/vnd.jupyter.widget-state+json": {
        "5b6cb9825a794bae88afff4aeaaddda7": {
          "model_module": "@jupyter-widgets/controls",
          "model_name": "HBoxModel",
          "model_module_version": "1.5.0",
          "state": {
            "_view_name": "HBoxView",
            "_dom_classes": [],
            "_model_name": "HBoxModel",
            "_view_module": "@jupyter-widgets/controls",
            "_model_module_version": "1.5.0",
            "_view_count": null,
            "_view_module_version": "1.5.0",
            "box_style": "",
            "layout": "IPY_MODEL_d6bf32c839c641228908c0eb2b1abd03",
            "_model_module": "@jupyter-widgets/controls",
            "children": [
              "IPY_MODEL_626936e43c7747ccbdb99daa1311f282",
              "IPY_MODEL_c4ae6f26c0f34097a670c8a90945eabf",
              "IPY_MODEL_f9735775a91f4dbab0d8b17a2e656076"
            ]
          }
        },
        "d6bf32c839c641228908c0eb2b1abd03": {
          "model_module": "@jupyter-widgets/base",
          "model_name": "LayoutModel",
          "model_module_version": "1.2.0",
          "state": {
            "_view_name": "LayoutView",
            "grid_template_rows": null,
            "right": null,
            "justify_content": null,
            "_view_module": "@jupyter-widgets/base",
            "overflow": null,
            "_model_module_version": "1.2.0",
            "_view_count": null,
            "flex_flow": null,
            "width": null,
            "min_width": null,
            "border": null,
            "align_items": null,
            "bottom": null,
            "_model_module": "@jupyter-widgets/base",
            "top": null,
            "grid_column": null,
            "overflow_y": null,
            "overflow_x": null,
            "grid_auto_flow": null,
            "grid_area": null,
            "grid_template_columns": null,
            "flex": null,
            "_model_name": "LayoutModel",
            "justify_items": null,
            "grid_row": null,
            "max_height": null,
            "align_content": null,
            "visibility": null,
            "align_self": null,
            "height": null,
            "min_height": null,
            "padding": null,
            "grid_auto_rows": null,
            "grid_gap": null,
            "max_width": null,
            "order": null,
            "_view_module_version": "1.2.0",
            "grid_template_areas": null,
            "object_position": null,
            "object_fit": null,
            "grid_auto_columns": null,
            "margin": null,
            "display": null,
            "left": null
          }
        },
        "626936e43c7747ccbdb99daa1311f282": {
          "model_module": "@jupyter-widgets/controls",
          "model_name": "HTMLModel",
          "model_module_version": "1.5.0",
          "state": {
            "_view_name": "HTMLView",
            "style": "IPY_MODEL_f8657f314a8741c0bcb75b3b372b7d91",
            "_dom_classes": [],
            "description": "",
            "_model_name": "HTMLModel",
            "placeholder": "​",
            "_view_module": "@jupyter-widgets/controls",
            "_model_module_version": "1.5.0",
            "value": "100%",
            "_view_count": null,
            "_view_module_version": "1.5.0",
            "description_tooltip": null,
            "_model_module": "@jupyter-widgets/controls",
            "layout": "IPY_MODEL_2d6369109c4d4ce88d93a6165b80265f"
          }
        },
        "c4ae6f26c0f34097a670c8a90945eabf": {
          "model_module": "@jupyter-widgets/controls",
          "model_name": "FloatProgressModel",
          "model_module_version": "1.5.0",
          "state": {
            "_view_name": "ProgressView",
            "style": "IPY_MODEL_2a576f83ec34438fa756d4967ddff448",
            "_dom_classes": [],
            "description": "",
            "_model_name": "FloatProgressModel",
            "bar_style": "success",
            "max": 276985075,
            "_view_module": "@jupyter-widgets/controls",
            "_model_module_version": "1.5.0",
            "value": 276985075,
            "_view_count": null,
            "_view_module_version": "1.5.0",
            "orientation": "horizontal",
            "min": 0,
            "description_tooltip": null,
            "_model_module": "@jupyter-widgets/controls",
            "layout": "IPY_MODEL_eeeb01e5e86a4690b0c832c6f611eb8e"
          }
        },
        "f9735775a91f4dbab0d8b17a2e656076": {
          "model_module": "@jupyter-widgets/controls",
          "model_name": "HTMLModel",
          "model_module_version": "1.5.0",
          "state": {
            "_view_name": "HTMLView",
            "style": "IPY_MODEL_f2c295becdf3498b89bacdd59e7cad39",
            "_dom_classes": [],
            "description": "",
            "_model_name": "HTMLModel",
            "placeholder": "​",
            "_view_module": "@jupyter-widgets/controls",
            "_model_module_version": "1.5.0",
            "value": " 264M/264M [00:10&lt;00:00, 30.7MB/s]",
            "_view_count": null,
            "_view_module_version": "1.5.0",
            "description_tooltip": null,
            "_model_module": "@jupyter-widgets/controls",
            "layout": "IPY_MODEL_7998022d0b0942b78f20cb9a7f2b1dae"
          }
        },
        "f8657f314a8741c0bcb75b3b372b7d91": {
          "model_module": "@jupyter-widgets/controls",
          "model_name": "DescriptionStyleModel",
          "model_module_version": "1.5.0",
          "state": {
            "_view_name": "StyleView",
            "_model_name": "DescriptionStyleModel",
            "description_width": "",
            "_view_module": "@jupyter-widgets/base",
            "_model_module_version": "1.5.0",
            "_view_count": null,
            "_view_module_version": "1.2.0",
            "_model_module": "@jupyter-widgets/controls"
          }
        },
        "2d6369109c4d4ce88d93a6165b80265f": {
          "model_module": "@jupyter-widgets/base",
          "model_name": "LayoutModel",
          "model_module_version": "1.2.0",
          "state": {
            "_view_name": "LayoutView",
            "grid_template_rows": null,
            "right": null,
            "justify_content": null,
            "_view_module": "@jupyter-widgets/base",
            "overflow": null,
            "_model_module_version": "1.2.0",
            "_view_count": null,
            "flex_flow": null,
            "width": null,
            "min_width": null,
            "border": null,
            "align_items": null,
            "bottom": null,
            "_model_module": "@jupyter-widgets/base",
            "top": null,
            "grid_column": null,
            "overflow_y": null,
            "overflow_x": null,
            "grid_auto_flow": null,
            "grid_area": null,
            "grid_template_columns": null,
            "flex": null,
            "_model_name": "LayoutModel",
            "justify_items": null,
            "grid_row": null,
            "max_height": null,
            "align_content": null,
            "visibility": null,
            "align_self": null,
            "height": null,
            "min_height": null,
            "padding": null,
            "grid_auto_rows": null,
            "grid_gap": null,
            "max_width": null,
            "order": null,
            "_view_module_version": "1.2.0",
            "grid_template_areas": null,
            "object_position": null,
            "object_fit": null,
            "grid_auto_columns": null,
            "margin": null,
            "display": null,
            "left": null
          }
        },
        "2a576f83ec34438fa756d4967ddff448": {
          "model_module": "@jupyter-widgets/controls",
          "model_name": "ProgressStyleModel",
          "model_module_version": "1.5.0",
          "state": {
            "_view_name": "StyleView",
            "_model_name": "ProgressStyleModel",
            "description_width": "",
            "_view_module": "@jupyter-widgets/base",
            "_model_module_version": "1.5.0",
            "_view_count": null,
            "_view_module_version": "1.2.0",
            "bar_color": null,
            "_model_module": "@jupyter-widgets/controls"
          }
        },
        "eeeb01e5e86a4690b0c832c6f611eb8e": {
          "model_module": "@jupyter-widgets/base",
          "model_name": "LayoutModel",
          "model_module_version": "1.2.0",
          "state": {
            "_view_name": "LayoutView",
            "grid_template_rows": null,
            "right": null,
            "justify_content": null,
            "_view_module": "@jupyter-widgets/base",
            "overflow": null,
            "_model_module_version": "1.2.0",
            "_view_count": null,
            "flex_flow": null,
            "width": null,
            "min_width": null,
            "border": null,
            "align_items": null,
            "bottom": null,
            "_model_module": "@jupyter-widgets/base",
            "top": null,
            "grid_column": null,
            "overflow_y": null,
            "overflow_x": null,
            "grid_auto_flow": null,
            "grid_area": null,
            "grid_template_columns": null,
            "flex": null,
            "_model_name": "LayoutModel",
            "justify_items": null,
            "grid_row": null,
            "max_height": null,
            "align_content": null,
            "visibility": null,
            "align_self": null,
            "height": null,
            "min_height": null,
            "padding": null,
            "grid_auto_rows": null,
            "grid_gap": null,
            "max_width": null,
            "order": null,
            "_view_module_version": "1.2.0",
            "grid_template_areas": null,
            "object_position": null,
            "object_fit": null,
            "grid_auto_columns": null,
            "margin": null,
            "display": null,
            "left": null
          }
        },
        "f2c295becdf3498b89bacdd59e7cad39": {
          "model_module": "@jupyter-widgets/controls",
          "model_name": "DescriptionStyleModel",
          "model_module_version": "1.5.0",
          "state": {
            "_view_name": "StyleView",
            "_model_name": "DescriptionStyleModel",
            "description_width": "",
            "_view_module": "@jupyter-widgets/base",
            "_model_module_version": "1.5.0",
            "_view_count": null,
            "_view_module_version": "1.2.0",
            "_model_module": "@jupyter-widgets/controls"
          }
        },
        "7998022d0b0942b78f20cb9a7f2b1dae": {
          "model_module": "@jupyter-widgets/base",
          "model_name": "LayoutModel",
          "model_module_version": "1.2.0",
          "state": {
            "_view_name": "LayoutView",
            "grid_template_rows": null,
            "right": null,
            "justify_content": null,
            "_view_module": "@jupyter-widgets/base",
            "overflow": null,
            "_model_module_version": "1.2.0",
            "_view_count": null,
            "flex_flow": null,
            "width": null,
            "min_width": null,
            "border": null,
            "align_items": null,
            "bottom": null,
            "_model_module": "@jupyter-widgets/base",
            "top": null,
            "grid_column": null,
            "overflow_y": null,
            "overflow_x": null,
            "grid_auto_flow": null,
            "grid_area": null,
            "grid_template_columns": null,
            "flex": null,
            "_model_name": "LayoutModel",
            "justify_items": null,
            "grid_row": null,
            "max_height": null,
            "align_content": null,
            "visibility": null,
            "align_self": null,
            "height": null,
            "min_height": null,
            "padding": null,
            "grid_auto_rows": null,
            "grid_gap": null,
            "max_width": null,
            "order": null,
            "_view_module_version": "1.2.0",
            "grid_template_areas": null,
            "object_position": null,
            "object_fit": null,
            "grid_auto_columns": null,
            "margin": null,
            "display": null,
            "left": null
          }
        }
      }
    }
  },
  "cells": [
    {
      "cell_type": "markdown",
      "metadata": {
        "id": "view-in-github",
        "colab_type": "text"
      },
      "source": [
        "<a href=\"https://colab.research.google.com/github/Andribi/A2MF_AP/blob/main/ProvaFacebookPGAN.ipynb\" target=\"_parent\"><img src=\"https://colab.research.google.com/assets/colab-badge.svg\" alt=\"Open In Colab\"/></a>"
      ]
    },
    {
      "cell_type": "markdown",
      "metadata": {
        "id": "QsPxFh2zJKsd"
      },
      "source": [
        "## PROVA TEST\n",
        "\n"
      ]
    },
    {
      "cell_type": "code",
      "metadata": {
        "colab": {
          "base_uri": "https://localhost:8080/",
          "height": 121,
          "referenced_widgets": [
            "5b6cb9825a794bae88afff4aeaaddda7",
            "d6bf32c839c641228908c0eb2b1abd03",
            "626936e43c7747ccbdb99daa1311f282",
            "c4ae6f26c0f34097a670c8a90945eabf",
            "f9735775a91f4dbab0d8b17a2e656076",
            "f8657f314a8741c0bcb75b3b372b7d91",
            "2d6369109c4d4ce88d93a6165b80265f",
            "2a576f83ec34438fa756d4967ddff448",
            "eeeb01e5e86a4690b0c832c6f611eb8e",
            "f2c295becdf3498b89bacdd59e7cad39",
            "7998022d0b0942b78f20cb9a7f2b1dae"
          ]
        },
        "id": "RNxXPp7uDBwW",
        "outputId": "2ec7444f-e1c9-478b-b596-838d78ec7ede"
      },
      "source": [
        "# Source: https://pytorch.org/hub/facebookresearch_pytorch-gan-zoo_pgan/ \n",
        "\n",
        "import torch\n",
        "use_gpu = True if torch.cuda.is_available() else False\n",
        "\n",
        "# trained on high-quality celebrity faces \"celebA\" dataset\n",
        "# this model outputs 512 x 512 pixel images\n",
        "model = torch.hub.load('facebookresearch/pytorch_GAN_zoo:hub',\n",
        "                       'PGAN', model_name='celebAHQ-512',\n",
        "                       pretrained=True, useGPU=use_gpu)\n",
        "# this model outputs 256 x 256 pixel images\n",
        "# model = torch.hub.load('facebookresearch/pytorch_GAN_zoo:hub',\n",
        "#                        'PGAN', model_name='celebAHQ-256',\n",
        "#                        pretrained=True, useGPU=use_gpu)\n",
        "\n"
      ],
      "execution_count": null,
      "outputs": [
        {
          "output_type": "stream",
          "name": "stderr",
          "text": [
            "Downloading: \"https://github.com/facebookresearch/pytorch_GAN_zoo/archive/hub.zip\" to /root/.cache/torch/hub/hub.zip\n",
            "Downloading: \"https://dl.fbaipublicfiles.com/gan_zoo/PGAN/celebaHQ16_december_s7_i96000-9c72988c.pth\" to /root/.cache/torch/hub/checkpoints/celebaHQ16_december_s7_i96000-9c72988c.pth\n"
          ]
        },
        {
          "output_type": "display_data",
          "data": {
            "application/vnd.jupyter.widget-view+json": {
              "model_id": "5b6cb9825a794bae88afff4aeaaddda7",
              "version_minor": 0,
              "version_major": 2
            },
            "text/plain": [
              "  0%|          | 0.00/264M [00:00<?, ?B/s]"
            ]
          },
          "metadata": {}
        },
        {
          "output_type": "stream",
          "name": "stdout",
          "text": [
            "Average network found !\n"
          ]
        }
      ]
    },
    {
      "cell_type": "code",
      "metadata": {
        "colab": {
          "base_uri": "https://localhost:8080/",
          "height": 136
        },
        "id": "1AF5Uw1CEaHb",
        "outputId": "e032dc58-d54e-4ec1-94b4-73ced046bcb1"
      },
      "source": [
        "num_images = 16\n",
        "# noise, _ = model.buildNoiseData(num_images, inputlabels)\n",
        "\n",
        "noise, _ = model.buildNoiseData(num_images)\n",
        "with torch.no_grad():\n",
        "    generated_images = model.test(noise)\n",
        "\n",
        "# let's plot these images using torchvision and matplotlib\n",
        "import matplotlib.pyplot as plt\n",
        "import torchvision\n",
        "grid = torchvision.utils.make_grid(generated_images.clamp(min=-1, max=1), scale_each=True, normalize=True)\n",
        "plt.imshow(grid.permute(1, 2, 0).cpu().numpy())\n",
        "plt.show()"
      ],
      "execution_count": null,
      "outputs": [
        {
          "output_type": "display_data",
          "data": {
            "image/png": "[encoded data removed]",
            "text/plain": [
              "<Figure size 432x288 with 1 Axes>"
            ]
          },
          "metadata": {
            "needs_background": "light"
          }
        }
      ]
    },
    {
      "cell_type": "markdown",
      "metadata": {
        "id": "4iYexcVIJZY9"
      },
      "source": [
        "## Creazione dataset torch like\n"
      ]
    },
    {
      "cell_type": "code",
      "metadata": {
        "colab": {
          "base_uri": "https://localhost:8080/"
        },
        "id": "KtHmK2k_JOhN",
        "outputId": "90ec1522-13f6-4b90-8db5-c5c6f46bc624"
      },
      "source": [
        "# FAIRFACE CLONE\n",
        "\n",
        "import os\n",
        "\n",
        "!git clone https://github.com/Andribi/A2MF_AP.git\n",
        "%cd /content/A2MF_AP/fairface/"
      ],
      "execution_count": null,
      "outputs": [
        {
          "output_type": "stream",
          "name": "stdout",
          "text": [
            "Cloning into 'A2MF_AP'...\n",
            "remote: Enumerating objects: 195139, done.\u001b[K\n",
            "remote: Counting objects: 100% (15/15), done.\u001b[K\n",
            "remote: Compressing objects: 100% (15/15), done.\u001b[K\n",
            "remote: Total 195139 (delta 8), reused 0 (delta 0), pack-reused 195124\u001b[K\n",
            "Receiving objects: 100% (195139/195139), 1.80 GiB | 37.07 MiB/s, done.\n",
            "Resolving deltas: 100% (25/25), done.\n",
            "Checking out files: 100% (195403/195403), done.\n",
            "/content/A2MF_AP/fairface\n"
          ]
        }
      ]
    },
    {
      "cell_type": "code",
      "metadata": {
        "colab": {
          "base_uri": "https://localhost:8080/"
        },
        "id": "gHN21zB3C2eg",
        "outputId": "2a56ab1b-e714-479d-986d-2be789c4d6d7"
      },
      "source": [
        "from google.colab import drive\n",
        "drive.mount('/content/drive')"
      ],
      "execution_count": null,
      "outputs": [
        {
          "output_type": "stream",
          "name": "stdout",
          "text": [
            "Mounted at /content/drive\n"
          ]
        }
      ]
    },
    {
      "cell_type": "code",
      "metadata": {
        "id": "5neG9nrbnt6N"
      },
      "source": [
        "import torch\n",
        "use_gpu = True if torch.cuda.is_available() else False\n"
      ],
      "execution_count": null,
      "outputs": []
    },
    {
      "cell_type": "code",
      "metadata": {
        "colab": {
          "base_uri": "https://localhost:8080/"
        },
        "id": "Vob18u1xSgod",
        "outputId": "8be5225d-d416-42ce-85c6-530dadaf8561"
      },
      "source": [
        "import pandas as pd\n",
        "\n",
        "# train labels path\n",
        "TRAIN_LABELS_PATH = \"fairface_label_train.csv\"\n",
        "\n",
        "# validation labels path\n",
        "VAL_LABELS_PATH = \"fairface_label_val.csv\"\n",
        "\n",
        "# seed for shuffle\n",
        "SEED = 123\n",
        "\n",
        "# DATA LOAD\n",
        "\n",
        "fairface_train = pd.read_csv(TRAIN_LABELS_PATH)\n",
        "fairface_val = pd.read_csv(VAL_LABELS_PATH)\n",
        "fairface = pd.concat([fairface_train, fairface_val])\n",
        "\n",
        "# ENCODING\n",
        "\n",
        "enc_fairface = fairface.drop(columns='service_test')\n",
        "enc_fairface_train = fairface_train.drop(columns='service_test')\n",
        "enc_fairface_val = fairface_val.drop(columns='service_test')\n",
        "\n",
        "def encode_dataset(df):\n",
        "  \"\"\"\n",
        "  Function to encode dataframe using One Hot encoding\n",
        "\n",
        "  Parameters\n",
        "  ----------\n",
        "  df (DataFrame) :  A dataframe with names and attributes of a specific dataset \n",
        "                    of images\n",
        "\n",
        "  Returns\n",
        "  -------\n",
        "  df (DataFrame) :  Encoded DataFrame\n",
        "  \"\"\"\n",
        "\n",
        "  attr = df.drop(columns='file')\n",
        "  names = pd.DataFrame(df['file'])  \n",
        "  \n",
        "  enc_df = pd.get_dummies(attr, dtype=float)\n",
        "  enc_df = enc_df.drop(columns='gender_Female')\n",
        "  df = pd.concat([names, enc_df], axis=1)\n",
        "  \n",
        "  print(df.shape)\n",
        "  return df\n",
        "\n",
        "def _sk(x):\n",
        "  \"\"\" \n",
        "  Function to transform a path for visual images in a path for sketch images\n",
        "\n",
        "  Parameters\n",
        "  ----------\n",
        "  x (str) :  Path in input (example: 'val/1.jpg' or 'train/1.jpg')\n",
        "\n",
        "  Returns\n",
        "  -------\n",
        "  x (str) :  Transformd path (example: 'val_sk/1.jpg' or 'train_sk/1.jpg')\n",
        "  \"\"\"\n",
        "\n",
        "  if 'train' in x:\n",
        "    x = x[:5] + '_sk' + x[5:]\n",
        "  if 'val' in x:\n",
        "    x = x[:3] + '_sk' + x[3:]\n",
        "  return x \n",
        "\n",
        "# full fairface visible\n",
        "ff_df = encode_dataset(enc_fairface).replace(0, -1)\n",
        "\n",
        "# train set visible\n",
        "train_df = encode_dataset(enc_fairface_train).replace(0, -1)\n",
        "\n",
        "# val set visible\n",
        "val_df = encode_dataset(enc_fairface_val).replace(0, -1)\n",
        "\n",
        "# train set sketch\n",
        "train_sk_df = train_df.copy()\n",
        "train_sk_df['file'] = train_sk_df['file'].apply(_sk)\n",
        "\n",
        "# val set sketch\n",
        "val_sk_df = val_df.copy()\n",
        "val_sk_df['file'] = val_sk_df['file'].apply(_sk)\n",
        "\n",
        "# train set visible + sketch\n",
        "mixed_train = pd.concat([train_df, train_sk_df], axis=0)\n",
        "mixed_train = mixed_train.sample(frac=1, random_state=SEED).reset_index(drop=True)\n",
        "print(mixed_train.shape)\n",
        "\n",
        "# val set visible + sketch\n",
        "mixed_val = pd.concat([val_df, val_sk_df], axis=0)\n",
        "mixed_val = mixed_val.sample(frac=1, random_state=SEED).reset_index(drop=True) \n",
        "print(mixed_val.shape)"
      ],
      "execution_count": null,
      "outputs": [
        {
          "output_type": "stream",
          "name": "stdout",
          "text": [
            "(97698, 18)\n",
            "(86744, 18)\n",
            "(10954, 18)\n",
            "(173488, 18)\n",
            "(21908, 18)\n"
          ]
        }
      ]
    },
    {
      "cell_type": "code",
      "metadata": {
        "id": "l5w1G1HETZBM"
      },
      "source": [
        "train_df.index = train_df['file']\n",
        "train_df = train_df.drop(columns='file')\n",
        "train_dict = train_df.to_dict('index')"
      ],
      "execution_count": null,
      "outputs": []
    },
    {
      "cell_type": "code",
      "metadata": {
        "colab": {
          "base_uri": "https://localhost:8080/"
        },
        "id": "lnSEXGkoXuxU",
        "outputId": "8926bd9a-30ac-45c8-be95-cd6e3eb08e15"
      },
      "source": [
        "%cd /content/drive/MyDrive/"
      ],
      "execution_count": null,
      "outputs": [
        {
          "output_type": "stream",
          "name": "stdout",
          "text": [
            "/content/drive/MyDrive\n"
          ]
        }
      ]
    },
    {
      "cell_type": "code",
      "metadata": {
        "id": "n_6NQN-PXbs4"
      },
      "source": [
        "import json\n",
        "\n",
        "train_dict = train_df.to_json(orient='index')\n",
        "with open('train_attr.json', 'w') as outfile:\n",
        "    json.dump(json.loads(train_dict), outfile)"
      ],
      "execution_count": null,
      "outputs": []
    },
    {
      "cell_type": "code",
      "metadata": {
        "id": "Gs-FLztxPQIz"
      },
      "source": [
        "FAIRFACE_PATH = \"/content/A2MF_AP/fairface/\"\n",
        "ATTRIB_DICT_PATH = \"/content/drive/MyDrive/train_attr.json\"\n",
        "\n",
        "content = {\"pathDB\": FAIRFACE_PATH, \n",
        "           \"pathAttribDict\": ATTRIB_DICT_PATH}\n",
        "\n",
        "with open('fairface.json', 'w') as outfile:\n",
        "    json.dump(content, outfile)"
      ],
      "execution_count": null,
      "outputs": []
    },
    {
      "cell_type": "code",
      "metadata": {
        "colab": {
          "base_uri": "https://localhost:8080/"
        },
        "id": "zOKxKYcLlcW8",
        "outputId": "5419622d-44f3-4c29-db03-9b3ceffc4150"
      },
      "source": [
        "%cd /content"
      ],
      "execution_count": null,
      "outputs": [
        {
          "output_type": "stream",
          "name": "stdout",
          "text": [
            "/content\n"
          ]
        }
      ]
    },
    {
      "cell_type": "code",
      "metadata": {
        "colab": {
          "base_uri": "https://localhost:8080/"
        },
        "id": "JjVE0T9ieej5",
        "outputId": "1a8a0e64-993a-471e-95d9-269f41b79899"
      },
      "source": [
        "# FACEBOOK PGAN CLONE\n",
        "!git clone https://github.com/facebookresearch/pytorch_GAN_zoo.git"
      ],
      "execution_count": null,
      "outputs": [
        {
          "output_type": "stream",
          "name": "stdout",
          "text": [
            "Cloning into 'pytorch_GAN_zoo'...\n",
            "remote: Enumerating objects: 1523, done.\u001b[K\n",
            "remote: Counting objects: 100% (28/28), done.\u001b[K\n",
            "remote: Compressing objects: 100% (24/24), done.\u001b[K\n",
            "remote: Total 1523 (delta 17), reused 13 (delta 4), pack-reused 1495\u001b[K\n",
            "Receiving objects: 100% (1523/1523), 2.06 MiB | 18.84 MiB/s, done.\n",
            "Resolving deltas: 100% (977/977), done.\n"
          ]
        }
      ]
    },
    {
      "cell_type": "code",
      "metadata": {
        "colab": {
          "base_uri": "https://localhost:8080/"
        },
        "id": "3ovZttJcezuq",
        "outputId": "23a60820-ac99-4be1-f49c-cfee1026e106"
      },
      "source": [
        "%cd /content/pytorch_GAN_zoo/"
      ],
      "execution_count": null,
      "outputs": [
        {
          "output_type": "stream",
          "name": "stdout",
          "text": [
            "/content/pytorch_GAN_zoo\n"
          ]
        }
      ]
    },
    {
      "cell_type": "code",
      "metadata": {
        "colab": {
          "base_uri": "https://localhost:8080/"
        },
        "id": "Ce9P88ubfy7T",
        "outputId": "612a8af6-3fae-4219-f001-321e5ace225e"
      },
      "source": [
        "!pip install -r /content/pytorch_GAN_zoo/requirements.txt"
      ],
      "execution_count": null,
      "outputs": [
        {
          "output_type": "stream",
          "name": "stdout",
          "text": [
            "Requirement already satisfied: numpy in /usr/local/lib/python3.7/dist-packages (from -r /content/pytorch_GAN_zoo/requirements.txt (line 1)) (1.19.5)\n",
            "Requirement already satisfied: scipy in /usr/local/lib/python3.7/dist-packages (from -r /content/pytorch_GAN_zoo/requirements.txt (line 2)) (1.4.1)\n",
            "Collecting visdom\n",
            "  Downloading visdom-0.1.8.9.tar.gz (676 kB)\n",
            "\u001b[K     |████████████████████████████████| 676 kB 12.7 MB/s \n",
            "\u001b[?25hRequirement already satisfied: h5py in /usr/local/lib/python3.7/dist-packages (from -r /content/pytorch_GAN_zoo/requirements.txt (line 4)) (3.1.0)\n",
            "Collecting nevergrad\n",
            "  Downloading nevergrad-0.4.3.post9-py3-none-any.whl (411 kB)\n",
            "\u001b[K     |████████████████████████████████| 411 kB 54.5 MB/s \n",
            "\u001b[?25hRequirement already satisfied: requests in /usr/local/lib/python3.7/dist-packages (from visdom->-r /content/pytorch_GAN_zoo/requirements.txt (line 3)) (2.23.0)\n",
            "Requirement already satisfied: tornado in /usr/local/lib/python3.7/dist-packages (from visdom->-r /content/pytorch_GAN_zoo/requirements.txt (line 3)) (5.1.1)\n",
            "Requirement already satisfied: pyzmq in /usr/local/lib/python3.7/dist-packages (from visdom->-r /content/pytorch_GAN_zoo/requirements.txt (line 3)) (22.3.0)\n",
            "Requirement already satisfied: six in /usr/local/lib/python3.7/dist-packages (from visdom->-r /content/pytorch_GAN_zoo/requirements.txt (line 3)) (1.15.0)\n",
            "Collecting jsonpatch\n",
            "  Downloading jsonpatch-1.32-py2.py3-none-any.whl (12 kB)\n",
            "Collecting torchfile\n",
            "  Downloading torchfile-0.1.0.tar.gz (5.2 kB)\n",
            "Collecting websocket-client\n",
            "  Downloading websocket_client-1.2.1-py2.py3-none-any.whl (52 kB)\n",
            "\u001b[K     |████████████████████████████████| 52 kB 1.6 MB/s \n",
            "\u001b[?25hRequirement already satisfied: pillow in /usr/local/lib/python3.7/dist-packages (from visdom->-r /content/pytorch_GAN_zoo/requirements.txt (line 3)) (7.1.2)\n",
            "Requirement already satisfied: cached-property in /usr/local/lib/python3.7/dist-packages (from h5py->-r /content/pytorch_GAN_zoo/requirements.txt (line 4)) (1.5.2)\n",
            "Collecting bayesian-optimization>=1.2.0\n",
            "  Downloading bayesian-optimization-1.2.0.tar.gz (14 kB)\n",
            "Requirement already satisfied: typing-extensions>=3.6.6 in /usr/local/lib/python3.7/dist-packages (from nevergrad->-r /content/pytorch_GAN_zoo/requirements.txt (line 5)) (3.10.0.2)\n",
            "Collecting cma>=2.6.0\n",
            "  Downloading cma-3.1.0-py2.py3-none-any.whl (269 kB)\n",
            "\u001b[K     |████████████████████████████████| 269 kB 55.5 MB/s \n",
            "\u001b[?25hRequirement already satisfied: scikit-learn>=0.18.0 in /usr/local/lib/python3.7/dist-packages (from bayesian-optimization>=1.2.0->nevergrad->-r /content/pytorch_GAN_zoo/requirements.txt (line 5)) (1.0.1)\n",
            "Requirement already satisfied: joblib>=0.11 in /usr/local/lib/python3.7/dist-packages (from scikit-learn>=0.18.0->bayesian-optimization>=1.2.0->nevergrad->-r /content/pytorch_GAN_zoo/requirements.txt (line 5)) (1.1.0)\n",
            "Requirement already satisfied: threadpoolctl>=2.0.0 in /usr/local/lib/python3.7/dist-packages (from scikit-learn>=0.18.0->bayesian-optimization>=1.2.0->nevergrad->-r /content/pytorch_GAN_zoo/requirements.txt (line 5)) (3.0.0)\n",
            "Collecting jsonpointer>=1.9\n",
            "  Downloading jsonpointer-2.2-py2.py3-none-any.whl (7.5 kB)\n",
            "Requirement already satisfied: idna<3,>=2.5 in /usr/local/lib/python3.7/dist-packages (from requests->visdom->-r /content/pytorch_GAN_zoo/requirements.txt (line 3)) (2.10)\n",
            "Requirement already satisfied: certifi>=2017.4.17 in /usr/local/lib/python3.7/dist-packages (from requests->visdom->-r /content/pytorch_GAN_zoo/requirements.txt (line 3)) (2021.10.8)\n",
            "Requirement already satisfied: chardet<4,>=3.0.2 in /usr/local/lib/python3.7/dist-packages (from requests->visdom->-r /content/pytorch_GAN_zoo/requirements.txt (line 3)) (3.0.4)\n",
            "Requirement already satisfied: urllib3!=1.25.0,!=1.25.1,<1.26,>=1.21.1 in /usr/local/lib/python3.7/dist-packages (from requests->visdom->-r /content/pytorch_GAN_zoo/requirements.txt (line 3)) (1.24.3)\n",
            "Building wheels for collected packages: visdom, bayesian-optimization, torchfile\n",
            "  Building wheel for visdom (setup.py) ... \u001b[?25l\u001b[?25hdone\n",
            "  Created wheel for visdom: filename=visdom-0.1.8.9-py3-none-any.whl size=655250 sha256=7672b14db5da0d2e5b6d0ebdb61de833c54732b6b6f8d7727b71499e317eb1ec\n",
            "  Stored in directory: /root/.cache/pip/wheels/2d/d1/9b/cde923274eac9cbb6ff0d8c7c72fe30a3da9095a38fd50bbf1\n",
            "  Building wheel for bayesian-optimization (setup.py) ... \u001b[?25l\u001b[?25hdone\n",
            "  Created wheel for bayesian-optimization: filename=bayesian_optimization-1.2.0-py3-none-any.whl size=11685 sha256=2b50051f94f98c0971e2d1d5e0caaa72ccd7cb5601d18a9d3e9189d3e2820587\n",
            "  Stored in directory: /root/.cache/pip/wheels/fd/9b/71/f127d694e02eb40bcf18c7ae9613b88a6be4470f57a8528c5b\n",
            "  Building wheel for torchfile (setup.py) ... \u001b[?25l\u001b[?25hdone\n",
            "  Created wheel for torchfile: filename=torchfile-0.1.0-py3-none-any.whl size=5710 sha256=65e407dd939bda1a1f60440445c2c033a163d54a15df31b9647dcf99307e07eb\n",
            "  Stored in directory: /root/.cache/pip/wheels/ac/5c/3a/a80e1c65880945c71fd833408cd1e9a8cb7e2f8f37620bb75b\n",
            "Successfully built visdom bayesian-optimization torchfile\n",
            "Installing collected packages: jsonpointer, websocket-client, torchfile, jsonpatch, cma, bayesian-optimization, visdom, nevergrad\n",
            "Successfully installed bayesian-optimization-1.2.0 cma-3.1.0 jsonpatch-1.32 jsonpointer-2.2 nevergrad-0.4.3.post9 torchfile-0.1.0 visdom-0.1.8.9 websocket-client-1.2.1\n"
          ]
        }
      ]
    },
    {
      "cell_type": "code",
      "metadata": {
        "colab": {
          "base_uri": "https://localhost:8080/"
        },
        "id": "xPr_XAEZzNxe",
        "outputId": "a35379cb-ba14-474e-a5f6-6c967536d688"
      },
      "source": [
        "!python train.py --override"
      ],
      "execution_count": null,
      "outputs": [
        {
          "output_type": "stream",
          "name": "stdout",
          "text": [
            "usage: train.py [-h] [--no_vis] [--np_vis] [--restart] [-n NAME] [-d DIR]\n",
            "                [-c CONFIGPATH] [-s SAVEITER] [-e EVALITER] [-S SCALE_ITER]\n",
            "                [-v PARTITION_VALUE]\n",
            "                model_name\n",
            "train.py: error: the following arguments are required: model_name\n"
          ]
        }
      ]
    },
    {
      "cell_type": "code",
      "metadata": {
        "id": "PxGm4kJ-yWeY"
      },
      "source": [
        "python -m visdom.server"
      ],
      "execution_count": null,
      "outputs": []
    },
    {
      "cell_type": "code",
      "metadata": {
        "colab": {
          "base_uri": "https://localhost:8080/"
        },
        "id": "0NhhT8IVfGeW",
        "outputId": "a15be42b-6ef1-42ff-f30c-c3df831e3d10"
      },
      "source": [
        "!python train.py --np_vis PGAN -c /content/drive/MyDrive/fairface.json -n 'prova' -d /content/drive/MyDrive/checkpoints"
      ],
      "execution_count": null,
      "outputs": [
        {
          "output_type": "stream",
          "name": "stdout",
          "text": [
            "Running PGAN\n",
            "size 10\n",
            "86744 images found\n",
            "AC-GAN classes : \n",
            "{'age_0-2': {'order': 0, 'values': [1.0, -1.0]}, 'age_10-19': {'order': 1, 'values': [1.0, -1.0]}, 'age_20-29': {'order': 2, 'values': [1.0, -1.0]}, 'age_3-9': {'order': 3, 'values': [1.0, -1.0]}, 'age_30-39': {'order': 4, 'values': [1.0, -1.0]}, 'age_40-49': {'order': 5, 'values': [1.0, -1.0]}, 'age_50-59': {'order': 6, 'values': [1.0, -1.0]}, 'age_60-69': {'order': 7, 'values': [1.0, -1.0]}, 'age_more than 70': {'order': 8, 'values': [1.0, -1.0]}, 'gender_Male': {'order': 9, 'values': [1.0, -1.0]}, 'race_Black': {'order': 10, 'values': [1.0, -1.0]}, 'race_East Asian': {'order': 11, 'values': [1.0, -1.0]}, 'race_Indian': {'order': 12, 'values': [1.0, -1.0]}, 'race_Latino_Hispanic': {'order': 13, 'values': [1.0, -1.0]}, 'race_Middle Eastern': {'order': 14, 'values': [1.0, -1.0]}, 'race_Southeast Asian': {'order': 15, 'values': [1.0, -1.0]}, 'race_White': {'order': 16, 'values': [1.0, -1.0]}}\n",
            "\n",
            "size 10\n",
            "86744 images found\n",
            "86744 images detected\n",
            "Model found at path /content/drive/MyDrive/checkpoints/prova/prova_s1_i48000.pt, pursuing the training\n",
            "Traceback (most recent call last):\n",
            "  File \"train.py\", line 135, in <module>\n",
            "    GANTrainer.loadSavedTraining(pathModel, trainConfig, pathTmpData)\n",
            "  File \"/content/pytorch_GAN_zoo/models/trainer/gan_trainer.py\", line 260, in loadSavedTraining\n",
            "    finetuning=finetune)\n",
            "  File \"/content/pytorch_GAN_zoo/models/base_GAN.py\", line 478, in load\n",
            "    in_state = torch.load(path)\n",
            "  File \"/usr/local/lib/python3.7/dist-packages/torch/serialization.py\", line 607, in load\n",
            "    return _load(opened_zipfile, map_location, pickle_module, **pickle_load_args)\n",
            "  File \"/usr/local/lib/python3.7/dist-packages/torch/serialization.py\", line 882, in _load\n",
            "    result = unpickler.load()\n",
            "  File \"/usr/local/lib/python3.7/dist-packages/torch/serialization.py\", line 857, in persistent_load\n",
            "    load_tensor(data_type, size, key, _maybe_decode_ascii(location))\n",
            "  File \"/usr/local/lib/python3.7/dist-packages/torch/serialization.py\", line 846, in load_tensor\n",
            "    loaded_storages[key] = restore_location(storage, location)\n",
            "  File \"/usr/local/lib/python3.7/dist-packages/torch/serialization.py\", line 175, in default_restore_location\n",
            "    result = fn(storage, location)\n",
            "  File \"/usr/local/lib/python3.7/dist-packages/torch/serialization.py\", line 151, in _cuda_deserialize\n",
            "    device = validate_cuda_device(location)\n",
            "  File \"/usr/local/lib/python3.7/dist-packages/torch/serialization.py\", line 135, in validate_cuda_device\n",
            "    raise RuntimeError('Attempting to deserialize object on a CUDA '\n",
            "RuntimeError: Attempting to deserialize object on a CUDA device but torch.cuda.is_available() is False. If you are running on a CPU-only machine, please use torch.load with map_location=torch.device('cpu') to map your storages to the CPU.\n"
          ]
        }
      ]
    }
  ]
}