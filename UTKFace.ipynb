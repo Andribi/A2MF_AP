{
  "nbformat": 4,
  "nbformat_minor": 0,
  "metadata": {
    "colab": {
      "name": "ProvaFacebookPGAN.ipynb",
      "provenance": [],
      "authorship_tag": "ABX9TyPDjo+50Yo3yUgKQfd9k1tz",
      "include_colab_link": true
    },
    "kernelspec": {
      "name": "python3",
      "display_name": "Python 3"
    },
    "language_info": {
      "name": "python"
    },
    "accelerator": "GPU",
    "widgets": {
      "application/vnd.jupyter.widget-state+json": {
        "5b6cb9825a794bae88afff4aeaaddda7": {
          "model_module": "@jupyter-widgets/controls",
          "model_name": "HBoxModel",
          "model_module_version": "1.5.0",
          "state": {
            "_view_name": "HBoxView",
            "_dom_classes": [],
            "_model_name": "HBoxModel",
            "_view_module": "@jupyter-widgets/controls",
            "_model_module_version": "1.5.0",
            "_view_count": null,
            "_view_module_version": "1.5.0",
            "box_style": "",
            "layout": "IPY_MODEL_d6bf32c839c641228908c0eb2b1abd03",
            "_model_module": "@jupyter-widgets/controls",
            "children": [
              "IPY_MODEL_626936e43c7747ccbdb99daa1311f282",
              "IPY_MODEL_c4ae6f26c0f34097a670c8a90945eabf",
              "IPY_MODEL_f9735775a91f4dbab0d8b17a2e656076"
            ]
          }
        },
        "d6bf32c839c641228908c0eb2b1abd03": {
          "model_module": "@jupyter-widgets/base",
          "model_name": "LayoutModel",
          "model_module_version": "1.2.0",
          "state": {
            "_view_name": "LayoutView",
            "grid_template_rows": null,
            "right": null,
            "justify_content": null,
            "_view_module": "@jupyter-widgets/base",
            "overflow": null,
            "_model_module_version": "1.2.0",
            "_view_count": null,
            "flex_flow": null,
            "width": null,
            "min_width": null,
            "border": null,
            "align_items": null,
            "bottom": null,
            "_model_module": "@jupyter-widgets/base",
            "top": null,
            "grid_column": null,
            "overflow_y": null,
            "overflow_x": null,
            "grid_auto_flow": null,
            "grid_area": null,
            "grid_template_columns": null,
            "flex": null,
            "_model_name": "LayoutModel",
            "justify_items": null,
            "grid_row": null,
            "max_height": null,
            "align_content": null,
            "visibility": null,
            "align_self": null,
            "height": null,
            "min_height": null,
            "padding": null,
            "grid_auto_rows": null,
            "grid_gap": null,
            "max_width": null,
            "order": null,
            "_view_module_version": "1.2.0",
            "grid_template_areas": null,
            "object_position": null,
            "object_fit": null,
            "grid_auto_columns": null,
            "margin": null,
            "display": null,
            "left": null
          }
        },
        "626936e43c7747ccbdb99daa1311f282": {
          "model_module": "@jupyter-widgets/controls",
          "model_name": "HTMLModel",
          "model_module_version": "1.5.0",
          "state": {
            "_view_name": "HTMLView",
            "style": "IPY_MODEL_f8657f314a8741c0bcb75b3b372b7d91",
            "_dom_classes": [],
            "description": "",
            "_model_name": "HTMLModel",
            "placeholder": "​",
            "_view_module": "@jupyter-widgets/controls",
            "_model_module_version": "1.5.0",
            "value": "100%",
            "_view_count": null,
            "_view_module_version": "1.5.0",
            "description_tooltip": null,
            "_model_module": "@jupyter-widgets/controls",
            "layout": "IPY_MODEL_2d6369109c4d4ce88d93a6165b80265f"
          }
        },
        "c4ae6f26c0f34097a670c8a90945eabf": {
          "model_module": "@jupyter-widgets/controls",
          "model_name": "FloatProgressModel",
          "model_module_version": "1.5.0",
          "state": {
            "_view_name": "ProgressView",
            "style": "IPY_MODEL_2a576f83ec34438fa756d4967ddff448",
            "_dom_classes": [],
            "description": "",
            "_model_name": "FloatProgressModel",
            "bar_style": "success",
            "max": 276985075,
            "_view_module": "@jupyter-widgets/controls",
            "_model_module_version": "1.5.0",
            "value": 276985075,
            "_view_count": null,
            "_view_module_version": "1.5.0",
            "orientation": "horizontal",
            "min": 0,
            "description_tooltip": null,
            "_model_module": "@jupyter-widgets/controls",
            "layout": "IPY_MODEL_eeeb01e5e86a4690b0c832c6f611eb8e"
          }
        },
        "f9735775a91f4dbab0d8b17a2e656076": {
          "model_module": "@jupyter-widgets/controls",
          "model_name": "HTMLModel",
          "model_module_version": "1.5.0",
          "state": {
            "_view_name": "HTMLView",
            "style": "IPY_MODEL_f2c295becdf3498b89bacdd59e7cad39",
            "_dom_classes": [],
            "description": "",
            "_model_name": "HTMLModel",
            "placeholder": "​",
            "_view_module": "@jupyter-widgets/controls",
            "_model_module_version": "1.5.0",
            "value": " 264M/264M [00:10&lt;00:00, 30.7MB/s]",
            "_view_count": null,
            "_view_module_version": "1.5.0",
            "description_tooltip": null,
            "_model_module": "@jupyter-widgets/controls",
            "layout": "IPY_MODEL_7998022d0b0942b78f20cb9a7f2b1dae"
          }
        },
        "f8657f314a8741c0bcb75b3b372b7d91": {
          "model_module": "@jupyter-widgets/controls",
          "model_name": "DescriptionStyleModel",
          "model_module_version": "1.5.0",
          "state": {
            "_view_name": "StyleView",
            "_model_name": "DescriptionStyleModel",
            "description_width": "",
            "_view_module": "@jupyter-widgets/base",
            "_model_module_version": "1.5.0",
            "_view_count": null,
            "_view_module_version": "1.2.0",
            "_model_module": "@jupyter-widgets/controls"
          }
        },
        "2d6369109c4d4ce88d93a6165b80265f": {
          "model_module": "@jupyter-widgets/base",
          "model_name": "LayoutModel",
          "model_module_version": "1.2.0",
          "state": {
            "_view_name": "LayoutView",
            "grid_template_rows": null,
            "right": null,
            "justify_content": null,
            "_view_module": "@jupyter-widgets/base",
            "overflow": null,
            "_model_module_version": "1.2.0",
            "_view_count": null,
            "flex_flow": null,
            "width": null,
            "min_width": null,
            "border": null,
            "align_items": null,
            "bottom": null,
            "_model_module": "@jupyter-widgets/base",
            "top": null,
            "grid_column": null,
            "overflow_y": null,
            "overflow_x": null,
            "grid_auto_flow": null,
            "grid_area": null,
            "grid_template_columns": null,
            "flex": null,
            "_model_name": "LayoutModel",
            "justify_items": null,
            "grid_row": null,
            "max_height": null,
            "align_content": null,
            "visibility": null,
            "align_self": null,
            "height": null,
            "min_height": null,
            "padding": null,
            "grid_auto_rows": null,
            "grid_gap": null,
            "max_width": null,
            "order": null,
            "_view_module_version": "1.2.0",
            "grid_template_areas": null,
            "object_position": null,
            "object_fit": null,
            "grid_auto_columns": null,
            "margin": null,
            "display": null,
            "left": null
          }
        },
        "2a576f83ec34438fa756d4967ddff448": {
          "model_module": "@jupyter-widgets/controls",
          "model_name": "ProgressStyleModel",
          "model_module_version": "1.5.0",
          "state": {
            "_view_name": "StyleView",
            "_model_name": "ProgressStyleModel",
            "description_width": "",
            "_view_module": "@jupyter-widgets/base",
            "_model_module_version": "1.5.0",
            "_view_count": null,
            "_view_module_version": "1.2.0",
            "bar_color": null,
            "_model_module": "@jupyter-widgets/controls"
          }
        },
        "eeeb01e5e86a4690b0c832c6f611eb8e": {
          "model_module": "@jupyter-widgets/base",
          "model_name": "LayoutModel",
          "model_module_version": "1.2.0",
          "state": {
            "_view_name": "LayoutView",
            "grid_template_rows": null,
            "right": null,
            "justify_content": null,
            "_view_module": "@jupyter-widgets/base",
            "overflow": null,
            "_model_module_version": "1.2.0",
            "_view_count": null,
            "flex_flow": null,
            "width": null,
            "min_width": null,
            "border": null,
            "align_items": null,
            "bottom": null,
            "_model_module": "@jupyter-widgets/base",
            "top": null,
            "grid_column": null,
            "overflow_y": null,
            "overflow_x": null,
            "grid_auto_flow": null,
            "grid_area": null,
            "grid_template_columns": null,
            "flex": null,
            "_model_name": "LayoutModel",
            "justify_items": null,
            "grid_row": null,
            "max_height": null,
            "align_content": null,
            "visibility": null,
            "align_self": null,
            "height": null,
            "min_height": null,
            "padding": null,
            "grid_auto_rows": null,
            "grid_gap": null,
            "max_width": null,
            "order": null,
            "_view_module_version": "1.2.0",
            "grid_template_areas": null,
            "object_position": null,
            "object_fit": null,
            "grid_auto_columns": null,
            "margin": null,
            "display": null,
            "left": null
          }
        },
        "f2c295becdf3498b89bacdd59e7cad39": {
          "model_module": "@jupyter-widgets/controls",
          "model_name": "DescriptionStyleModel",
          "model_module_version": "1.5.0",
          "state": {
            "_view_name": "StyleView",
            "_model_name": "DescriptionStyleModel",
            "description_width": "",
            "_view_module": "@jupyter-widgets/base",
            "_model_module_version": "1.5.0",
            "_view_count": null,
            "_view_module_version": "1.2.0",
            "_model_module": "@jupyter-widgets/controls"
          }
        },
        "7998022d0b0942b78f20cb9a7f2b1dae": {
          "model_module": "@jupyter-widgets/base",
          "model_name": "LayoutModel",
          "model_module_version": "1.2.0",
          "state": {
            "_view_name": "LayoutView",
            "grid_template_rows": null,
            "right": null,
            "justify_content": null,
            "_view_module": "@jupyter-widgets/base",
            "overflow": null,
            "_model_module_version": "1.2.0",
            "_view_count": null,
            "flex_flow": null,
            "width": null,
            "min_width": null,
            "border": null,
            "align_items": null,
            "bottom": null,
            "_model_module": "@jupyter-widgets/base",
            "top": null,
            "grid_column": null,
            "overflow_y": null,
            "overflow_x": null,
            "grid_auto_flow": null,
            "grid_area": null,
            "grid_template_columns": null,
            "flex": null,
            "_model_name": "LayoutModel",
            "justify_items": null,
            "grid_row": null,
            "max_height": null,
            "align_content": null,
            "visibility": null,
            "align_self": null,
            "height": null,
            "min_height": null,
            "padding": null,
            "grid_auto_rows": null,
            "grid_gap": null,
            "max_width": null,
            "order": null,
            "_view_module_version": "1.2.0",
            "grid_template_areas": null,
            "object_position": null,
            "object_fit": null,
            "grid_auto_columns": null,
            "margin": null,
            "display": null,
            "left": null
          }
        }
      }
    }
  },
  "cells": [
    {
      "cell_type": "markdown",
      "metadata": {
        "id": "view-in-github",
        "colab_type": "text"
      },
      "source": [
        "<a href=\"https://colab.research.google.com/github/Andribi/A2MF_AP/blob/main/UTKFace.ipynb\" target=\"_parent\"><img src=\"https://colab.research.google.com/assets/colab-badge.svg\" alt=\"Open In Colab\"/></a>"
      ]
    },
    {
      "cell_type": "markdown",
      "metadata": {
        "id": "QsPxFh2zJKsd"
      },
      "source": [
        "## PROVA TEST\n",
        "\n"
      ]
    },
    {
      "cell_type": "code",
      "metadata": {
        "colab": {
          "base_uri": "https://localhost:8080/",
          "height": 121,
          "referenced_widgets": [
            "5b6cb9825a794bae88afff4aeaaddda7",
            "d6bf32c839c641228908c0eb2b1abd03",
            "626936e43c7747ccbdb99daa1311f282",
            "c4ae6f26c0f34097a670c8a90945eabf",
            "f9735775a91f4dbab0d8b17a2e656076",
            "f8657f314a8741c0bcb75b3b372b7d91",
            "2d6369109c4d4ce88d93a6165b80265f",
            "2a576f83ec34438fa756d4967ddff448",
            "eeeb01e5e86a4690b0c832c6f611eb8e",
            "f2c295becdf3498b89bacdd59e7cad39",
            "7998022d0b0942b78f20cb9a7f2b1dae"
          ]
        },
        "id": "RNxXPp7uDBwW",
        "outputId": "2ec7444f-e1c9-478b-b596-838d78ec7ede"
      },
      "source": [
        "# Source: https://pytorch.org/hub/facebookresearch_pytorch-gan-zoo_pgan/ \n",
        "\n",
        "import torch\n",
        "use_gpu = True if torch.cuda.is_available() else False\n",
        "\n",
        "# trained on high-quality celebrity faces \"celebA\" dataset\n",
        "# this model outputs 512 x 512 pixel images\n",
        "model = torch.hub.load('facebookresearch/pytorch_GAN_zoo:hub',\n",
        "                       'PGAN', model_name='celebAHQ-512',\n",
        "                       pretrained=True, useGPU=use_gpu)\n",
        "# this model outputs 256 x 256 pixel images\n",
        "# model = torch.hub.load('facebookresearch/pytorch_GAN_zoo:hub',\n",
        "#                        'PGAN', model_name='celebAHQ-256',\n",
        "#                        pretrained=True, useGPU=use_gpu)\n",
        "\n"
      ],
      "execution_count": null,
      "outputs": [
        {
          "output_type": "stream",
          "name": "stderr",
          "text": [
            "Downloading: \"https://github.com/facebookresearch/pytorch_GAN_zoo/archive/hub.zip\" to /root/.cache/torch/hub/hub.zip\n",
            "Downloading: \"https://dl.fbaipublicfiles.com/gan_zoo/PGAN/celebaHQ16_december_s7_i96000-9c72988c.pth\" to /root/.cache/torch/hub/checkpoints/celebaHQ16_december_s7_i96000-9c72988c.pth\n"
          ]
        },
        {
          "output_type": "display_data",
          "data": {
            "application/vnd.jupyter.widget-view+json": {
              "model_id": "5b6cb9825a794bae88afff4aeaaddda7",
              "version_minor": 0,
              "version_major": 2
            },
            "text/plain": [
              "  0%|          | 0.00/264M [00:00<?, ?B/s]"
            ]
          },
          "metadata": {}
        },
        {
          "output_type": "stream",
          "name": "stdout",
          "text": [
            "Average network found !\n"
          ]
        }
      ]
    },
    {
      "cell_type": "code",
      "metadata": {
        "colab": {
          "base_uri": "https://localhost:8080/",
          "height": 136
        },
        "id": "1AF5Uw1CEaHb",
        "outputId": "e032dc58-d54e-4ec1-94b4-73ced046bcb1"
      },
      "source": [
        "num_images = 16\n",
        "# noise, _ = model.buildNoiseData(num_images, inputlabels)\n",
        "\n",
        "noise, _ = model.buildNoiseData(num_images)\n",
        "with torch.no_grad():\n",
        "    generated_images = model.test(noise)\n",
        "\n",
        "# let's plot these images using torchvision and matplotlib\n",
        "import matplotlib.pyplot as plt\n",
        "import torchvision\n",
        "grid = torchvision.utils.make_grid(generated_images.clamp(min=-1, max=1), scale_each=True, normalize=True)\n",
        "plt.imshow(grid.permute(1, 2, 0).cpu().numpy())\n",
        "plt.show()"
      ],
      "execution_count": null,
      "outputs": [
        {
          "output_type": "display_data",
          "data": {
            "image/png": "[encoded data removed]",
            "text/plain": [
              "<Figure size 432x288 with 1 Axes>"
            ]
          },
          "metadata": {
            "needs_background": "light"
          }
        }
      ]
    },
    {
      "cell_type": "markdown",
      "metadata": {
        "id": "4iYexcVIJZY9"
      },
      "source": [
        "## Creazione dataset torch like\n"
      ]
    },
    {
      "cell_type": "code",
      "metadata": {
        "colab": {
          "base_uri": "https://localhost:8080/"
        },
        "id": "KtHmK2k_JOhN",
        "outputId": "a8c4386b-34bf-4738-fb32-cfa9940cb449"
      },
      "source": [
        "# FAIRFACE CLONE\n",
        "\n",
        "import os\n",
        "\n",
        "!git clone https://github.com/Andribi/A2MF_AP.git"
      ],
      "execution_count": 1,
      "outputs": [
        {
          "output_type": "stream",
          "name": "stdout",
          "text": [
            "Cloning into 'A2MF_AP'...\n",
            "remote: Enumerating objects: 241738, done.\u001b[K\n",
            "remote: Counting objects: 100% (46614/46614), done.\u001b[K\n",
            "remote: Compressing objects: 100% (46607/46607), done.\u001b[K\n",
            "remote: Total 241738 (delta 24), reused 46585 (delta 7), pack-reused 195124\n",
            "Receiving objects: 100% (241738/241738), 2.13 GiB | 28.17 MiB/s, done.\n",
            "Resolving deltas: 100% (41/41), done.\n",
            "Checking out files: 100% (242751/242751), done.\n"
          ]
        }
      ]
    },
    {
      "cell_type": "code",
      "metadata": {
        "colab": {
          "base_uri": "https://localhost:8080/"
        },
        "id": "JjVE0T9ieej5",
        "outputId": "579792c8-f85b-4dc1-f207-53eac217a581"
      },
      "source": [
        "# FACEBOOK PGAN CLONE\n",
        "!git clone https://github.com/facebookresearch/pytorch_GAN_zoo.git"
      ],
      "execution_count": 2,
      "outputs": [
        {
          "output_type": "stream",
          "name": "stdout",
          "text": [
            "Cloning into 'pytorch_GAN_zoo'...\n",
            "remote: Enumerating objects: 1523, done.\u001b[K\n",
            "remote: Counting objects: 100% (28/28), done.\u001b[K\n",
            "remote: Compressing objects: 100% (24/24), done.\u001b[K\n",
            "remote: Total 1523 (delta 17), reused 13 (delta 4), pack-reused 1495\u001b[K\n",
            "Receiving objects: 100% (1523/1523), 2.06 MiB | 7.64 MiB/s, done.\n",
            "Resolving deltas: 100% (977/977), done.\n"
          ]
        }
      ]
    },
    {
      "cell_type": "code",
      "metadata": {
        "colab": {
          "base_uri": "https://localhost:8080/"
        },
        "id": "gHN21zB3C2eg",
        "outputId": "c0c29ef3-b2d0-4deb-906f-32cf2368c665"
      },
      "source": [
        "from google.colab import drive\n",
        "drive.mount('/content/drive')"
      ],
      "execution_count": 3,
      "outputs": [
        {
          "output_type": "stream",
          "name": "stdout",
          "text": [
            "Mounted at /content/drive\n"
          ]
        }
      ]
    },
    {
      "cell_type": "code",
      "metadata": {
        "id": "5neG9nrbnt6N"
      },
      "source": [
        "import torch\n",
        "use_gpu = True if torch.cuda.is_available() else False"
      ],
      "execution_count": 30,
      "outputs": []
    },
    {
      "cell_type": "code",
      "metadata": {
        "id": "foGE2Mx2iBRl"
      },
      "source": [
        "# GLOBAL VARS\n",
        "\n",
        "UTKFACE_LABELS_PATH = '/content/A2MF_AP/UTKFace/utkface.json'\n",
        "UTKFACE_PATH = '/content/A2MF_AP/UTKFace/utkface'\n",
        "UTKFACE_SK_PATH = '/content/A2MF_AP/UTKFace/utkface_sk'\n",
        "\n",
        "# FAIRFACE_PATH = \"/content/A2MF_AP/fairface/\"\n",
        "# ATTRIB_DICT_PATH = \"/content/drive/MyDrive/train_attr.json\""
      ],
      "execution_count": 4,
      "outputs": []
    },
    {
      "cell_type": "code",
      "metadata": {
        "id": "oRDFjVJH5lds"
      },
      "source": [
        "# IMPORTS\n",
        "\n",
        "import os \n",
        "import pandas as pd \n",
        "import matplotlib.pyplot as plt\n",
        "import json \n",
        "import numpy as np"
      ],
      "execution_count": 5,
      "outputs": []
    },
    {
      "cell_type": "code",
      "metadata": {
        "id": "gQz2ka58iWc0",
        "colab": {
          "base_uri": "https://localhost:8080/",
          "height": 206
        },
        "outputId": "eef0f76e-73b5-4a90-9b96-d608d820d625"
      },
      "source": [
        "# CREATE DATAFRAME\n",
        "\n",
        "with open(UTKFACE_LABELS_PATH) as utkface:\n",
        "    utkface_dict = json.load(utkface)\n",
        "\n",
        "utkface_df = pd.DataFrame.from_dict(utkface_dict, orient='index')\n",
        "utkface_df.head(5)"
      ],
      "execution_count": 109,
      "outputs": [
        {
          "output_type": "execute_result",
          "data": {
            "text/html": [
              "<div>\n",
              "<style scoped>\n",
              "    .dataframe tbody tr th:only-of-type {\n",
              "        vertical-align: middle;\n",
              "    }\n",
              "\n",
              "    .dataframe tbody tr th {\n",
              "        vertical-align: top;\n",
              "    }\n",
              "\n",
              "    .dataframe thead th {\n",
              "        text-align: right;\n",
              "    }\n",
              "</style>\n",
              "<table border=\"1\" class=\"dataframe\">\n",
              "  <thead>\n",
              "    <tr style=\"text-align: right;\">\n",
              "      <th></th>\n",
              "      <th>age</th>\n",
              "      <th>gender</th>\n",
              "      <th>race</th>\n",
              "    </tr>\n",
              "  </thead>\n",
              "  <tbody>\n",
              "    <tr>\n",
              "      <th>100_0_0_20170112213500903.jpg.chip.jpg</th>\n",
              "      <td>100</td>\n",
              "      <td>0</td>\n",
              "      <td>0.0</td>\n",
              "    </tr>\n",
              "    <tr>\n",
              "      <th>100_0_0_20170112215240346.jpg.chip.jpg</th>\n",
              "      <td>100</td>\n",
              "      <td>0</td>\n",
              "      <td>0.0</td>\n",
              "    </tr>\n",
              "    <tr>\n",
              "      <th>100_1_0_20170110183726390.jpg.chip.jpg</th>\n",
              "      <td>100</td>\n",
              "      <td>1</td>\n",
              "      <td>0.0</td>\n",
              "    </tr>\n",
              "    <tr>\n",
              "      <th>100_1_0_20170112213001988.jpg.chip.jpg</th>\n",
              "      <td>100</td>\n",
              "      <td>1</td>\n",
              "      <td>0.0</td>\n",
              "    </tr>\n",
              "    <tr>\n",
              "      <th>100_1_0_20170112213303693.jpg.chip.jpg</th>\n",
              "      <td>100</td>\n",
              "      <td>1</td>\n",
              "      <td>0.0</td>\n",
              "    </tr>\n",
              "  </tbody>\n",
              "</table>\n",
              "</div>"
            ],
            "text/plain": [
              "                                        age  gender  race\n",
              "100_0_0_20170112213500903.jpg.chip.jpg  100       0   0.0\n",
              "100_0_0_20170112215240346.jpg.chip.jpg  100       0   0.0\n",
              "100_1_0_20170110183726390.jpg.chip.jpg  100       1   0.0\n",
              "100_1_0_20170112213001988.jpg.chip.jpg  100       1   0.0\n",
              "100_1_0_20170112213303693.jpg.chip.jpg  100       1   0.0"
            ]
          },
          "metadata": {},
          "execution_count": 109
        }
      ]
    },
    {
      "cell_type": "code",
      "metadata": {
        "colab": {
          "base_uri": "https://localhost:8080/"
        },
        "id": "38maChxYtRUC",
        "outputId": "653b91e3-3160-4693-b4b7-cf15ada4cbfb"
      },
      "source": [
        "# MISSING VALUES\n",
        "\n",
        "print('Percentage of missing values:', round((utkface_df.isna().sum().sum() / utkface_df.shape[0]) * 100 , 2), '%')\n",
        "nan_vals = utkface_df[utkface_df.isna().any(axis=1)]\n",
        "utkface_df = utkface_df.dropna()\n",
        "print('Percentage of missing values after drop:', round((utkface_df.isna().sum().sum() / utkface_df.shape[0]) * 100 , 2), '%')"
      ],
      "execution_count": 110,
      "outputs": [
        {
          "output_type": "stream",
          "name": "stdout",
          "text": [
            "Percentage of missing values: 0.01 %\n",
            "Percentage of missing values after drop: 0.0 %\n"
          ]
        }
      ]
    },
    {
      "cell_type": "code",
      "metadata": {
        "id": "HFzdVSpna5fM"
      },
      "source": [
        "# AGE CLASSES\n",
        "\n",
        "utkface_df['race'] = utkface_df['race'].apply(np.int64)\n",
        "utkface_df.loc[utkface_df.age < 15, 'age'] = 0\n",
        "utkface_df.loc[((utkface_df.age >= 15) & (utkface_df.age <25)), 'age'] = 1\n",
        "utkface_df.loc[((utkface_df.age >= 25) & (utkface_df.age <65)), 'age'] = 2\n",
        "utkface_df.loc[((utkface_df.age >= 65) & (utkface_df.age <85)), 'age'] = 3\n",
        "utkface_df.loc[utkface_df.age >= 85, 'age'] = 4"
      ],
      "execution_count": 111,
      "outputs": []
    },
    {
      "cell_type": "code",
      "metadata": {
        "id": "u4tPaFPmabIU",
        "outputId": "4711dc42-13d8-446e-efc9-8ffbecc36b21",
        "colab": {
          "base_uri": "https://localhost:8080/",
          "height": 300
        }
      },
      "source": [
        "utkface_df.describe()"
      ],
      "execution_count": 112,
      "outputs": [
        {
          "output_type": "execute_result",
          "data": {
            "text/html": [
              "<div>\n",
              "<style scoped>\n",
              "    .dataframe tbody tr th:only-of-type {\n",
              "        vertical-align: middle;\n",
              "    }\n",
              "\n",
              "    .dataframe tbody tr th {\n",
              "        vertical-align: top;\n",
              "    }\n",
              "\n",
              "    .dataframe thead th {\n",
              "        text-align: right;\n",
              "    }\n",
              "</style>\n",
              "<table border=\"1\" class=\"dataframe\">\n",
              "  <thead>\n",
              "    <tr style=\"text-align: right;\">\n",
              "      <th></th>\n",
              "      <th>age</th>\n",
              "      <th>gender</th>\n",
              "      <th>race</th>\n",
              "    </tr>\n",
              "  </thead>\n",
              "  <tbody>\n",
              "    <tr>\n",
              "      <th>count</th>\n",
              "      <td>23669.000000</td>\n",
              "      <td>23669.000000</td>\n",
              "      <td>23669.000000</td>\n",
              "    </tr>\n",
              "    <tr>\n",
              "      <th>mean</th>\n",
              "      <td>1.656175</td>\n",
              "      <td>0.477587</td>\n",
              "      <td>1.269678</td>\n",
              "    </tr>\n",
              "    <tr>\n",
              "      <th>std</th>\n",
              "      <td>0.878160</td>\n",
              "      <td>0.499508</td>\n",
              "      <td>1.345623</td>\n",
              "    </tr>\n",
              "    <tr>\n",
              "      <th>min</th>\n",
              "      <td>0.000000</td>\n",
              "      <td>0.000000</td>\n",
              "      <td>0.000000</td>\n",
              "    </tr>\n",
              "    <tr>\n",
              "      <th>25%</th>\n",
              "      <td>1.000000</td>\n",
              "      <td>0.000000</td>\n",
              "      <td>0.000000</td>\n",
              "    </tr>\n",
              "    <tr>\n",
              "      <th>50%</th>\n",
              "      <td>2.000000</td>\n",
              "      <td>0.000000</td>\n",
              "      <td>1.000000</td>\n",
              "    </tr>\n",
              "    <tr>\n",
              "      <th>75%</th>\n",
              "      <td>2.000000</td>\n",
              "      <td>1.000000</td>\n",
              "      <td>2.000000</td>\n",
              "    </tr>\n",
              "    <tr>\n",
              "      <th>max</th>\n",
              "      <td>4.000000</td>\n",
              "      <td>1.000000</td>\n",
              "      <td>4.000000</td>\n",
              "    </tr>\n",
              "  </tbody>\n",
              "</table>\n",
              "</div>"
            ],
            "text/plain": [
              "                age        gender          race\n",
              "count  23669.000000  23669.000000  23669.000000\n",
              "mean       1.656175      0.477587      1.269678\n",
              "std        0.878160      0.499508      1.345623\n",
              "min        0.000000      0.000000      0.000000\n",
              "25%        1.000000      0.000000      0.000000\n",
              "50%        2.000000      0.000000      1.000000\n",
              "75%        2.000000      1.000000      2.000000\n",
              "max        4.000000      1.000000      4.000000"
            ]
          },
          "metadata": {},
          "execution_count": 112
        }
      ]
    },
    {
      "cell_type": "code",
      "metadata": {
        "colab": {
          "base_uri": "https://localhost:8080/",
          "height": 826
        },
        "id": "hH7XfD1JhqoG",
        "outputId": "06a76d27-40bf-4a79-c91c-7d9bebe28a4c"
      },
      "source": [
        "# DISTRIBUTIONS\n",
        "\n",
        "print('Total number of images in UTK_Face: ' + str(utkface_df.shape[0]))\n",
        "\n",
        "age = utkface_df[\"age\"].astype(int).sort_values()\n",
        "age_bins=len(age.value_counts())\n",
        "\n",
        "gender = utkface_df[\"gender\"].astype(int).sort_values()\n",
        "gender_bins=len(gender.value_counts())\n",
        "\n",
        "race = utkface_df[\"race\"].astype(int).sort_values()\n",
        "race_bins=len(race.value_counts())\n",
        "\n",
        "age.hist(bins=age_bins, figsize=[8,4], xrot=90, edgecolor='steelblue', linewidth=1, grid=False, alpha=0.5, legend=True)\n",
        "plt.title('Age distribution')\n",
        "plt.show()\n",
        "\n",
        "gender.hist(bins=gender_bins, figsize=[8,4], xrot=90, edgecolor='orange', linewidth=1, grid=False, alpha=0.5, legend=True, color='yellow')\n",
        "plt.title('Gender distribution')\n",
        "plt.xticks(np.arange(0, 2, step=1))\n",
        "plt.show()\n",
        "\n",
        "race.hist(bins=race_bins, figsize=[8,4], xrot=90, edgecolor='red', linewidth=1, grid=False, alpha=0.5, legend=True, color='orchid')\n",
        "plt.xticks(np.arange(0, 5, step=1))\n",
        "plt.title('Race distribution')\n",
        "plt.show()"
      ],
      "execution_count": 113,
      "outputs": [
        {
          "output_type": "stream",
          "name": "stdout",
          "text": [
            "Total number of images in UTK_Face: 23669\n"
          ]
        },
        {
          "output_type": "display_data",
          "data": {
            "image/png": "[encoded data removed]",
            "text/plain": [
              "<Figure size 576x288 with 1 Axes>"
            ]
          },
          "metadata": {
            "needs_background": "light"
          }
        },
        {
          "output_type": "display_data",
          "data": {
            "image/png": "[encoded data removed]",
            "text/plain": [
              "<Figure size 576x288 with 1 Axes>"
            ]
          },
          "metadata": {
            "needs_background": "light"
          }
        },
        {
          "output_type": "display_data",
          "data": {
            "image/png": "[encoded data removed]",
            "text/plain": [
              "<Figure size 576x288 with 1 Axes>"
            ]
          },
          "metadata": {
            "needs_background": "light"
          }
        }
      ]
    },
    {
      "cell_type": "code",
      "metadata": {
        "id": "ny1y3rxjGiXW",
        "outputId": "bc9cb063-f0e9-4922-b6de-bb5b62532f5c",
        "colab": {
          "base_uri": "https://localhost:8080/",
          "height": 226
        }
      },
      "source": [
        "# ONE HOT ENCODING\n",
        "\n",
        "utkface_df = pd.get_dummies(utkface_df, columns=[\"age\", \"gender\", \"race\"], dtype=float)\n",
        "utkface_df.head(5)"
      ],
      "execution_count": 114,
      "outputs": [
        {
          "output_type": "execute_result",
          "data": {
            "text/html": [
              "<div>\n",
              "<style scoped>\n",
              "    .dataframe tbody tr th:only-of-type {\n",
              "        vertical-align: middle;\n",
              "    }\n",
              "\n",
              "    .dataframe tbody tr th {\n",
              "        vertical-align: top;\n",
              "    }\n",
              "\n",
              "    .dataframe thead th {\n",
              "        text-align: right;\n",
              "    }\n",
              "</style>\n",
              "<table border=\"1\" class=\"dataframe\">\n",
              "  <thead>\n",
              "    <tr style=\"text-align: right;\">\n",
              "      <th></th>\n",
              "      <th>age_0</th>\n",
              "      <th>age_1</th>\n",
              "      <th>age_2</th>\n",
              "      <th>age_3</th>\n",
              "      <th>age_4</th>\n",
              "      <th>gender_0</th>\n",
              "      <th>gender_1</th>\n",
              "      <th>race_0</th>\n",
              "      <th>race_1</th>\n",
              "      <th>race_2</th>\n",
              "      <th>race_3</th>\n",
              "      <th>race_4</th>\n",
              "    </tr>\n",
              "  </thead>\n",
              "  <tbody>\n",
              "    <tr>\n",
              "      <th>100_0_0_20170112213500903.jpg.chip.jpg</th>\n",
              "      <td>0.0</td>\n",
              "      <td>0.0</td>\n",
              "      <td>0.0</td>\n",
              "      <td>0.0</td>\n",
              "      <td>1.0</td>\n",
              "      <td>1.0</td>\n",
              "      <td>0.0</td>\n",
              "      <td>1.0</td>\n",
              "      <td>0.0</td>\n",
              "      <td>0.0</td>\n",
              "      <td>0.0</td>\n",
              "      <td>0.0</td>\n",
              "    </tr>\n",
              "    <tr>\n",
              "      <th>100_0_0_20170112215240346.jpg.chip.jpg</th>\n",
              "      <td>0.0</td>\n",
              "      <td>0.0</td>\n",
              "      <td>0.0</td>\n",
              "      <td>0.0</td>\n",
              "      <td>1.0</td>\n",
              "      <td>1.0</td>\n",
              "      <td>0.0</td>\n",
              "      <td>1.0</td>\n",
              "      <td>0.0</td>\n",
              "      <td>0.0</td>\n",
              "      <td>0.0</td>\n",
              "      <td>0.0</td>\n",
              "    </tr>\n",
              "    <tr>\n",
              "      <th>100_1_0_20170110183726390.jpg.chip.jpg</th>\n",
              "      <td>0.0</td>\n",
              "      <td>0.0</td>\n",
              "      <td>0.0</td>\n",
              "      <td>0.0</td>\n",
              "      <td>1.0</td>\n",
              "      <td>0.0</td>\n",
              "      <td>1.0</td>\n",
              "      <td>1.0</td>\n",
              "      <td>0.0</td>\n",
              "      <td>0.0</td>\n",
              "      <td>0.0</td>\n",
              "      <td>0.0</td>\n",
              "    </tr>\n",
              "    <tr>\n",
              "      <th>100_1_0_20170112213001988.jpg.chip.jpg</th>\n",
              "      <td>0.0</td>\n",
              "      <td>0.0</td>\n",
              "      <td>0.0</td>\n",
              "      <td>0.0</td>\n",
              "      <td>1.0</td>\n",
              "      <td>0.0</td>\n",
              "      <td>1.0</td>\n",
              "      <td>1.0</td>\n",
              "      <td>0.0</td>\n",
              "      <td>0.0</td>\n",
              "      <td>0.0</td>\n",
              "      <td>0.0</td>\n",
              "    </tr>\n",
              "    <tr>\n",
              "      <th>100_1_0_20170112213303693.jpg.chip.jpg</th>\n",
              "      <td>0.0</td>\n",
              "      <td>0.0</td>\n",
              "      <td>0.0</td>\n",
              "      <td>0.0</td>\n",
              "      <td>1.0</td>\n",
              "      <td>0.0</td>\n",
              "      <td>1.0</td>\n",
              "      <td>1.0</td>\n",
              "      <td>0.0</td>\n",
              "      <td>0.0</td>\n",
              "      <td>0.0</td>\n",
              "      <td>0.0</td>\n",
              "    </tr>\n",
              "  </tbody>\n",
              "</table>\n",
              "</div>"
            ],
            "text/plain": [
              "                                        age_0  age_1  ...  race_3  race_4\n",
              "100_0_0_20170112213500903.jpg.chip.jpg    0.0    0.0  ...     0.0     0.0\n",
              "100_0_0_20170112215240346.jpg.chip.jpg    0.0    0.0  ...     0.0     0.0\n",
              "100_1_0_20170110183726390.jpg.chip.jpg    0.0    0.0  ...     0.0     0.0\n",
              "100_1_0_20170112213001988.jpg.chip.jpg    0.0    0.0  ...     0.0     0.0\n",
              "100_1_0_20170112213303693.jpg.chip.jpg    0.0    0.0  ...     0.0     0.0\n",
              "\n",
              "[5 rows x 12 columns]"
            ]
          },
          "metadata": {},
          "execution_count": 114
        }
      ]
    },
    {
      "cell_type": "code",
      "metadata": {
        "id": "dWmmvRnactws"
      },
      "source": [
        "UTKFACE_JSON_PATH = '/content/A2MF_AP/UTKFace/utkface.json'\n",
        "utkface_df.to_json(UTKFACE_JSON_PATH, 'index')"
      ],
      "execution_count": 128,
      "outputs": []
    },
    {
      "cell_type": "code",
      "metadata": {
        "id": "6jKVf2259vT6",
        "colab": {
          "base_uri": "https://localhost:8080/"
        },
        "outputId": "0f91adcb-ce50-4a64-9538-83e7a3717baf"
      },
      "source": [
        "# DATASET SPLIT\n",
        "\n",
        "from sklearn.model_selection import train_test_split\n",
        "\n",
        "X_train, X_test = train_test_split(utkface_df, test_size=0.35)\n",
        "\n",
        "print('Training samples number:', X_train.shape[0])\n",
        "print('Testing samples number: ', X_test.shape[0])"
      ],
      "execution_count": 129,
      "outputs": [
        {
          "output_type": "stream",
          "name": "stdout",
          "text": [
            "Training samples number: 15384\n",
            "Testing samples number:  8285\n"
          ]
        }
      ]
    },
    {
      "cell_type": "markdown",
      "metadata": {
        "id": "nNK1k2ldmKDK"
      },
      "source": [
        "## Age Race Gender Recognition\n",
        "\n",
        "Source: https://coursys.sfu.ca/2020sp-cmpt-726-x1/pages/ARG_report/view\n"
      ]
    },
    {
      "cell_type": "code",
      "metadata": {
        "id": "qtbDR14tmz3R",
        "colab": {
          "base_uri": "https://localhost:8080/"
        },
        "outputId": "3aa5b8c9-f6c4-4019-a4bf-9cf01e253743"
      },
      "source": [
        "! git clone https://github.com/pagand/CMPT726.git"
      ],
      "execution_count": null,
      "outputs": [
        {
          "output_type": "stream",
          "name": "stdout",
          "text": [
            "Cloning into 'CMPT726'...\n",
            "remote: Enumerating objects: 203, done.\u001b[K\n",
            "remote: Counting objects: 100% (87/87), done.\u001b[K\n",
            "remote: Compressing objects: 100% (84/84), done.\u001b[K\n",
            "remote: Total 203 (delta 42), reused 2 (delta 1), pack-reused 116\u001b[K\n",
            "Receiving objects: 100% (203/203), 101.86 KiB | 3.64 MiB/s, done.\n",
            "Resolving deltas: 100% (91/91), done.\n"
          ]
        }
      ]
    },
    {
      "cell_type": "markdown",
      "metadata": {
        "id": "-ToA1cOr4Ol5"
      },
      "source": [
        "Source: https://github.com/Sobika2531/Age-Gender-And-Race-Detection-Using-CNN/blob/main/AGRdetector.ipynb"
      ]
    },
    {
      "cell_type": "code",
      "metadata": {
        "id": "tKNnymS_tVSo",
        "colab": {
          "base_uri": "https://localhost:8080/",
          "height": 1000
        },
        "outputId": "ca93835f-f132-4f1d-fcb2-61e965ad47b1"
      },
      "source": [
        "from keras.layers import Input, Dense, BatchNormalization, Conv2D, MaxPool2D, GlobalMaxPool2D, Dropout\n",
        "from keras.models import Model\n",
        "from tensorflow.keras.utils import plot_model\n",
        "\n",
        "\n",
        "ID_GENDER_MAP = {0: 'male', 1: 'female'}\n",
        "GENDER_ID_MAP = dict((g, i) for i, g in ID_GENDER_MAP.items())\n",
        "ID_RACE_MAP = {0: 'white', 1: 'black', 2: 'asian', 3: 'indian', 4: 'others'}\n",
        "RACE_ID_MAP = dict((r, i) for i, r in ID_RACE_MAP.items())\n",
        "ID_AGE_MAP = {0: 'children', 1: 'young', 2:'adult', 3:'senior', 4:'old'}\n",
        "AGE_ID_MAP = dict((a, i) for i, a in ID_AGE_MAP.items())\n",
        "\n",
        "def conv_block(inp, filters=32, bn=True, pool=True):\n",
        "    _ = Conv2D(filters=filters, kernel_size=3, activation='relu', padding='same')(inp)\n",
        "    if bn:\n",
        "        _ = BatchNormalization()(_)\n",
        "    if pool:\n",
        "        _ = MaxPool2D()(_)\n",
        "    return _\n",
        "\n",
        "input_layer = Input(shape=(200, 200, 3))\n",
        "_ = conv_block(input_layer, filters=32, bn=False, pool=False)\n",
        "_ = conv_block(_, filters=32*2)\n",
        "_ = conv_block(_, filters=32*3)\n",
        "_ = conv_block(_, filters=32*4)\n",
        "_ = conv_block(_, filters=32*5)\n",
        "_ = conv_block(_, filters=32*6)\n",
        "bottleneck = GlobalMaxPool2D()(_)\n",
        "\n",
        "# age no categorical \n",
        "#_ = Dense(units=128, activation='relu')(bottleneck)\n",
        "#age_output = Dense(units=1, activation='sigmoid', name='age_output')(_)\n",
        "\n",
        "\n",
        "# for age calculation\n",
        "_ = Dense(units=128, activation='relu')(bottleneck)\n",
        "age_output = Dense(units=len(AGE_ID_MAP), activation='softmax', name='age_output')(_)\n",
        "\n",
        "# for race prediction\n",
        "_ = Dense(units=128, activation='relu')(bottleneck)\n",
        "race_output = Dense(units=len(RACE_ID_MAP), activation='softmax', name='race_output')(_)\n",
        "\n",
        "# for gender prediction\n",
        "_ = Dense(units=128, activation='relu')(bottleneck)\n",
        "gender_output = Dense(units=len(GENDER_ID_MAP), activation='softmax', name='gender_output')(_)\n",
        "\n",
        "model = Model(inputs=input_layer, outputs=[age_output, race_output, gender_output])\n",
        "model.compile(optimizer='rmsprop', \n",
        "              loss={'age_output': 'categorical_crossentropy', 'race_output': 'categorical_crossentropy', 'gender_output': 'categorical_crossentropy'},\n",
        "              loss_weights={'age_output': 1.5, 'race_output': 1.5, 'gender_output': 1.},\n",
        "              metrics={'age_output': 'accuracy', 'race_output': 'accuracy', 'gender_output': 'accuracy'})\n",
        "#model.summary()\n",
        "plot_model(model, \"model.png\")\n"
      ],
      "execution_count": null,
      "outputs": [
        {
          "output_type": "execute_result",
          "data": {
            "image/png": "[encoded data removed]",
            "text/plain": [
              "<IPython.core.display.Image object>"
            ]
          },
          "metadata": {},
          "execution_count": 49
        }
      ]
    },
    {
      "cell_type": "code",
      "metadata": {
        "id": "t26SSTsxzu-A"
      },
      "source": [
        "from tensorflow.keras.utils import to_categorical\n",
        "from PIL import Image\n",
        "from pathlib import Path\n",
        "\n",
        "def map_ages(age):\n",
        "  if age <= 14:\n",
        "    age = 0.0 # children\n",
        "  elif age <= 24:\n",
        "    age = 1.0 # young\n",
        "  elif age <= 64:\n",
        "    age = 2.0 # adult\n",
        "  elif age <= 84:\n",
        "    age = 3.0 # senior\n",
        "  else:\n",
        "    age = 4.0 # old\n",
        "  return age \n",
        "\n",
        "\n",
        "def get_data_generator(df, for_training, batch_size=16):\n",
        "    images, ages, genders, races = [], [], [], []\n",
        "    while True:\n",
        "        for i in range(len(df)):\n",
        "            r = df.iloc[i]\n",
        "            file, age, gender, race = r.name, r['age'], r['gender'],  r['race']\n",
        "            \n",
        "            path = Path(UTKFACE_PATH, file)\n",
        "            im = Image.open(str(path))\n",
        "            # im = im.resize((200, 200))\n",
        "            im = np.array(im) / 255.0\n",
        "            age = map_ages(age)\n",
        "            images.append(im)\n",
        "            ages.append(to_categorical(age, 5))\n",
        "            races.append(to_categorical(race, len(RACE_ID_MAP)))\n",
        "            genders.append(to_categorical(gender, 2))\n",
        "            if len(images) >= batch_size:\n",
        "                yield np.array(images), [np.array(ages), np.array(races), np.array(genders)]\n",
        "                images, ages, races, genders = [], [], [], []\n",
        "        if not for_training:\n",
        "            break"
      ],
      "execution_count": null,
      "outputs": []
    },
    {
      "cell_type": "code",
      "metadata": {
        "id": "g9CllP9kvxOf",
        "colab": {
          "base_uri": "https://localhost:8080/"
        },
        "outputId": "0af12f3c-ecb9-4205-ac84-cda3a2650c8e"
      },
      "source": [
        "from keras.callbacks import ModelCheckpoint\n",
        "from tensorflow import keras\n",
        "\n",
        "batch_size = 16\n",
        "valid_batch_size = 16\n",
        "train_gen = get_data_generator(X_train, for_training=True, batch_size=batch_size)\n",
        "valid_gen = get_data_generator(X_test, for_training=True, batch_size=valid_batch_size)\n",
        "\n",
        "callbacks = [ModelCheckpoint(\"/content/drive/MyDrive/AGR_recognition/model_checkpoint\", monitor='val_loss')]\n",
        "\n",
        "history = model.fit(train_gen,\n",
        "                    epochs=10,\n",
        "                    steps_per_epoch=64,\n",
        "                    callbacks=callbacks,\n",
        "                    validation_data=valid_gen,\n",
        "                    validation_steps=len(X_test)//valid_batch_size)"
      ],
      "execution_count": null,
      "outputs": [
        {
          "output_type": "stream",
          "name": "stdout",
          "text": [
            "Epoch 1/10\n",
            "64/64 [==============================] - ETA: 0s - loss: 5.9136 - age_output_loss: 1.4177 - race_output_loss: 1.8054 - gender_output_loss: 1.0790 - age_output_accuracy: 0.5566 - race_output_accuracy: 0.4062 - gender_output_accuracy: 0.5430INFO:tensorflow:Assets written to: /content/drive/MyDrive/AGR_recognition/model_checkpoint/assets\n",
            "64/64 [==============================] - 962s 15s/step - loss: 5.9136 - age_output_loss: 1.4177 - race_output_loss: 1.8054 - gender_output_loss: 1.0790 - age_output_accuracy: 0.5566 - race_output_accuracy: 0.4062 - gender_output_accuracy: 0.5430 - val_loss: 5.3615 - val_age_output_loss: 1.3151 - val_race_output_loss: 1.7386 - val_gender_output_loss: 0.7809 - val_age_output_accuracy: 0.5581 - val_race_output_accuracy: 0.3447 - val_gender_output_accuracy: 0.4483\n",
            "Epoch 2/10\n",
            "64/64 [==============================] - ETA: 0s - loss: 4.7657 - age_output_loss: 1.1454 - race_output_loss: 1.4965 - gender_output_loss: 0.8028 - age_output_accuracy: 0.6211 - race_output_accuracy: 0.4121 - gender_output_accuracy: 0.5527INFO:tensorflow:Assets written to: /content/drive/MyDrive/AGR_recognition/model_checkpoint/assets\n",
            "64/64 [==============================] - 944s 15s/step - loss: 4.7657 - age_output_loss: 1.1454 - race_output_loss: 1.4965 - gender_output_loss: 0.8028 - age_output_accuracy: 0.6211 - race_output_accuracy: 0.4121 - gender_output_accuracy: 0.5527 - val_loss: 5.3797 - val_age_output_loss: 1.3787 - val_race_output_loss: 1.7408 - val_gender_output_loss: 0.7004 - val_age_output_accuracy: 0.6333 - val_race_output_accuracy: 0.4284 - val_gender_output_accuracy: 0.5455\n",
            "Epoch 3/10\n",
            "64/64 [==============================] - ETA: 0s - loss: 4.6348 - age_output_loss: 1.1584 - race_output_loss: 1.4249 - gender_output_loss: 0.7598 - age_output_accuracy: 0.5713 - race_output_accuracy: 0.4414 - gender_output_accuracy: 0.5674INFO:tensorflow:Assets written to: /content/drive/MyDrive/AGR_recognition/model_checkpoint/assets\n",
            "64/64 [==============================] - 973s 15s/step - loss: 4.6348 - age_output_loss: 1.1584 - race_output_loss: 1.4249 - gender_output_loss: 0.7598 - age_output_accuracy: 0.5713 - race_output_accuracy: 0.4414 - gender_output_accuracy: 0.5674 - val_loss: 5.5472 - val_age_output_loss: 1.1930 - val_race_output_loss: 1.7114 - val_gender_output_loss: 1.1905 - val_age_output_accuracy: 0.5265 - val_race_output_accuracy: 0.4067 - val_gender_output_accuracy: 0.5243\n",
            "Epoch 4/10\n",
            "64/64 [==============================] - ETA: 0s - loss: 4.4058 - age_output_loss: 1.0628 - race_output_loss: 1.4255 - gender_output_loss: 0.6734 - age_output_accuracy: 0.6367 - race_output_accuracy: 0.4277 - gender_output_accuracy: 0.6182INFO:tensorflow:Assets written to: /content/drive/MyDrive/AGR_recognition/model_checkpoint/assets\n",
            "64/64 [==============================] - 961s 15s/step - loss: 4.4058 - age_output_loss: 1.0628 - race_output_loss: 1.4255 - gender_output_loss: 0.6734 - age_output_accuracy: 0.6367 - race_output_accuracy: 0.4277 - gender_output_accuracy: 0.6182 - val_loss: 4.5095 - val_age_output_loss: 1.1000 - val_race_output_loss: 1.4724 - val_gender_output_loss: 0.6510 - val_age_output_accuracy: 0.6586 - val_race_output_accuracy: 0.3866 - val_gender_output_accuracy: 0.6104\n",
            "Epoch 5/10\n",
            "64/64 [==============================] - ETA: 0s - loss: 4.3755 - age_output_loss: 1.1024 - race_output_loss: 1.3779 - gender_output_loss: 0.6551 - age_output_accuracy: 0.6182 - race_output_accuracy: 0.4541 - gender_output_accuracy: 0.6436INFO:tensorflow:Assets written to: /content/drive/MyDrive/AGR_recognition/model_checkpoint/assets\n",
            "64/64 [==============================] - 970s 15s/step - loss: 4.3755 - age_output_loss: 1.1024 - race_output_loss: 1.3779 - gender_output_loss: 0.6551 - age_output_accuracy: 0.6182 - race_output_accuracy: 0.4541 - gender_output_accuracy: 0.6436 - val_loss: 4.3441 - val_age_output_loss: 1.0737 - val_race_output_loss: 1.3707 - val_gender_output_loss: 0.6775 - val_age_output_accuracy: 0.6561 - val_race_output_accuracy: 0.4917 - val_gender_output_accuracy: 0.6223\n",
            "Epoch 6/10\n",
            "64/64 [==============================] - ETA: 0s - loss: 4.0828 - age_output_loss: 0.9956 - race_output_loss: 1.3270 - gender_output_loss: 0.5989 - age_output_accuracy: 0.6426 - race_output_accuracy: 0.4951 - gender_output_accuracy: 0.6807INFO:tensorflow:Assets written to: /content/drive/MyDrive/AGR_recognition/model_checkpoint/assets\n",
            "64/64 [==============================] - 961s 15s/step - loss: 4.0828 - age_output_loss: 0.9956 - race_output_loss: 1.3270 - gender_output_loss: 0.5989 - age_output_accuracy: 0.6426 - race_output_accuracy: 0.4951 - gender_output_accuracy: 0.6807 - val_loss: 5.1005 - val_age_output_loss: 1.5864 - val_race_output_loss: 1.3925 - val_gender_output_loss: 0.6321 - val_age_output_accuracy: 0.6337 - val_race_output_accuracy: 0.4564 - val_gender_output_accuracy: 0.6758\n",
            "Epoch 7/10\n",
            "64/64 [==============================] - ETA: 0s - loss: 3.9457 - age_output_loss: 0.9454 - race_output_loss: 1.3017 - gender_output_loss: 0.5751 - age_output_accuracy: 0.6748 - race_output_accuracy: 0.5049 - gender_output_accuracy: 0.6963INFO:tensorflow:Assets written to: /content/drive/MyDrive/AGR_recognition/model_checkpoint/assets\n",
            "64/64 [==============================] - 947s 15s/step - loss: 3.9457 - age_output_loss: 0.9454 - race_output_loss: 1.3017 - gender_output_loss: 0.5751 - age_output_accuracy: 0.6748 - race_output_accuracy: 0.5049 - gender_output_accuracy: 0.6963 - val_loss: 5.1666 - val_age_output_loss: 1.3077 - val_race_output_loss: 1.4901 - val_gender_output_loss: 0.9700 - val_age_output_accuracy: 0.5410 - val_race_output_accuracy: 0.4377 - val_gender_output_accuracy: 0.5256\n",
            "Epoch 8/10\n",
            "64/64 [==============================] - ETA: 0s - loss: 3.7897 - age_output_loss: 0.9077 - race_output_loss: 1.2402 - gender_output_loss: 0.5679 - age_output_accuracy: 0.6895 - race_output_accuracy: 0.5117 - gender_output_accuracy: 0.7207INFO:tensorflow:Assets written to: /content/drive/MyDrive/AGR_recognition/model_checkpoint/assets\n",
            "64/64 [==============================] - 938s 15s/step - loss: 3.7897 - age_output_loss: 0.9077 - race_output_loss: 1.2402 - gender_output_loss: 0.5679 - age_output_accuracy: 0.6895 - race_output_accuracy: 0.5117 - gender_output_accuracy: 0.7207 - val_loss: 4.1976 - val_age_output_loss: 1.0992 - val_race_output_loss: 1.3331 - val_gender_output_loss: 0.5493 - val_age_output_accuracy: 0.7010 - val_race_output_accuracy: 0.4956 - val_gender_output_accuracy: 0.7411\n",
            "Epoch 9/10\n",
            "64/64 [==============================] - ETA: 0s - loss: 3.6983 - age_output_loss: 0.9131 - race_output_loss: 1.2082 - gender_output_loss: 0.5163 - age_output_accuracy: 0.6836 - race_output_accuracy: 0.5430 - gender_output_accuracy: 0.7422INFO:tensorflow:Assets written to: /content/drive/MyDrive/AGR_recognition/model_checkpoint/assets\n",
            "64/64 [==============================] - 940s 15s/step - loss: 3.6983 - age_output_loss: 0.9131 - race_output_loss: 1.2082 - gender_output_loss: 0.5163 - age_output_accuracy: 0.6836 - race_output_accuracy: 0.5430 - gender_output_accuracy: 0.7422 - val_loss: 4.5961 - val_age_output_loss: 0.9221 - val_race_output_loss: 1.7984 - val_gender_output_loss: 0.5154 - val_age_output_accuracy: 0.6789 - val_race_output_accuracy: 0.2459 - val_gender_output_accuracy: 0.7483\n",
            "Epoch 10/10\n",
            "64/64 [==============================] - ETA: 0s - loss: 3.4082 - age_output_loss: 0.8212 - race_output_loss: 1.1255 - gender_output_loss: 0.4881 - age_output_accuracy: 0.7178 - race_output_accuracy: 0.5879 - gender_output_accuracy: 0.7695INFO:tensorflow:Assets written to: /content/drive/MyDrive/AGR_recognition/model_checkpoint/assets\n",
            "64/64 [==============================] - 931s 15s/step - loss: 3.4082 - age_output_loss: 0.8212 - race_output_loss: 1.1255 - gender_output_loss: 0.4881 - age_output_accuracy: 0.7178 - race_output_accuracy: 0.5879 - gender_output_accuracy: 0.7695 - val_loss: 4.2024 - val_age_output_loss: 1.1482 - val_race_output_loss: 1.3172 - val_gender_output_loss: 0.5043 - val_age_output_accuracy: 0.6639 - val_race_output_accuracy: 0.4648 - val_gender_output_accuracy: 0.7576\n"
          ]
        }
      ]
    },
    {
      "cell_type": "markdown",
      "metadata": {
        "id": "Vh3sIalL20nN"
      },
      "source": [
        "Source: https://github.com/wondonghyeon/face-classification/blob/master/train.ipynb"
      ]
    },
    {
      "cell_type": "code",
      "metadata": {
        "id": "tvrOWyf_vBas"
      },
      "source": [
        "# MLP CLASSIFIER \n",
        "from sklearn.neural_network import MLPClassifier\n",
        "\n",
        "clf = MLPClassifier(solver='adam', hidden_layer_sizes=(128, 128),max_iter = 5000, verbose=True, tol=1e-4, activation='relu')\n",
        "clf.fit(X_train)\n",
        "pred = clf.predict(X_test)\n",
        "score = clf.predict_proba(X_test)\n",
        "\n",
        "df_pred = pd.DataFrame(pred, columns=df_label.columns, index=Y_test.index)\n",
        "df_score = pd.DataFrame(score, columns=df_label.columns, index=Y_test.index)"
      ],
      "execution_count": null,
      "outputs": []
    },
    {
      "cell_type": "markdown",
      "metadata": {
        "id": "cDgggP-8L-at"
      },
      "source": [
        "Provare il classificatore MLP"
      ]
    },
    {
      "cell_type": "markdown",
      "metadata": {
        "id": "_BTuzMApjMr1"
      },
      "source": [
        "## PGAN"
      ]
    },
    {
      "cell_type": "code",
      "metadata": {
        "colab": {
          "base_uri": "https://localhost:8080/"
        },
        "id": "lnSEXGkoXuxU",
        "outputId": "3b0999f7-dd5b-406d-8997-61d064a80734"
      },
      "source": [
        "%cd /content/A2MF_AP/UTKFace"
      ],
      "execution_count": 130,
      "outputs": [
        {
          "output_type": "stream",
          "name": "stdout",
          "text": [
            "/content/A2MF_AP/UTKFace\n"
          ]
        }
      ]
    },
    {
      "cell_type": "code",
      "metadata": {
        "id": "Gs-FLztxPQIz"
      },
      "source": [
        "content = { \n",
        "    \"pathDB\": UTKFACE_PATH, \n",
        "    \"pathAttribDict\": UTKFACE_LABELS_PATH,\n",
        "    \"config\": {\n",
        "        \"maxIterAtScale\": [48000, 96000, 96000, 96000, 96000, 96000, 200000], \n",
        "        \"depthScales\": [256, 256, 256, 128, 64, 32, 16]\n",
        "        }\n",
        "    }\n",
        "\n",
        "with open('utkface_config.json', 'w') as outfile:\n",
        "    json.dump(content, outfile)"
      ],
      "execution_count": 131,
      "outputs": []
    },
    {
      "cell_type": "code",
      "metadata": {
        "colab": {
          "base_uri": "https://localhost:8080/"
        },
        "id": "3ovZttJcezuq",
        "outputId": "bb78dbd8-ff9c-49d8-ec5a-f3682ee49cf8"
      },
      "source": [
        "%cd /content/pytorch_GAN_zoo/\n",
        "!pip install -r /content/pytorch_GAN_zoo/requirements.txt"
      ],
      "execution_count": 132,
      "outputs": [
        {
          "output_type": "stream",
          "name": "stdout",
          "text": [
            "/content/pytorch_GAN_zoo\n",
            "Requirement already satisfied: numpy in /usr/local/lib/python3.7/dist-packages (from -r /content/pytorch_GAN_zoo/requirements.txt (line 1)) (1.19.5)\n",
            "Requirement already satisfied: scipy in /usr/local/lib/python3.7/dist-packages (from -r /content/pytorch_GAN_zoo/requirements.txt (line 2)) (1.4.1)\n",
            "Requirement already satisfied: visdom in /usr/local/lib/python3.7/dist-packages (from -r /content/pytorch_GAN_zoo/requirements.txt (line 3)) (0.1.8.9)\n",
            "Requirement already satisfied: h5py in /usr/local/lib/python3.7/dist-packages (from -r /content/pytorch_GAN_zoo/requirements.txt (line 4)) (3.1.0)\n",
            "Requirement already satisfied: nevergrad in /usr/local/lib/python3.7/dist-packages (from -r /content/pytorch_GAN_zoo/requirements.txt (line 5)) (0.4.3.post9)\n",
            "Requirement already satisfied: tornado in /usr/local/lib/python3.7/dist-packages (from visdom->-r /content/pytorch_GAN_zoo/requirements.txt (line 3)) (5.1.1)\n",
            "Requirement already satisfied: torchfile in /usr/local/lib/python3.7/dist-packages (from visdom->-r /content/pytorch_GAN_zoo/requirements.txt (line 3)) (0.1.0)\n",
            "Requirement already satisfied: pillow in /usr/local/lib/python3.7/dist-packages (from visdom->-r /content/pytorch_GAN_zoo/requirements.txt (line 3)) (7.1.2)\n",
            "Requirement already satisfied: websocket-client in /usr/local/lib/python3.7/dist-packages (from visdom->-r /content/pytorch_GAN_zoo/requirements.txt (line 3)) (1.2.1)\n",
            "Requirement already satisfied: pyzmq in /usr/local/lib/python3.7/dist-packages (from visdom->-r /content/pytorch_GAN_zoo/requirements.txt (line 3)) (22.3.0)\n",
            "Requirement already satisfied: six in /usr/local/lib/python3.7/dist-packages (from visdom->-r /content/pytorch_GAN_zoo/requirements.txt (line 3)) (1.15.0)\n",
            "Requirement already satisfied: jsonpatch in /usr/local/lib/python3.7/dist-packages (from visdom->-r /content/pytorch_GAN_zoo/requirements.txt (line 3)) (1.32)\n",
            "Requirement already satisfied: requests in /usr/local/lib/python3.7/dist-packages (from visdom->-r /content/pytorch_GAN_zoo/requirements.txt (line 3)) (2.23.0)\n",
            "Requirement already satisfied: cached-property in /usr/local/lib/python3.7/dist-packages (from h5py->-r /content/pytorch_GAN_zoo/requirements.txt (line 4)) (1.5.2)\n",
            "Requirement already satisfied: typing-extensions>=3.6.6 in /usr/local/lib/python3.7/dist-packages (from nevergrad->-r /content/pytorch_GAN_zoo/requirements.txt (line 5)) (3.10.0.2)\n",
            "Requirement already satisfied: cma>=2.6.0 in /usr/local/lib/python3.7/dist-packages (from nevergrad->-r /content/pytorch_GAN_zoo/requirements.txt (line 5)) (3.1.0)\n",
            "Requirement already satisfied: bayesian-optimization>=1.2.0 in /usr/local/lib/python3.7/dist-packages (from nevergrad->-r /content/pytorch_GAN_zoo/requirements.txt (line 5)) (1.2.0)\n",
            "Requirement already satisfied: scikit-learn>=0.18.0 in /usr/local/lib/python3.7/dist-packages (from bayesian-optimization>=1.2.0->nevergrad->-r /content/pytorch_GAN_zoo/requirements.txt (line 5)) (1.0.1)\n",
            "Requirement already satisfied: threadpoolctl>=2.0.0 in /usr/local/lib/python3.7/dist-packages (from scikit-learn>=0.18.0->bayesian-optimization>=1.2.0->nevergrad->-r /content/pytorch_GAN_zoo/requirements.txt (line 5)) (3.0.0)\n",
            "Requirement already satisfied: joblib>=0.11 in /usr/local/lib/python3.7/dist-packages (from scikit-learn>=0.18.0->bayesian-optimization>=1.2.0->nevergrad->-r /content/pytorch_GAN_zoo/requirements.txt (line 5)) (1.1.0)\n",
            "Requirement already satisfied: jsonpointer>=1.9 in /usr/local/lib/python3.7/dist-packages (from jsonpatch->visdom->-r /content/pytorch_GAN_zoo/requirements.txt (line 3)) (2.2)\n",
            "Requirement already satisfied: urllib3!=1.25.0,!=1.25.1,<1.26,>=1.21.1 in /usr/local/lib/python3.7/dist-packages (from requests->visdom->-r /content/pytorch_GAN_zoo/requirements.txt (line 3)) (1.24.3)\n",
            "Requirement already satisfied: certifi>=2017.4.17 in /usr/local/lib/python3.7/dist-packages (from requests->visdom->-r /content/pytorch_GAN_zoo/requirements.txt (line 3)) (2021.10.8)\n",
            "Requirement already satisfied: chardet<4,>=3.0.2 in /usr/local/lib/python3.7/dist-packages (from requests->visdom->-r /content/pytorch_GAN_zoo/requirements.txt (line 3)) (3.0.4)\n",
            "Requirement already satisfied: idna<3,>=2.5 in /usr/local/lib/python3.7/dist-packages (from requests->visdom->-r /content/pytorch_GAN_zoo/requirements.txt (line 3)) (2.10)\n"
          ]
        }
      ]
    },
    {
      "cell_type": "code",
      "metadata": {
        "colab": {
          "base_uri": "https://localhost:8080/"
        },
        "id": "0NhhT8IVfGeW",
        "outputId": "819351d9-9c09-46af-fb2c-efc6eccac4e4"
      },
      "source": [
        "!python train.py --np_vis PGAN -c /content/A2MF_AP/UTKFace/utkface_config.json -n 'utkface_visible' --restart -d /content/drive/MyDrive/checkpoints"
      ],
      "execution_count": 133,
      "outputs": [
        {
          "output_type": "stream",
          "name": "stdout",
          "text": [
            "Running PGAN\n",
            "size 10\n",
            "23672 images found\n",
            "AC-GAN classes : \n",
            "{'age': {'order': 0, 'values': [0, 1, 2, 3, 4]}, 'gender': {'order': 1, 'values': [0, 1]}, 'race': {'order': 2, 'values': [0, 1, 2, 3, 4]}}\n",
            "\n",
            "size 10\n",
            "23672 images found\n",
            "23672 images detected\n",
            "size (4, 4)\n",
            "23672 images found\n",
            "Changing alpha to 0.000\n",
            "/pytorch/aten/src/ATen/native/cuda/Loss.cu:455: nll_loss_backward_reduce_cuda_kernel_2d: block: [0,0,0], thread: [2,0,0] Assertion `t >= 0 && t < n_classes` failed.\n",
            "/pytorch/aten/src/ATen/native/cuda/Loss.cu:455: nll_loss_backward_reduce_cuda_kernel_2d: block: [0,0,0], thread: [4,0,0] Assertion `t >= 0 && t < n_classes` failed.\n",
            "/pytorch/aten/src/ATen/native/cuda/Loss.cu:455: nll_loss_backward_reduce_cuda_kernel_2d: block: [0,0,0], thread: [5,0,0] Assertion `t >= 0 && t < n_classes` failed.\n",
            "/pytorch/aten/src/ATen/native/cuda/Loss.cu:455: nll_loss_backward_reduce_cuda_kernel_2d: block: [0,0,0], thread: [8,0,0] Assertion `t >= 0 && t < n_classes` failed.\n",
            "/pytorch/aten/src/ATen/native/cuda/Loss.cu:455: nll_loss_backward_reduce_cuda_kernel_2d: block: [0,0,0], thread: [10,0,0] Assertion `t >= 0 && t < n_classes` failed.\n",
            "/pytorch/aten/src/ATen/native/cuda/Loss.cu:455: nll_loss_backward_reduce_cuda_kernel_2d: block: [0,0,0], thread: [11,0,0] Assertion `t >= 0 && t < n_classes` failed.\n",
            "/pytorch/aten/src/ATen/native/cuda/Loss.cu:455: nll_loss_backward_reduce_cuda_kernel_2d: block: [0,0,0], thread: [13,0,0] Assertion `t >= 0 && t < n_classes` failed.\n",
            "/pytorch/aten/src/ATen/native/cuda/Loss.cu:455: nll_loss_backward_reduce_cuda_kernel_2d: block: [0,0,0], thread: [14,0,0] Assertion `t >= 0 && t < n_classes` failed.\n",
            "Traceback (most recent call last):\n",
            "  File \"train.py\", line 137, in <module>\n",
            "    GANTrainer.train()\n",
            "  File \"/content/pytorch_GAN_zoo/models/trainer/progressive_gan_trainer.py\", line 237, in train\n",
            "    maxIter=self.modelConfig.maxIterAtScale[scale])\n",
            "  File \"/content/pytorch_GAN_zoo/models/trainer/gan_trainer.py\", line 487, in trainOnEpoch\n",
            "    inputLabels=labels)\n",
            "  File \"/content/pytorch_GAN_zoo/models/base_GAN.py\", line 187, in optimizeParameters\n",
            "    backward=True)\n",
            "  File \"/content/pytorch_GAN_zoo/models/base_GAN.py\", line 563, in classificationPenalty\n",
            "    loss.backward(retain_graph=True)\n",
            "  File \"/usr/local/lib/python3.7/dist-packages/torch/_tensor.py\", line 307, in backward\n",
            "    torch.autograd.backward(self, gradient, retain_graph, create_graph, inputs=inputs)\n",
            "  File \"/usr/local/lib/python3.7/dist-packages/torch/autograd/__init__.py\", line 156, in backward\n",
            "    allow_unreachable=True, accumulate_grad=True)  # allow_unreachable flag\n",
            "RuntimeError: CUDA error: CUBLAS_STATUS_ALLOC_FAILED when calling `cublasCreate(handle)`\n"
          ]
        }
      ]
    }
  ]
}