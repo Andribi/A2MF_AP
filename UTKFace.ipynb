{
  "nbformat": 4,
  "nbformat_minor": 0,
  "metadata": {
    "colab": {
      "name": "ProvaFacebookPGAN.ipynb",
      "provenance": [],
      "include_colab_link": true
    },
    "kernelspec": {
      "name": "python3",
      "display_name": "Python 3"
    },
    "language_info": {
      "name": "python"
    },
    "accelerator": "GPU"
  },
  "cells": [
    {
      "cell_type": "markdown",
      "metadata": {
        "id": "view-in-github",
        "colab_type": "text"
      },
      "source": [
        "<a href=\"https://colab.research.google.com/github/Andribi/A2MF_AP/blob/main/UTKFace.ipynb\" target=\"_parent\"><img src=\"https://colab.research.google.com/assets/colab-badge.svg\" alt=\"Open In Colab\"/></a>"
      ]
    },
    {
      "cell_type": "markdown",
      "metadata": {
        "id": "4iYexcVIJZY9"
      },
      "source": [
        "# UTKFace \n"
      ]
    },
    {
      "cell_type": "code",
      "metadata": {
        "colab": {
          "base_uri": "https://localhost:8080/"
        },
        "id": "gHN21zB3C2eg",
        "outputId": "5126f6b3-9d65-4c4e-d142-c8d3d290e876"
      },
      "source": [
        "# DRIVE MOUNT\n",
        "from google.colab import drive\n",
        "drive.mount('/content/drive')"
      ],
      "execution_count": 1,
      "outputs": [
        {
          "output_type": "stream",
          "name": "stdout",
          "text": [
            "Drive already mounted at /content/drive; to attempt to forcibly remount, call drive.mount(\"/content/drive\", force_remount=True).\n"
          ]
        }
      ]
    },
    {
      "cell_type": "code",
      "metadata": {
        "colab": {
          "base_uri": "https://localhost:8080/"
        },
        "id": "KtHmK2k_JOhN",
        "outputId": "edf7a60a-18b5-4803-de84-6c35273f3101"
      },
      "source": [
        "# REPOSITORY CLONE\n",
        "!git clone https://github.com/Andribi/A2MF_AP.git"
      ],
      "execution_count": 2,
      "outputs": [
        {
          "output_type": "stream",
          "name": "stdout",
          "text": [
            "Cloning into 'A2MF_AP'...\n",
            "remote: Enumerating objects: 241778, done.\u001b[K\n",
            "remote: Counting objects: 100% (46654/46654), done.\u001b[K\n",
            "remote: Compressing objects: 100% (46646/46646), done.\u001b[K\n",
            "remote: Total 241778 (delta 45), reused 46590 (delta 8), pack-reused 195124\u001b[K\n",
            "Receiving objects: 100% (241778/241778), 2.20 GiB | 36.17 MiB/s, done.\n",
            "Resolving deltas: 100% (62/62), done.\n",
            "Checking out files: 100% (242756/242756), done.\n"
          ]
        }
      ]
    },
    {
      "cell_type": "code",
      "metadata": {
        "id": "oUeWhkRgR9qM",
        "colab": {
          "base_uri": "https://localhost:8080/"
        },
        "outputId": "623f173e-3b39-4d42-db51-3d27fabe69bb"
      },
      "source": [
        "# LIBRARIES\n",
        "!pip install face_recognition"
      ],
      "execution_count": 3,
      "outputs": [
        {
          "output_type": "stream",
          "name": "stdout",
          "text": [
            "Collecting face_recognition\n",
            "  Downloading face_recognition-1.3.0-py2.py3-none-any.whl (15 kB)\n",
            "Requirement already satisfied: numpy in /usr/local/lib/python3.7/dist-packages (from face_recognition) (1.19.5)\n",
            "Requirement already satisfied: dlib>=19.7 in /usr/local/lib/python3.7/dist-packages (from face_recognition) (19.18.0)\n",
            "Requirement already satisfied: Click>=6.0 in /usr/local/lib/python3.7/dist-packages (from face_recognition) (7.1.2)\n",
            "Collecting face-recognition-models>=0.3.0\n",
            "  Downloading face_recognition_models-0.3.0.tar.gz (100.1 MB)\n",
            "\u001b[K     |████████████████████████████████| 100.1 MB 18 kB/s \n",
            "\u001b[?25hRequirement already satisfied: Pillow in /usr/local/lib/python3.7/dist-packages (from face_recognition) (7.1.2)\n",
            "Building wheels for collected packages: face-recognition-models\n",
            "  Building wheel for face-recognition-models (setup.py) ... \u001b[?25l\u001b[?25hdone\n",
            "  Created wheel for face-recognition-models: filename=face_recognition_models-0.3.0-py2.py3-none-any.whl size=100566185 sha256=c809aba2cad86639727c412e9b896ca73ad13f9a4f35c57fcba1f3a01ff3005a\n",
            "  Stored in directory: /root/.cache/pip/wheels/d6/81/3c/884bcd5e1c120ff548d57c2ecc9ebf3281c9a6f7c0e7e7947a\n",
            "Successfully built face-recognition-models\n",
            "Installing collected packages: face-recognition-models, face-recognition\n",
            "Successfully installed face-recognition-1.3.0 face-recognition-models-0.3.0\n"
          ]
        }
      ]
    },
    {
      "cell_type": "code",
      "metadata": {
        "id": "oRDFjVJH5lds"
      },
      "source": [
        "# IMPORTS DATA ANALYSIS\n",
        "import os \n",
        "import json \n",
        "import numpy as np\n",
        "import pandas as pd \n",
        "import matplotlib.pyplot as plt\n",
        "from sklearn.model_selection import train_test_split\n",
        "from tqdm import tqdm\n",
        "import face_recognition\n",
        "from face_recognition import face_locations\n",
        "\n",
        "# MLP IMPORTS\n",
        "import pickle\n",
        "from sklearn.neural_network import MLPClassifier\n",
        "from sklearn.metrics import accuracy_score, roc_auc_score, roc_curve, confusion_matrix, classification_report, plot_confusion_matrix\n",
        "\n",
        "# CNN IMPORTS\n",
        "from tensorflow import keras\n",
        "from tensorflow.keras.utils import plot_model, to_categorical\n",
        "from keras.layers import Input, Dense, BatchNormalization, Conv2D, MaxPool2D, GlobalMaxPool2D, Dropout\n",
        "from keras.models import Model\n",
        "from keras.callbacks import ModelCheckpoint\n",
        "from PIL import Image\n",
        "from pathlib import Path"
      ],
      "execution_count": 2,
      "outputs": []
    },
    {
      "cell_type": "code",
      "metadata": {
        "id": "foGE2Mx2iBRl"
      },
      "source": [
        "# GLOBAL VARS\n",
        "UTKFACE_DIR = '/content/A2MF_AP/UTKFace/'\n",
        "UTKFACE_PATH = '/content/A2MF_AP/UTKFace/utkface'\n",
        "UTKFACE_SK_PATH = '/content/A2MF_AP/UTKFace/utkface_sk'\n",
        "UTKFACE_LABELS_PATH = '/content/A2MF_AP/UTKFace/utkface.json'\n",
        "UTKFACE_ATTR_PATH = '/content/A2MF_AP/UTKFace/utkface_attr.json'\n",
        "UTKFACE_CONFIG_PATH = '/content/A2MF_AP/UTKFace/utkface_config.json'\n",
        "UTKFACE_FEATURE_CSV_PATH = '/content/A2MF_AP/UTKFace/feature.csv'\n",
        "UTKFACE_LABEL_CSV_PATH = '/content/A2MF_AP/UTKFace/label.csv'\n",
        "\n",
        "MODEL_CHKP_CNN_PATH = \"/content/drive/MyDrive/AGR_recognition/CNN_face_model\"\n",
        "MODEL_CHKP_MLP_PATH = '/content/drive/MyDrive/AGR_recognition/MLP_face_model.pkl'\n",
        "\n",
        "ID_GENDER_MAP = {0: 'male', 1: 'female'}\n",
        "GENDER_ID_MAP = dict((g, i) for i, g in ID_GENDER_MAP.items())\n",
        "ID_RACE_MAP = {0: 'white', 1: 'black', 2: 'asian', 3: 'indian', 4: 'others'}\n",
        "RACE_ID_MAP = dict((r, i) for i, r in ID_RACE_MAP.items())\n",
        "ID_AGE_MAP = {0: 'children', 1: 'young', 2:'adult', 3:'senior', 4:'old'}\n",
        "AGE_ID_MAP = dict((a, i) for i, a in ID_AGE_MAP.items())"
      ],
      "execution_count": 3,
      "outputs": []
    },
    {
      "cell_type": "markdown",
      "metadata": {
        "id": "9jUfsAFGkpV-"
      },
      "source": [
        "## Data Analysis "
      ]
    },
    {
      "cell_type": "code",
      "metadata": {
        "id": "_7g9H0mmp_i3",
        "colab": {
          "base_uri": "https://localhost:8080/"
        },
        "outputId": "20d66a7d-e1d3-47dd-c926-5c2fc6a50838"
      },
      "source": [
        "# LABEL CREATION \n",
        "'''\n",
        "This script generates a json file with the labels for the utkface dataset.\n",
        "The labels of each face image is embedded in the file name, \n",
        "formated like [age]_[gender]_[race]_[date&time].jpg\n",
        "[age] is an integer from 0 to 116, indicating the age\n",
        "[gender] is either 0 (male) or 1 (female)\n",
        "[race] is an integer from 0 to 4, denoting \n",
        "White, Black, Asian, Indian, and Others (like Hispanic, Latino, Middle Eastern).\n",
        "[date&time] is in the format of yyyymmddHHMMSSFFF, \n",
        "showing the date and time an image was collected to UTKFace\n",
        "source: https://susanqq.github.io/UTKFace/\n",
        "'''\n",
        "\n",
        "if not UTKFACE_LABELS_PATH:\n",
        "  res = {}\n",
        "  print('Creating  labels in utkface.json')\n",
        "  feat_names = ['age', 'gender', 'race']\n",
        "  for pic in os.listdir(UTKFACE_PATH):\n",
        "      features = pic.split('_')[:-1]\n",
        "      features_dict = {}\n",
        "      for i in range(len(features)):\n",
        "          features_dict[feat_names[i]] = int(features[i])\n",
        "      res[pic] = features_dict\n",
        "  with open(UTKFACE_LABELS_PATH, 'w') as outfile:\n",
        "      json.dump(res, outfile)\n",
        "else:\n",
        "  print('Labels aready in UTKFace directory')"
      ],
      "execution_count": 4,
      "outputs": [
        {
          "output_type": "stream",
          "name": "stdout",
          "text": [
            "Labels aready in UTKFace directory\n"
          ]
        }
      ]
    },
    {
      "cell_type": "code",
      "metadata": {
        "id": "gQz2ka58iWc0",
        "colab": {
          "base_uri": "https://localhost:8080/",
          "height": 224
        },
        "outputId": "78f7c2d0-c71a-46da-e709-a42a1062ca8f"
      },
      "source": [
        "# CREATE DATAFRAME\n",
        "with open(UTKFACE_LABELS_PATH) as utkface:\n",
        "    utkface_dict = json.load(utkface)\n",
        "\n",
        "utkface_df = pd.DataFrame.from_dict(utkface_dict, orient='index')\n",
        "print('Number of images in UTKFace: ', utkface_df.shape[0])\n",
        "utkface_df.head(5)"
      ],
      "execution_count": 5,
      "outputs": [
        {
          "output_type": "stream",
          "name": "stdout",
          "text": [
            "Number of images in UTKFace:  23672\n"
          ]
        },
        {
          "output_type": "execute_result",
          "data": {
            "text/html": [
              "<div>\n",
              "<style scoped>\n",
              "    .dataframe tbody tr th:only-of-type {\n",
              "        vertical-align: middle;\n",
              "    }\n",
              "\n",
              "    .dataframe tbody tr th {\n",
              "        vertical-align: top;\n",
              "    }\n",
              "\n",
              "    .dataframe thead th {\n",
              "        text-align: right;\n",
              "    }\n",
              "</style>\n",
              "<table border=\"1\" class=\"dataframe\">\n",
              "  <thead>\n",
              "    <tr style=\"text-align: right;\">\n",
              "      <th></th>\n",
              "      <th>age</th>\n",
              "      <th>gender</th>\n",
              "      <th>race</th>\n",
              "    </tr>\n",
              "  </thead>\n",
              "  <tbody>\n",
              "    <tr>\n",
              "      <th>37_0_3_20170119202516470.jpg.chip.jpg</th>\n",
              "      <td>37</td>\n",
              "      <td>0</td>\n",
              "      <td>3.0</td>\n",
              "    </tr>\n",
              "    <tr>\n",
              "      <th>15_0_0_20170110225705232.jpg.chip.jpg</th>\n",
              "      <td>15</td>\n",
              "      <td>0</td>\n",
              "      <td>0.0</td>\n",
              "    </tr>\n",
              "    <tr>\n",
              "      <th>45_0_3_20170119171425106.jpg.chip.jpg</th>\n",
              "      <td>45</td>\n",
              "      <td>0</td>\n",
              "      <td>3.0</td>\n",
              "    </tr>\n",
              "    <tr>\n",
              "      <th>53_0_3_20170119201334485.jpg.chip.jpg</th>\n",
              "      <td>53</td>\n",
              "      <td>0</td>\n",
              "      <td>3.0</td>\n",
              "    </tr>\n",
              "    <tr>\n",
              "      <th>22_0_1_20170113193211629.jpg.chip.jpg</th>\n",
              "      <td>22</td>\n",
              "      <td>0</td>\n",
              "      <td>1.0</td>\n",
              "    </tr>\n",
              "  </tbody>\n",
              "</table>\n",
              "</div>"
            ],
            "text/plain": [
              "                                       age  gender  race\n",
              "37_0_3_20170119202516470.jpg.chip.jpg   37       0   3.0\n",
              "15_0_0_20170110225705232.jpg.chip.jpg   15       0   0.0\n",
              "45_0_3_20170119171425106.jpg.chip.jpg   45       0   3.0\n",
              "53_0_3_20170119201334485.jpg.chip.jpg   53       0   3.0\n",
              "22_0_1_20170113193211629.jpg.chip.jpg   22       0   1.0"
            ]
          },
          "metadata": {},
          "execution_count": 5
        }
      ]
    },
    {
      "cell_type": "code",
      "metadata": {
        "colab": {
          "base_uri": "https://localhost:8080/"
        },
        "id": "38maChxYtRUC",
        "outputId": "f8d64b9e-4253-4a2b-b109-d941013ec67a"
      },
      "source": [
        "# MISSING VALUES\n",
        "print('Percentage of missing values:', \n",
        "      round((utkface_df.isna().sum().sum()/utkface_df.shape[0]) * 100 , 2), '%')\n",
        "nan_vals = utkface_df[utkface_df.isna().any(axis=1)]\n",
        "utkface_df = utkface_df.dropna()\n",
        "print('Percentage of missing values after drop:', \n",
        "      round((utkface_df.isna().sum().sum()/utkface_df.shape[0]) * 100 , 2), '%')\n",
        "\n",
        "print('Number of images in UTKFace after drop: ', utkface_df.shape[0])"
      ],
      "execution_count": 6,
      "outputs": [
        {
          "output_type": "stream",
          "name": "stdout",
          "text": [
            "Percentage of missing values: 0.01 %\n",
            "Percentage of missing values after drop: 0.0 %\n",
            "Number of images in UTKFace after drop:  23669\n"
          ]
        }
      ]
    },
    {
      "cell_type": "code",
      "metadata": {
        "id": "HFzdVSpna5fM"
      },
      "source": [
        "# AGE CLASSES\n",
        "utkface_df['race'] = utkface_df['race'].apply(np.int64)\n",
        "utkface_df.loc[utkface_df.age < 15, 'age'] = 0\n",
        "utkface_df.loc[((utkface_df.age >= 15) & (utkface_df.age <25)), 'age'] = 1\n",
        "utkface_df.loc[((utkface_df.age >= 25) & (utkface_df.age <65)), 'age'] = 2\n",
        "utkface_df.loc[((utkface_df.age >= 65) & (utkface_df.age <85)), 'age'] = 3\n",
        "utkface_df.loc[utkface_df.age >= 85, 'age'] = 4\n",
        "\n",
        "# dataframe to use for cnn (recognition)\n",
        "cnn_df = utkface_df.copy()"
      ],
      "execution_count": 7,
      "outputs": []
    },
    {
      "cell_type": "code",
      "metadata": {
        "colab": {
          "base_uri": "https://localhost:8080/",
          "height": 809
        },
        "id": "hH7XfD1JhqoG",
        "outputId": "473e9ea6-ebfb-4f55-df25-ebb31425755f"
      },
      "source": [
        "# DISTRIBUTIONS\n",
        "age = utkface_df[\"age\"].astype(int).sort_values()\n",
        "age_bins=len(age.value_counts())\n",
        "\n",
        "gender = utkface_df[\"gender\"].astype(int).sort_values()\n",
        "gender_bins=len(gender.value_counts())\n",
        "\n",
        "race = utkface_df[\"race\"].astype(int).sort_values()\n",
        "race_bins=len(race.value_counts())\n",
        "\n",
        "age.hist(bins=age_bins, figsize=[8,4], edgecolor='steelblue', \n",
        "         linewidth=1, grid=False, alpha=0.5, legend=True)\n",
        "plt.title('Age distribution')\n",
        "plt.xticks(np.arange(0, 5, step=1), ['Child', 'Young', 'Adult', 'Senior', 'Old'])\n",
        "plt.show()\n",
        "\n",
        "gender.hist(bins=gender_bins, figsize=[8,4], edgecolor='orange', \n",
        "            linewidth=1, grid=False, alpha=0.5, legend=True, color='yellow')\n",
        "plt.title('Gender distribution')\n",
        "plt.xticks(np.arange(0, 2, step=1), ['Male', 'Female'])\n",
        "plt.show()\n",
        "\n",
        "race.hist(bins=race_bins, figsize=[8,4], edgecolor='red', \n",
        "          linewidth=1, grid=False, alpha=0.5, legend=True, color='orchid')\n",
        "plt.xticks(np.arange(0, 5, step=1), ['White', 'Black', 'Asian', 'Indian', 'Others'])\n",
        "plt.title('Race distribution')\n",
        "plt.show()"
      ],
      "execution_count": 8,
      "outputs": [
        {
          "output_type": "display_data",
          "data": {
            "image/png": "[encoded data removed]",
            "text/plain": [
              "<Figure size 576x288 with 1 Axes>"
            ]
          },
          "metadata": {
            "needs_background": "light"
          }
        },
        {
          "output_type": "display_data",
          "data": {
            "image/png": "[encoded data removed]",
            "text/plain": [
              "<Figure size 576x288 with 1 Axes>"
            ]
          },
          "metadata": {
            "needs_background": "light"
          }
        },
        {
          "output_type": "display_data",
          "data": {
            "image/png": "[encoded data removed]",
            "text/plain": [
              "<Figure size 576x288 with 1 Axes>"
            ]
          },
          "metadata": {
            "needs_background": "light"
          }
        }
      ]
    },
    {
      "cell_type": "code",
      "metadata": {
        "colab": {
          "base_uri": "https://localhost:8080/",
          "height": 206
        },
        "id": "ny1y3rxjGiXW",
        "outputId": "a6fb17ad-d461-427b-9321-d70f533752fa"
      },
      "source": [
        "# ONE HOT ENCODING\n",
        "utkface_df = pd.get_dummies(utkface_df, \n",
        "                            columns=[\"age\", \"gender\", \"race\"], \n",
        "                            dtype=float)\n",
        "utkface_df.head(5)"
      ],
      "execution_count": 9,
      "outputs": [
        {
          "output_type": "execute_result",
          "data": {
            "text/html": [
              "<div>\n",
              "<style scoped>\n",
              "    .dataframe tbody tr th:only-of-type {\n",
              "        vertical-align: middle;\n",
              "    }\n",
              "\n",
              "    .dataframe tbody tr th {\n",
              "        vertical-align: top;\n",
              "    }\n",
              "\n",
              "    .dataframe thead th {\n",
              "        text-align: right;\n",
              "    }\n",
              "</style>\n",
              "<table border=\"1\" class=\"dataframe\">\n",
              "  <thead>\n",
              "    <tr style=\"text-align: right;\">\n",
              "      <th></th>\n",
              "      <th>age_0</th>\n",
              "      <th>age_1</th>\n",
              "      <th>age_2</th>\n",
              "      <th>age_3</th>\n",
              "      <th>age_4</th>\n",
              "      <th>gender_0</th>\n",
              "      <th>gender_1</th>\n",
              "      <th>race_0</th>\n",
              "      <th>race_1</th>\n",
              "      <th>race_2</th>\n",
              "      <th>race_3</th>\n",
              "      <th>race_4</th>\n",
              "    </tr>\n",
              "  </thead>\n",
              "  <tbody>\n",
              "    <tr>\n",
              "      <th>37_0_3_20170119202516470.jpg.chip.jpg</th>\n",
              "      <td>0.0</td>\n",
              "      <td>0.0</td>\n",
              "      <td>1.0</td>\n",
              "      <td>0.0</td>\n",
              "      <td>0.0</td>\n",
              "      <td>1.0</td>\n",
              "      <td>0.0</td>\n",
              "      <td>0.0</td>\n",
              "      <td>0.0</td>\n",
              "      <td>0.0</td>\n",
              "      <td>1.0</td>\n",
              "      <td>0.0</td>\n",
              "    </tr>\n",
              "    <tr>\n",
              "      <th>15_0_0_20170110225705232.jpg.chip.jpg</th>\n",
              "      <td>0.0</td>\n",
              "      <td>1.0</td>\n",
              "      <td>0.0</td>\n",
              "      <td>0.0</td>\n",
              "      <td>0.0</td>\n",
              "      <td>1.0</td>\n",
              "      <td>0.0</td>\n",
              "      <td>1.0</td>\n",
              "      <td>0.0</td>\n",
              "      <td>0.0</td>\n",
              "      <td>0.0</td>\n",
              "      <td>0.0</td>\n",
              "    </tr>\n",
              "    <tr>\n",
              "      <th>45_0_3_20170119171425106.jpg.chip.jpg</th>\n",
              "      <td>0.0</td>\n",
              "      <td>0.0</td>\n",
              "      <td>1.0</td>\n",
              "      <td>0.0</td>\n",
              "      <td>0.0</td>\n",
              "      <td>1.0</td>\n",
              "      <td>0.0</td>\n",
              "      <td>0.0</td>\n",
              "      <td>0.0</td>\n",
              "      <td>0.0</td>\n",
              "      <td>1.0</td>\n",
              "      <td>0.0</td>\n",
              "    </tr>\n",
              "    <tr>\n",
              "      <th>53_0_3_20170119201334485.jpg.chip.jpg</th>\n",
              "      <td>0.0</td>\n",
              "      <td>0.0</td>\n",
              "      <td>1.0</td>\n",
              "      <td>0.0</td>\n",
              "      <td>0.0</td>\n",
              "      <td>1.0</td>\n",
              "      <td>0.0</td>\n",
              "      <td>0.0</td>\n",
              "      <td>0.0</td>\n",
              "      <td>0.0</td>\n",
              "      <td>1.0</td>\n",
              "      <td>0.0</td>\n",
              "    </tr>\n",
              "    <tr>\n",
              "      <th>22_0_1_20170113193211629.jpg.chip.jpg</th>\n",
              "      <td>0.0</td>\n",
              "      <td>1.0</td>\n",
              "      <td>0.0</td>\n",
              "      <td>0.0</td>\n",
              "      <td>0.0</td>\n",
              "      <td>1.0</td>\n",
              "      <td>0.0</td>\n",
              "      <td>0.0</td>\n",
              "      <td>1.0</td>\n",
              "      <td>0.0</td>\n",
              "      <td>0.0</td>\n",
              "      <td>0.0</td>\n",
              "    </tr>\n",
              "  </tbody>\n",
              "</table>\n",
              "</div>"
            ],
            "text/plain": [
              "                                       age_0  age_1  ...  race_3  race_4\n",
              "37_0_3_20170119202516470.jpg.chip.jpg    0.0    0.0  ...     1.0     0.0\n",
              "15_0_0_20170110225705232.jpg.chip.jpg    0.0    1.0  ...     0.0     0.0\n",
              "45_0_3_20170119171425106.jpg.chip.jpg    0.0    0.0  ...     1.0     0.0\n",
              "53_0_3_20170119201334485.jpg.chip.jpg    0.0    0.0  ...     1.0     0.0\n",
              "22_0_1_20170113193211629.jpg.chip.jpg    0.0    1.0  ...     0.0     0.0\n",
              "\n",
              "[5 rows x 12 columns]"
            ]
          },
          "metadata": {},
          "execution_count": 9
        }
      ]
    },
    {
      "cell_type": "code",
      "metadata": {
        "id": "gAf_ffgWu-o7"
      },
      "source": [
        "# ONE HOT ENCODED ATTRIBUTES JSON\n",
        "attr_dict = utkface_df.to_json(orient='index')\n",
        "with open(UTKFACE_ATTR_PATH, 'w') as outfile:\n",
        "    json.dump(json.loads(attr_dict), outfile)"
      ],
      "execution_count": 10,
      "outputs": []
    },
    {
      "cell_type": "code",
      "metadata": {
        "id": "tbi16Bs9jN6F",
        "colab": {
          "base_uri": "https://localhost:8080/"
        },
        "outputId": "04953080-e9d0-494c-a4aa-e2d44aa27d2d"
      },
      "source": [
        "# CSV CREATION \n",
        "\n",
        "if not UTKFACE_LABEL_CSV_PATH and not UTKFACE_FEATURE_CSV_PATH:\n",
        "  vecs = []\n",
        "  fnames = []\n",
        "  i = 0\n",
        "  for fname in tqdm(X_train.index):\n",
        "      i += 1\n",
        "      img_path = UTKFACE_PATH + '/' + fname\n",
        "      X_img = face_recognition.load_image_file(img_path)\n",
        "      X_faces_loc = face_locations(X_img)\n",
        "      if len(X_faces_loc) != 1:\n",
        "          continue\n",
        "      faces_encoding = face_recognition.face_encodings(X_img, known_face_locations=X_faces_loc)[0]\n",
        "      vecs.append(faces_encoding)\n",
        "      fnames.append(fname)\n",
        "      \n",
        "  df_feat = pd.DataFrame(vecs, index=fnames)\n",
        "  df_label = X_train[X_train.index.isin(df_feat.index)]\n",
        "  df_feat.sort_index(inplace=True)\n",
        "  df_label.sort_index(inplace=True)\n",
        "  df_feat.to_csv(UTKFACE_FEATURE_CSV_PATH)\n",
        "  df_label.to_csv(UTKFACE_LABEL_CSV_PATH)\n",
        "\n",
        "else: print('CSVs already present')"
      ],
      "execution_count": 11,
      "outputs": [
        {
          "output_type": "stream",
          "name": "stdout",
          "text": [
            "CSVs already present\n"
          ]
        }
      ]
    },
    {
      "cell_type": "markdown",
      "metadata": {
        "id": "nNK1k2ldmKDK"
      },
      "source": [
        "## Age Race Gender Recognition\n",
        "\n",
        "\n"
      ]
    },
    {
      "cell_type": "code",
      "metadata": {
        "id": "J7KVC6AI5fZ7",
        "outputId": "6cbfe405-976f-411a-e3a5-6838d363a81f",
        "colab": {
          "base_uri": "https://localhost:8080/"
        }
      },
      "source": [
        "# DATASET SPLIT\n",
        "# load features and labels\n",
        "df_feat = pd.read_csv(UTKFACE_FEATURE_CSV_PATH, index_col=0)\n",
        "df_label = pd.read_csv(UTKFACE_LABEL_CSV_PATH, index_col=0)\n",
        " \n",
        "# split training/test name\n",
        "idx_train, idx_test = train_test_split(df_feat.index, test_size = 0.30, random_state = 123)\n",
        "\n",
        "# train/test for cnns\n",
        "X_train_cnn = cnn_df.loc[idx_train]\n",
        "X_test_cnn = cnn_df.loc[idx_test]\n",
        "\n",
        "# train/test for MLP\n",
        "X_train_mlp, Y_train_mlp = df_feat.loc[idx_train], df_label.loc[idx_train]\n",
        "X_test_mlp, Y_test_mlp = df_feat.loc[idx_test], df_label.loc[idx_test]\n",
        "\n",
        "print('Number of total samples:         ', df_label.shape[0])\n",
        "print('Number of elements in train set: ', idx_train.shape[0])\n",
        "print('Number of elements in test set:  ', idx_test.shape[0])"
      ],
      "execution_count": 12,
      "outputs": [
        {
          "output_type": "stream",
          "name": "stdout",
          "text": [
            "Number of total samples:          14829\n",
            "Number of elements in train set:  10380\n",
            "Number of elements in test set:   4449\n"
          ]
        }
      ]
    },
    {
      "cell_type": "markdown",
      "metadata": {
        "id": "Vh3sIalL20nN"
      },
      "source": [
        "### Method 1: MLP\n",
        "\n",
        "Source: https://github.com/wondonghyeon/face-classification/blob/master/train.ipynb"
      ]
    },
    {
      "cell_type": "code",
      "metadata": {
        "id": "tvrOWyf_vBas"
      },
      "source": [
        "# MLP CLASSIFIER \n",
        "\n",
        "if not MODEL_CHKP_MLP_PATH:\n",
        "  clf = MLPClassifier(solver='adam', \n",
        "                      hidden_layer_sizes=(128, 128),\n",
        "                      max_iter = 5000, \n",
        "                      verbose=True, \n",
        "                      tol=1e-4, \n",
        "                      activation='relu')\n",
        "\n",
        "  clf.fit(X_train_mlp, Y_train_mlp)\n",
        "\n",
        "  # save model\n",
        "  with open(MODEL_CHKP_MLP_PATH, 'wb') as f:\n",
        "      pickle.dump([clf, df_label.columns.tolist()], f)\n",
        "      label_list = df_label.columns.tolist()\n",
        "\n",
        "else:\n",
        "  clf, label_list = pickle.load(open(MODEL_CHKP_MLP_PATH,'rb'))\n",
        "\n",
        "\n",
        "# MLP model prediction\n",
        "pred = clf.predict(X_test_mlp)\n",
        "score = clf.predict_proba(X_test_mlp)\n",
        "\n",
        "df_pred = pd.DataFrame(pred, columns=label_list, index=Y_test_mlp.index)\n",
        "df_score = pd.DataFrame(score, columns=label_list, index=Y_test_mlp.index)"
      ],
      "execution_count": 14,
      "outputs": []
    },
    {
      "cell_type": "code",
      "metadata": {
        "colab": {
          "base_uri": "https://localhost:8080/"
        },
        "id": "k6fLXO7XzuI6",
        "outputId": "260d3575-59a4-40a1-8618-b8f136814194"
      },
      "source": [
        "# MLP METRICS\n",
        "cm_age = confusion_matrix(Y_test_mlp.iloc[:, :5].values.argmax(axis=1), \n",
        "                          df_pred.iloc[:, :5].values.argmax(axis=1))\n",
        "cm_gen = confusion_matrix(Y_test_mlp.iloc[:, 5:7].values.argmax(axis=1), \n",
        "                          df_pred.iloc[:, 5:7].values.argmax(axis=1))\n",
        "cm_race = confusion_matrix(Y_test_mlp.iloc[:, 7:].values.argmax(axis=1), \n",
        "                           df_pred.iloc[:, 7:].values.argmax(axis=1))\n",
        "\n",
        "report = classification_report(Y_test_mlp.values, \n",
        "                               df_pred.values, \n",
        "                               target_names=Y_test_mlp.columns)\n",
        "\n",
        "print('CM AGE:\\n', cm_age)\n",
        "print('\\nCM GEN:\\n', cm_gen)\n",
        "print('\\nCM RACE:\\n', cm_race)\n",
        "\n",
        "print('\\nREPORT:\\n', report)"
      ],
      "execution_count": 15,
      "outputs": [
        {
          "output_type": "stream",
          "name": "stdout",
          "text": [
            "CM AGE:\n",
            " [[ 641   37   17    0    0]\n",
            " [  52  240  314    0    0]\n",
            " [  62  256 2377   87    4]\n",
            " [  16    3  121  124   22]\n",
            " [   7    0    9   34   26]]\n",
            "\n",
            "CM GEN:\n",
            " [[2136  197]\n",
            " [ 190 1926]]\n",
            "\n",
            "CM RACE:\n",
            " [[1749   32   21   50   54]\n",
            " [  76  676    1   27    9]\n",
            " [  46   11  556    8    6]\n",
            " [ 136   28    7  586   25]\n",
            " [ 184   26   15   54   66]]\n",
            "\n",
            "REPORT:\n",
            "               precision    recall  f1-score   support\n",
            "\n",
            "       age_0       0.94      0.91      0.93       695\n",
            "       age_1       0.44      0.40      0.42       606\n",
            "       age_2       0.83      0.86      0.85      2786\n",
            "       age_3       0.49      0.47      0.48       286\n",
            "       age_4       0.51      0.46      0.49        76\n",
            "    gender_0       0.92      0.92      0.92      2333\n",
            "    gender_1       0.91      0.91      0.91      2116\n",
            "      race_0       0.85      0.87      0.86      1906\n",
            "      race_1       0.86      0.87      0.87       789\n",
            "      race_2       0.91      0.90      0.91       627\n",
            "      race_3       0.77      0.77      0.77       782\n",
            "      race_4       0.39      0.28      0.33       345\n",
            "\n",
            "   micro avg       0.84      0.83      0.84     13347\n",
            "   macro avg       0.74      0.72      0.73     13347\n",
            "weighted avg       0.83      0.83      0.83     13347\n",
            " samples avg       0.84      0.83      0.83     13347\n",
            "\n"
          ]
        }
      ]
    },
    {
      "cell_type": "markdown",
      "metadata": {
        "id": "-ToA1cOr4Ol5"
      },
      "source": [
        "### Method 2: CNN\n",
        "\n",
        "Source: https://github.com/Sobika2531/Age-Gender-And-Race-Detection-Using-CNN/blob/main/AGRdetector.ipynb"
      ]
    },
    {
      "cell_type": "code",
      "metadata": {
        "id": "tKNnymS_tVSo",
        "colab": {
          "base_uri": "https://localhost:8080/",
          "height": 1000
        },
        "outputId": "bdd9aa11-a806-4729-ade9-2637cf9f3d4b"
      },
      "source": [
        "# CNN\n",
        "def conv_block(inp, filters=32, bn=True, pool=True):\n",
        "    _ = Conv2D(filters=filters, \n",
        "               kernel_size=3, \n",
        "               activation='relu', \n",
        "               padding='same')(inp)\n",
        "    if bn:\n",
        "        _ = BatchNormalization()(_)\n",
        "    if pool:\n",
        "        _ = MaxPool2D()(_)\n",
        "    return _\n",
        "\n",
        "input_layer = Input(shape=(200, 200, 3))\n",
        "_ = conv_block(input_layer, filters=32, bn=False, pool=False)\n",
        "_ = conv_block(_, filters=32*2)\n",
        "_ = conv_block(_, filters=32*3)\n",
        "_ = conv_block(_, filters=32*4)\n",
        "_ = conv_block(_, filters=32*5)\n",
        "_ = conv_block(_, filters=32*6)\n",
        "bottleneck = GlobalMaxPool2D()(_)\n",
        "\n",
        "# for age calculation\n",
        "_ = Dense(units=128, activation='relu')(bottleneck)\n",
        "age_output = Dense(units=len(AGE_ID_MAP), \n",
        "                   activation='softmax', \n",
        "                   name='age_output')(_)\n",
        "\n",
        "# for race prediction\n",
        "_ = Dense(units=128, activation='relu')(bottleneck)\n",
        "race_output = Dense(units=len(RACE_ID_MAP), \n",
        "                    activation='softmax', \n",
        "                    name='race_output')(_)\n",
        "\n",
        "# for gender prediction\n",
        "_ = Dense(units=128, activation='relu')(bottleneck)\n",
        "gender_output = Dense(units=len(GENDER_ID_MAP), \n",
        "                      activation='softmax', \n",
        "                      name='gender_output')(_)\n",
        "\n",
        "model = Model(inputs=input_layer, \n",
        "              outputs=[age_output, race_output, gender_output])\n",
        "model.compile(optimizer='rmsprop', \n",
        "              loss={'age_output': 'categorical_crossentropy', \n",
        "                    'race_output': 'categorical_crossentropy', \n",
        "                    'gender_output': 'categorical_crossentropy'},\n",
        "              loss_weights={'age_output': 1, \n",
        "                            'race_output': 1, \n",
        "                            'gender_output': 1.},\n",
        "              metrics={'age_output': 'accuracy', \n",
        "                       'race_output': 'accuracy', \n",
        "                       'gender_output': 'accuracy'})\n",
        "#model.summary()\n",
        "plot_model(model, \"model.png\")"
      ],
      "execution_count": 20,
      "outputs": [
        {
          "output_type": "execute_result",
          "data": {
            "image/png": "[encoded data removed]",
            "text/plain": [
              "<IPython.core.display.Image object>"
            ]
          },
          "metadata": {},
          "execution_count": 20
        }
      ]
    },
    {
      "cell_type": "code",
      "metadata": {
        "id": "t26SSTsxzu-A"
      },
      "source": [
        "# DATA TO TRAIN\n",
        "\n",
        "def get_data_generator(df, for_training, batch_size=16):\n",
        "    images, ages, genders, races = [], [], [], []\n",
        "    while True:\n",
        "        for i in range(len(df)):\n",
        "            r = df.iloc[i]\n",
        "            file, age, gender, race = r.name, r['age'], r['gender'],  r['race']\n",
        "            path = Path(UTKFACE_PATH, file)\n",
        "            im = Image.open(str(path))\n",
        "            im = np.array(im) / 255.0\n",
        "            images.append(im)\n",
        "            ages.append(to_categorical(age, 5))\n",
        "            races.append(to_categorical(race, len(RACE_ID_MAP)))\n",
        "            genders.append(to_categorical(gender, 2))\n",
        "            if len(images) >= batch_size:\n",
        "                yield np.array(images), [np.array(ages), np.array(races), np.array(genders)]\n",
        "                images, ages, races, genders = [], [], [], []\n",
        "        if not for_training:\n",
        "            break"
      ],
      "execution_count": 24,
      "outputs": []
    },
    {
      "cell_type": "code",
      "metadata": {
        "id": "g9CllP9kvxOf"
      },
      "source": [
        "# TRAINING\n",
        "\n",
        "batch_size = 16\n",
        "valid_batch_size = 16\n",
        "train_gen = get_data_generator(X_train, for_training=True, batch_size=batch_size)\n",
        "valid_gen = get_data_generator(X_test, for_training=True, batch_size=valid_batch_size)\n",
        "\n",
        "callbacks = [ModelCheckpoint(MODEL_CHKP_CNN_PATH, monitor='val_loss')]\n",
        "\n",
        "history = model.fit(train_gen,\n",
        "                    epochs=10,\n",
        "                    steps_per_epoch=256,\n",
        "                    callbacks=callbacks,\n",
        "                    validation_data=valid_gen,\n",
        "                    validation_steps=len(X_test)//valid_batch_size)"
      ],
      "execution_count": null,
      "outputs": []
    },
    {
      "cell_type": "markdown",
      "metadata": {
        "id": "sRQbZZZNO641"
      },
      "source": [
        "- load dataset\n",
        "- test\n",
        "- metriche"
      ]
    },
    {
      "cell_type": "markdown",
      "metadata": {
        "id": "k_B_h8-vjV-D"
      },
      "source": [
        "###Method 3: ARG (not used now)\n",
        "\n",
        "Source: https://coursys.sfu.ca/2020sp-cmpt-726-x1/pages/ARG_report/view\n",
        "\n",
        "REPO: https://github.com/pagand/CMPT726/tree/master/ARG"
      ]
    },
    {
      "cell_type": "code",
      "metadata": {
        "id": "qtbDR14tmz3R",
        "colab": {
          "base_uri": "https://localhost:8080/"
        },
        "outputId": "3aa5b8c9-f6c4-4019-a4bf-9cf01e253743"
      },
      "source": [
        "! git clone https://github.com/pagand/CMPT726.git"
      ],
      "execution_count": null,
      "outputs": [
        {
          "output_type": "stream",
          "name": "stdout",
          "text": [
            "Cloning into 'CMPT726'...\n",
            "remote: Enumerating objects: 203, done.\u001b[K\n",
            "remote: Counting objects: 100% (87/87), done.\u001b[K\n",
            "remote: Compressing objects: 100% (84/84), done.\u001b[K\n",
            "remote: Total 203 (delta 42), reused 2 (delta 1), pack-reused 116\u001b[K\n",
            "Receiving objects: 100% (203/203), 101.86 KiB | 3.64 MiB/s, done.\n",
            "Resolving deltas: 100% (91/91), done.\n"
          ]
        }
      ]
    },
    {
      "cell_type": "markdown",
      "metadata": {
        "id": "_BTuzMApjMr1"
      },
      "source": [
        "## PGAN"
      ]
    },
    {
      "cell_type": "code",
      "metadata": {
        "colab": {
          "base_uri": "https://localhost:8080/"
        },
        "id": "JjVE0T9ieej5",
        "outputId": "58bdda68-c566-418f-e5e9-0d98b48510d4"
      },
      "source": [
        "# FACEBOOK PGAN CLONE\n",
        "!git clone https://github.com/facebookresearch/pytorch_GAN_zoo.git"
      ],
      "execution_count": null,
      "outputs": [
        {
          "output_type": "stream",
          "name": "stdout",
          "text": [
            "Cloning into 'pytorch_GAN_zoo'...\n",
            "remote: Enumerating objects: 1523, done.\u001b[K\n",
            "remote: Counting objects: 100% (28/28), done.\n",
            "remote: Compressing objects: 100% (24/24), done.\u001b[K\n",
            "remote: Total 1523 (delta 17), reused 13 (delta 4), pack-reused 1495\u001b[K\n",
            "Receiving objects: 100% (1523/1523), 2.06 MiB | 12.41 MiB/s, done.\n",
            "Resolving deltas: 100% (977/977), done.\n"
          ]
        }
      ]
    },
    {
      "cell_type": "code",
      "metadata": {
        "id": "Gs-FLztxPQIz"
      },
      "source": [
        "content = { \n",
        "    \"pathDB\": UTKFACE_PATH, \n",
        "    \"pathAttribDict\": UTKFACE_ATTR_PATH,\n",
        "    \"config\": {\n",
        "        \"maxIterAtScale\": [48000, 96000, 96000, 96000, 96000, 96000, 200000], \n",
        "        \"depthScales\": [256, 256, 256, 128, 64, 32, 16]\n",
        "        }\n",
        "    }\n",
        "\n",
        "with open(UTKFACE_CONFIG_PATH, 'w') as outfile:\n",
        "    json.dump(content, outfile)"
      ],
      "execution_count": null,
      "outputs": []
    },
    {
      "cell_type": "code",
      "metadata": {
        "colab": {
          "base_uri": "https://localhost:8080/"
        },
        "id": "3ovZttJcezuq",
        "outputId": "9606be30-e087-4206-a56b-68f6ef60dca7"
      },
      "source": [
        "%cd /content/pytorch_GAN_zoo/\n",
        "!pip install -r /content/pytorch_GAN_zoo/requirements.txt"
      ],
      "execution_count": null,
      "outputs": [
        {
          "output_type": "stream",
          "name": "stdout",
          "text": [
            "/content/pytorch_GAN_zoo\n",
            "Requirement already satisfied: numpy in /usr/local/lib/python3.7/dist-packages (from -r /content/pytorch_GAN_zoo/requirements.txt (line 1)) (1.19.5)\n",
            "Requirement already satisfied: scipy in /usr/local/lib/python3.7/dist-packages (from -r /content/pytorch_GAN_zoo/requirements.txt (line 2)) (1.4.1)\n",
            "Collecting visdom\n",
            "  Downloading visdom-0.1.8.9.tar.gz (676 kB)\n",
            "\u001b[K     |████████████████████████████████| 676 kB 5.2 MB/s \n",
            "\u001b[?25hRequirement already satisfied: h5py in /usr/local/lib/python3.7/dist-packages (from -r /content/pytorch_GAN_zoo/requirements.txt (line 4)) (3.1.0)\n",
            "Collecting nevergrad\n",
            "  Downloading nevergrad-0.4.3.post9-py3-none-any.whl (411 kB)\n",
            "\u001b[K     |████████████████████████████████| 411 kB 41.0 MB/s \n",
            "\u001b[?25hRequirement already satisfied: requests in /usr/local/lib/python3.7/dist-packages (from visdom->-r /content/pytorch_GAN_zoo/requirements.txt (line 3)) (2.23.0)\n",
            "Requirement already satisfied: tornado in /usr/local/lib/python3.7/dist-packages (from visdom->-r /content/pytorch_GAN_zoo/requirements.txt (line 3)) (5.1.1)\n",
            "Requirement already satisfied: pyzmq in /usr/local/lib/python3.7/dist-packages (from visdom->-r /content/pytorch_GAN_zoo/requirements.txt (line 3)) (22.3.0)\n",
            "Requirement already satisfied: six in /usr/local/lib/python3.7/dist-packages (from visdom->-r /content/pytorch_GAN_zoo/requirements.txt (line 3)) (1.15.0)\n",
            "Collecting jsonpatch\n",
            "  Downloading jsonpatch-1.32-py2.py3-none-any.whl (12 kB)\n",
            "Collecting torchfile\n",
            "  Downloading torchfile-0.1.0.tar.gz (5.2 kB)\n",
            "Collecting websocket-client\n",
            "  Downloading websocket_client-1.2.1-py2.py3-none-any.whl (52 kB)\n",
            "\u001b[K     |████████████████████████████████| 52 kB 1.4 MB/s \n",
            "\u001b[?25hRequirement already satisfied: pillow in /usr/local/lib/python3.7/dist-packages (from visdom->-r /content/pytorch_GAN_zoo/requirements.txt (line 3)) (7.1.2)\n",
            "Requirement already satisfied: cached-property in /usr/local/lib/python3.7/dist-packages (from h5py->-r /content/pytorch_GAN_zoo/requirements.txt (line 4)) (1.5.2)\n",
            "Requirement already satisfied: typing-extensions>=3.6.6 in /usr/local/lib/python3.7/dist-packages (from nevergrad->-r /content/pytorch_GAN_zoo/requirements.txt (line 5)) (3.10.0.2)\n",
            "Collecting bayesian-optimization>=1.2.0\n",
            "  Downloading bayesian-optimization-1.2.0.tar.gz (14 kB)\n",
            "Collecting cma>=2.6.0\n",
            "  Downloading cma-3.1.0-py2.py3-none-any.whl (269 kB)\n",
            "\u001b[K     |████████████████████████████████| 269 kB 46.6 MB/s \n",
            "\u001b[?25hRequirement already satisfied: scikit-learn>=0.18.0 in /usr/local/lib/python3.7/dist-packages (from bayesian-optimization>=1.2.0->nevergrad->-r /content/pytorch_GAN_zoo/requirements.txt (line 5)) (1.0.1)\n",
            "Requirement already satisfied: joblib>=0.11 in /usr/local/lib/python3.7/dist-packages (from scikit-learn>=0.18.0->bayesian-optimization>=1.2.0->nevergrad->-r /content/pytorch_GAN_zoo/requirements.txt (line 5)) (1.1.0)\n",
            "Requirement already satisfied: threadpoolctl>=2.0.0 in /usr/local/lib/python3.7/dist-packages (from scikit-learn>=0.18.0->bayesian-optimization>=1.2.0->nevergrad->-r /content/pytorch_GAN_zoo/requirements.txt (line 5)) (3.0.0)\n",
            "Collecting jsonpointer>=1.9\n",
            "  Downloading jsonpointer-2.2-py2.py3-none-any.whl (7.5 kB)\n",
            "Requirement already satisfied: urllib3!=1.25.0,!=1.25.1,<1.26,>=1.21.1 in /usr/local/lib/python3.7/dist-packages (from requests->visdom->-r /content/pytorch_GAN_zoo/requirements.txt (line 3)) (1.24.3)\n",
            "Requirement already satisfied: chardet<4,>=3.0.2 in /usr/local/lib/python3.7/dist-packages (from requests->visdom->-r /content/pytorch_GAN_zoo/requirements.txt (line 3)) (3.0.4)\n",
            "Requirement already satisfied: idna<3,>=2.5 in /usr/local/lib/python3.7/dist-packages (from requests->visdom->-r /content/pytorch_GAN_zoo/requirements.txt (line 3)) (2.10)\n",
            "Requirement already satisfied: certifi>=2017.4.17 in /usr/local/lib/python3.7/dist-packages (from requests->visdom->-r /content/pytorch_GAN_zoo/requirements.txt (line 3)) (2021.10.8)\n",
            "Building wheels for collected packages: visdom, bayesian-optimization, torchfile\n",
            "  Building wheel for visdom (setup.py) ... \u001b[?25l\u001b[?25hdone\n",
            "  Created wheel for visdom: filename=visdom-0.1.8.9-py3-none-any.whl size=655250 sha256=b8b19b28677abb726bebe77d48ab78858d64224ff006cba0589b94662f7a1771\n",
            "  Stored in directory: /root/.cache/pip/wheels/2d/d1/9b/cde923274eac9cbb6ff0d8c7c72fe30a3da9095a38fd50bbf1\n",
            "  Building wheel for bayesian-optimization (setup.py) ... \u001b[?25l\u001b[?25hdone\n",
            "  Created wheel for bayesian-optimization: filename=bayesian_optimization-1.2.0-py3-none-any.whl size=11685 sha256=8ed41e95666fe952a50a11f51f2bf8719c39b297f859ba0af05f5e514836d950\n",
            "  Stored in directory: /root/.cache/pip/wheels/fd/9b/71/f127d694e02eb40bcf18c7ae9613b88a6be4470f57a8528c5b\n",
            "  Building wheel for torchfile (setup.py) ... \u001b[?25l\u001b[?25hdone\n",
            "  Created wheel for torchfile: filename=torchfile-0.1.0-py3-none-any.whl size=5710 sha256=268b26fa77107cc898c0212c089f90cce9721cfbaa4f6b9df57ed8e0bfdee5aa\n",
            "  Stored in directory: /root/.cache/pip/wheels/ac/5c/3a/a80e1c65880945c71fd833408cd1e9a8cb7e2f8f37620bb75b\n",
            "Successfully built visdom bayesian-optimization torchfile\n",
            "Installing collected packages: jsonpointer, websocket-client, torchfile, jsonpatch, cma, bayesian-optimization, visdom, nevergrad\n",
            "Successfully installed bayesian-optimization-1.2.0 cma-3.1.0 jsonpatch-1.32 jsonpointer-2.2 nevergrad-0.4.3.post9 torchfile-0.1.0 visdom-0.1.8.9 websocket-client-1.2.1\n"
          ]
        }
      ]
    },
    {
      "cell_type": "code",
      "metadata": {
        "colab": {
          "base_uri": "https://localhost:8080/"
        },
        "id": "0NhhT8IVfGeW",
        "outputId": "4ca63ae5-75c5-4f8f-d068-8617106e36d4"
      },
      "source": [
        "!python train.py --np_vis PGAN -c /content/A2MF_AP/UTKFace/utkface_config.json -n 'utkface_vis' -d /content/drive/MyDrive/checkpoints"
      ],
      "execution_count": null,
      "outputs": [
        {
          "output_type": "stream",
          "name": "stdout",
          "text": [
            "Running PGAN\n",
            "size 10\n",
            "23669 images found\n",
            "AC-GAN classes : \n",
            "{'age_0': {'order': 0, 'values': [0.0, 1.0]}, 'age_1': {'order': 1, 'values': [0.0, 1.0]}, 'age_2': {'order': 2, 'values': [0.0, 1.0]}, 'age_3': {'order': 3, 'values': [0.0, 1.0]}, 'age_4': {'order': 4, 'values': [0.0, 1.0]}, 'gender_0': {'order': 5, 'values': [0.0, 1.0]}, 'gender_1': {'order': 6, 'values': [0.0, 1.0]}, 'race_0': {'order': 7, 'values': [0.0, 1.0]}, 'race_1': {'order': 8, 'values': [0.0, 1.0]}, 'race_2': {'order': 9, 'values': [0.0, 1.0]}, 'race_3': {'order': 10, 'values': [0.0, 1.0]}, 'race_4': {'order': 11, 'values': [0.0, 1.0]}}\n",
            "\n",
            "size 10\n",
            "23669 images found\n",
            "23669 images detected\n",
            "size (4, 4)\n",
            "23669 images found\n",
            "Changing alpha to 0.000\n",
            "Traceback (most recent call last):\n",
            "  File \"train.py\", line 137, in <module>\n",
            "    GANTrainer.train()\n",
            "  File \"/content/pytorch_GAN_zoo/models/trainer/progressive_gan_trainer.py\", line 237, in train\n",
            "    maxIter=self.modelConfig.maxIterAtScale[scale])\n",
            "  File \"/content/pytorch_GAN_zoo/models/trainer/gan_trainer.py\", line 479, in trainOnEpoch\n",
            "    inputs_real = self.inScaleUpdate(i, scale, inputs_real)\n",
            "  File \"/content/pytorch_GAN_zoo/models/trainer/progressive_gan_trainer.py\", line 166, in inScaleUpdate\n",
            "    self.model.updateAlpha(alpha)\n",
            "  File \"/content/pytorch_GAN_zoo/models/progressive_gan.py\", line 134, in updateAlpha\n",
            "    self.avgG.module.setNewAlpha(newAlpha)\n",
            "  File \"/usr/local/lib/python3.7/dist-packages/torch/nn/modules/module.py\", line 1178, in __getattr__\n",
            "    type(self).__name__, name))\n",
            "AttributeError: 'GNet' object has no attribute 'module'\n"
          ]
        }
      ]
    }
  ]
}