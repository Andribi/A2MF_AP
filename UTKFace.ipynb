{
  "nbformat": 4,
  "nbformat_minor": 0,
  "metadata": {
    "colab": {
      "name": "ProvaFacebookPGAN.ipynb",
      "provenance": [],
      "authorship_tag": "ABX9TyMbx7lJkZKtaZgTRR+lL0xM",
      "include_colab_link": true
    },
    "kernelspec": {
      "name": "python3",
      "display_name": "Python 3"
    },
    "language_info": {
      "name": "python"
    },
    "accelerator": "GPU"
  },
  "cells": [
    {
      "cell_type": "markdown",
      "metadata": {
        "id": "view-in-github",
        "colab_type": "text"
      },
      "source": [
        "<a href=\"https://colab.research.google.com/github/Andribi/A2MF_AP/blob/main/UTKFace.ipynb\" target=\"_parent\"><img src=\"https://colab.research.google.com/assets/colab-badge.svg\" alt=\"Open In Colab\"/></a>"
      ]
    },
    {
      "cell_type": "markdown",
      "metadata": {
        "id": "4iYexcVIJZY9"
      },
      "source": [
        "# UTKFace \n"
      ]
    },
    {
      "cell_type": "markdown",
      "metadata": {
        "id": "9jUfsAFGkpV-"
      },
      "source": [
        "## Data Analysis "
      ]
    },
    {
      "cell_type": "code",
      "metadata": {
        "colab": {
          "base_uri": "https://localhost:8080/"
        },
        "id": "KtHmK2k_JOhN",
        "outputId": "3b99447b-4e87-42f4-f637-fa130415101f"
      },
      "source": [
        "# REPOSITORY CLONE\n",
        "!git clone https://github.com/Andribi/A2MF_AP.git"
      ],
      "execution_count": null,
      "outputs": [
        {
          "output_type": "stream",
          "name": "stdout",
          "text": [
            "Cloning into 'A2MF_AP'...\n",
            "remote: Enumerating objects: 241749, done.\u001b[K\n",
            "remote: Counting objects: 100% (46625/46625), done.\u001b[K\n",
            "remote: Compressing objects: 100% (46619/46619), done.\u001b[K\n",
            "remote: Total 241749 (delta 30), reused 46582 (delta 6), pack-reused 195124\u001b[K\n",
            "Receiving objects: 100% (241749/241749), 2.13 GiB | 42.96 MiB/s, done.\n",
            "Resolving deltas: 100% (47/47), done.\n",
            "Checking out files: 100% (242752/242752), done.\n"
          ]
        }
      ]
    },
    {
      "cell_type": "code",
      "metadata": {
        "colab": {
          "base_uri": "https://localhost:8080/"
        },
        "id": "JjVE0T9ieej5",
        "outputId": "c5e5b0c3-b473-4222-e15b-0cfaa397e8b1"
      },
      "source": [
        "# FACEBOOK PGAN CLONE\n",
        "!git clone https://github.com/facebookresearch/pytorch_GAN_zoo.git"
      ],
      "execution_count": null,
      "outputs": [
        {
          "output_type": "stream",
          "name": "stdout",
          "text": [
            "Cloning into 'pytorch_GAN_zoo'...\n",
            "remote: Enumerating objects: 1523, done.\u001b[K\n",
            "remote: Counting objects: 100% (28/28), done.\u001b[K\n",
            "remote: Compressing objects: 100% (24/24), done.\u001b[K\n",
            "remote: Total 1523 (delta 17), reused 13 (delta 4), pack-reused 1495\u001b[K\n",
            "Receiving objects: 100% (1523/1523), 2.06 MiB | 16.88 MiB/s, done.\n",
            "Resolving deltas: 100% (977/977), done.\n"
          ]
        }
      ]
    },
    {
      "cell_type": "code",
      "metadata": {
        "colab": {
          "base_uri": "https://localhost:8080/"
        },
        "id": "gHN21zB3C2eg",
        "outputId": "71a4ab3e-e5f2-4838-8fd6-da82528c7f61"
      },
      "source": [
        "# DRIVE MOUNT\n",
        "from google.colab import drive\n",
        "drive.mount('/content/drive')"
      ],
      "execution_count": null,
      "outputs": [
        {
          "output_type": "stream",
          "name": "stdout",
          "text": [
            "Mounted at /content/drive\n"
          ]
        }
      ]
    },
    {
      "cell_type": "code",
      "metadata": {
        "id": "oRDFjVJH5lds"
      },
      "source": [
        "# IMPORTS\n",
        "import os \n",
        "import pandas as pd \n",
        "import matplotlib.pyplot as plt\n",
        "import json \n",
        "import numpy as np"
      ],
      "execution_count": null,
      "outputs": []
    },
    {
      "cell_type": "code",
      "metadata": {
        "id": "foGE2Mx2iBRl"
      },
      "source": [
        "# GLOBAL VARS\n",
        "UTKFACE_PATH = '/content/A2MF_AP/UTKFace/utkface'\n",
        "UTKFACE_SK_PATH = '/content/A2MF_AP/UTKFace/utkface_sk'\n",
        "UTKFACE_LABELS_PATH = '/content/A2MF_AP/UTKFace/utkface.json'\n",
        "UTKFACE_ATTR_PATH = '/content/A2MF_AP/UTKFace/utkface_attr.json'\n",
        "UTKFACE_CONFIG_PATH = '/content/A2MF_AP/UTKFace/utkface_config.json'"
      ],
      "execution_count": null,
      "outputs": []
    },
    {
      "cell_type": "code",
      "metadata": {
        "id": "wt2qpoJOqIyl",
        "colab": {
          "base_uri": "https://localhost:8080/"
        },
        "outputId": "67c0eed2-0981-417d-afcd-9179946d32fe"
      },
      "source": [
        "%cd /content/A2MF_AP"
      ],
      "execution_count": null,
      "outputs": [
        {
          "output_type": "stream",
          "name": "stdout",
          "text": [
            "/content/A2MF_AP\n"
          ]
        }
      ]
    },
    {
      "cell_type": "code",
      "metadata": {
        "id": "_7g9H0mmp_i3",
        "colab": {
          "base_uri": "https://localhost:8080/"
        },
        "outputId": "1433a59d-2049-4418-ee20-2f928a2b1b73"
      },
      "source": [
        "# LABEL CREATION \n",
        "'''\n",
        "This script generates a json file with the labels for the utkface dataset.\n",
        "The labels of each face image is embedded in the file name, formated like [age]_[gender]_[race]_[date&time].jpg\n",
        "[age] is an integer from 0 to 116, indicating the age\n",
        "[gender] is either 0 (male) or 1 (female)\n",
        "[race] is an integer from 0 to 4, denoting White, Black, Asian, Indian, and Others (like Hispanic, Latino, Middle Eastern).\n",
        "[date&time] is in the format of yyyymmddHHMMSSFFF, showing the date and time an image was collected to UTKFace\n",
        "source: https://susanqq.github.io/UTKFace/\n",
        "'''\n",
        "\n",
        "if not 'utkface.json' in os.listdir('/content/A2MF_AP/UTKFace/'):\n",
        "  res = {}\n",
        "  print('Creating  labels in utkface.json')\n",
        "  feat_names = ['age', 'gender', 'race']\n",
        "  for pic in os.listdir('UTKFace/utkface'):\n",
        "      features = pic.split('_')[:-1]\n",
        "      features_dict = {}\n",
        "      for i in range(len(features)):\n",
        "          features_dict[feat_names[i]] = int(features[i])\n",
        "      res[pic] = features_dict\n",
        "  with open('UTKFace/utkface.json', 'w') as outfile:\n",
        "      json.dump(res, outfile)\n",
        "else:\n",
        "  print('Labels aready in UTKFace directory')"
      ],
      "execution_count": null,
      "outputs": [
        {
          "output_type": "stream",
          "name": "stdout",
          "text": [
            "Labels aready in UTKFace directory\n"
          ]
        }
      ]
    },
    {
      "cell_type": "code",
      "metadata": {
        "id": "gQz2ka58iWc0",
        "colab": {
          "base_uri": "https://localhost:8080/",
          "height": 224
        },
        "outputId": "0ddcfe79-5663-4ab2-8836-4d0aefa0c84f"
      },
      "source": [
        "# CREATE DATAFRAME\n",
        "with open(UTKFACE_LABELS_PATH) as utkface:\n",
        "    utkface_dict = json.load(utkface)\n",
        "\n",
        "utkface_df = pd.DataFrame.from_dict(utkface_dict, orient='index')\n",
        "print('Number of images in UTKFace: ', utkface_df.shape[0])\n",
        "utkface_df.head(5)"
      ],
      "execution_count": null,
      "outputs": [
        {
          "output_type": "stream",
          "name": "stdout",
          "text": [
            "Number of images in UTKFace:  23672\n"
          ]
        },
        {
          "output_type": "execute_result",
          "data": {
            "text/html": [
              "<div>\n",
              "<style scoped>\n",
              "    .dataframe tbody tr th:only-of-type {\n",
              "        vertical-align: middle;\n",
              "    }\n",
              "\n",
              "    .dataframe tbody tr th {\n",
              "        vertical-align: top;\n",
              "    }\n",
              "\n",
              "    .dataframe thead th {\n",
              "        text-align: right;\n",
              "    }\n",
              "</style>\n",
              "<table border=\"1\" class=\"dataframe\">\n",
              "  <thead>\n",
              "    <tr style=\"text-align: right;\">\n",
              "      <th></th>\n",
              "      <th>age</th>\n",
              "      <th>gender</th>\n",
              "      <th>race</th>\n",
              "    </tr>\n",
              "  </thead>\n",
              "  <tbody>\n",
              "    <tr>\n",
              "      <th>37_0_3_20170119202516470.jpg.chip.jpg</th>\n",
              "      <td>37</td>\n",
              "      <td>0</td>\n",
              "      <td>3.0</td>\n",
              "    </tr>\n",
              "    <tr>\n",
              "      <th>15_0_0_20170110225705232.jpg.chip.jpg</th>\n",
              "      <td>15</td>\n",
              "      <td>0</td>\n",
              "      <td>0.0</td>\n",
              "    </tr>\n",
              "    <tr>\n",
              "      <th>45_0_3_20170119171425106.jpg.chip.jpg</th>\n",
              "      <td>45</td>\n",
              "      <td>0</td>\n",
              "      <td>3.0</td>\n",
              "    </tr>\n",
              "    <tr>\n",
              "      <th>53_0_3_20170119201334485.jpg.chip.jpg</th>\n",
              "      <td>53</td>\n",
              "      <td>0</td>\n",
              "      <td>3.0</td>\n",
              "    </tr>\n",
              "    <tr>\n",
              "      <th>22_0_1_20170113193211629.jpg.chip.jpg</th>\n",
              "      <td>22</td>\n",
              "      <td>0</td>\n",
              "      <td>1.0</td>\n",
              "    </tr>\n",
              "  </tbody>\n",
              "</table>\n",
              "</div>"
            ],
            "text/plain": [
              "                                       age  gender  race\n",
              "37_0_3_20170119202516470.jpg.chip.jpg   37       0   3.0\n",
              "15_0_0_20170110225705232.jpg.chip.jpg   15       0   0.0\n",
              "45_0_3_20170119171425106.jpg.chip.jpg   45       0   3.0\n",
              "53_0_3_20170119201334485.jpg.chip.jpg   53       0   3.0\n",
              "22_0_1_20170113193211629.jpg.chip.jpg   22       0   1.0"
            ]
          },
          "metadata": {},
          "execution_count": 37
        }
      ]
    },
    {
      "cell_type": "code",
      "metadata": {
        "colab": {
          "base_uri": "https://localhost:8080/"
        },
        "id": "38maChxYtRUC",
        "outputId": "d42196bc-a4d6-497e-eefc-84e15f4abcfa"
      },
      "source": [
        "# MISSING VALUES\n",
        "print('Percentage of missing values:', round((utkface_df.isna().sum().sum() / utkface_df.shape[0]) * 100 , 2), '%')\n",
        "nan_vals = utkface_df[utkface_df.isna().any(axis=1)]\n",
        "utkface_df = utkface_df.dropna()\n",
        "print('Percentage of missing values after drop:', round((utkface_df.isna().sum().sum() / utkface_df.shape[0]) * 100 , 2), '%')\n",
        "\n",
        "print('Number of images in UTKFace after drop: ', utkface_df.shape[0])"
      ],
      "execution_count": null,
      "outputs": [
        {
          "output_type": "stream",
          "name": "stdout",
          "text": [
            "Percentage of missing values: 0.01 %\n",
            "Percentage of missing values after drop: 0.0 %\n"
          ]
        }
      ]
    },
    {
      "cell_type": "code",
      "metadata": {
        "id": "HFzdVSpna5fM"
      },
      "source": [
        "# AGE CLASSES\n",
        "utkface_df['race'] = utkface_df['race'].apply(np.int64)\n",
        "utkface_df.loc[utkface_df.age < 15, 'age'] = 0\n",
        "utkface_df.loc[((utkface_df.age >= 15) & (utkface_df.age <25)), 'age'] = 1\n",
        "utkface_df.loc[((utkface_df.age >= 25) & (utkface_df.age <65)), 'age'] = 2\n",
        "utkface_df.loc[((utkface_df.age >= 65) & (utkface_df.age <85)), 'age'] = 3\n",
        "utkface_df.loc[utkface_df.age >= 85, 'age'] = 4"
      ],
      "execution_count": null,
      "outputs": []
    },
    {
      "cell_type": "code",
      "metadata": {
        "colab": {
          "base_uri": "https://localhost:8080/",
          "height": 300
        },
        "id": "u4tPaFPmabIU",
        "outputId": "92238cc0-e689-4a6d-8421-69f5741addfd"
      },
      "source": [
        "# DESCRIPTION DATAFRAME\n",
        "utkface_df.describe()"
      ],
      "execution_count": null,
      "outputs": [
        {
          "output_type": "execute_result",
          "data": {
            "text/html": [
              "<div>\n",
              "<style scoped>\n",
              "    .dataframe tbody tr th:only-of-type {\n",
              "        vertical-align: middle;\n",
              "    }\n",
              "\n",
              "    .dataframe tbody tr th {\n",
              "        vertical-align: top;\n",
              "    }\n",
              "\n",
              "    .dataframe thead th {\n",
              "        text-align: right;\n",
              "    }\n",
              "</style>\n",
              "<table border=\"1\" class=\"dataframe\">\n",
              "  <thead>\n",
              "    <tr style=\"text-align: right;\">\n",
              "      <th></th>\n",
              "      <th>age</th>\n",
              "      <th>gender</th>\n",
              "      <th>race</th>\n",
              "    </tr>\n",
              "  </thead>\n",
              "  <tbody>\n",
              "    <tr>\n",
              "      <th>count</th>\n",
              "      <td>23669.000000</td>\n",
              "      <td>23669.000000</td>\n",
              "      <td>23669.000000</td>\n",
              "    </tr>\n",
              "    <tr>\n",
              "      <th>mean</th>\n",
              "      <td>1.656175</td>\n",
              "      <td>0.477587</td>\n",
              "      <td>1.269678</td>\n",
              "    </tr>\n",
              "    <tr>\n",
              "      <th>std</th>\n",
              "      <td>0.878160</td>\n",
              "      <td>0.499508</td>\n",
              "      <td>1.345623</td>\n",
              "    </tr>\n",
              "    <tr>\n",
              "      <th>min</th>\n",
              "      <td>0.000000</td>\n",
              "      <td>0.000000</td>\n",
              "      <td>0.000000</td>\n",
              "    </tr>\n",
              "    <tr>\n",
              "      <th>25%</th>\n",
              "      <td>1.000000</td>\n",
              "      <td>0.000000</td>\n",
              "      <td>0.000000</td>\n",
              "    </tr>\n",
              "    <tr>\n",
              "      <th>50%</th>\n",
              "      <td>2.000000</td>\n",
              "      <td>0.000000</td>\n",
              "      <td>1.000000</td>\n",
              "    </tr>\n",
              "    <tr>\n",
              "      <th>75%</th>\n",
              "      <td>2.000000</td>\n",
              "      <td>1.000000</td>\n",
              "      <td>2.000000</td>\n",
              "    </tr>\n",
              "    <tr>\n",
              "      <th>max</th>\n",
              "      <td>4.000000</td>\n",
              "      <td>1.000000</td>\n",
              "      <td>4.000000</td>\n",
              "    </tr>\n",
              "  </tbody>\n",
              "</table>\n",
              "</div>"
            ],
            "text/plain": [
              "                age        gender          race\n",
              "count  23669.000000  23669.000000  23669.000000\n",
              "mean       1.656175      0.477587      1.269678\n",
              "std        0.878160      0.499508      1.345623\n",
              "min        0.000000      0.000000      0.000000\n",
              "25%        1.000000      0.000000      0.000000\n",
              "50%        2.000000      0.000000      1.000000\n",
              "75%        2.000000      1.000000      2.000000\n",
              "max        4.000000      1.000000      4.000000"
            ]
          },
          "metadata": {},
          "execution_count": 40
        }
      ]
    },
    {
      "cell_type": "code",
      "metadata": {
        "colab": {
          "base_uri": "https://localhost:8080/",
          "height": 800
        },
        "id": "hH7XfD1JhqoG",
        "outputId": "14cffca7-cb7c-4921-99a1-929154c54158"
      },
      "source": [
        "# DISTRIBUTIONS\n",
        "age = utkface_df[\"age\"].astype(int).sort_values()\n",
        "age_bins=len(age.value_counts())\n",
        "\n",
        "gender = utkface_df[\"gender\"].astype(int).sort_values()\n",
        "gender_bins=len(gender.value_counts())\n",
        "\n",
        "race = utkface_df[\"race\"].astype(int).sort_values()\n",
        "race_bins=len(race.value_counts())\n",
        "\n",
        "age.hist(bins=age_bins, figsize=[8,4], xrot=90, edgecolor='steelblue', linewidth=1, grid=False, alpha=0.5, legend=True)\n",
        "plt.title('Age distribution')\n",
        "plt.xticks(np.arange(0, 5, step=1))\n",
        "plt.show()\n",
        "\n",
        "gender.hist(bins=gender_bins, figsize=[8,4], xrot=90, edgecolor='orange', linewidth=1, grid=False, alpha=0.5, legend=True, color='yellow')\n",
        "plt.title('Gender distribution')\n",
        "plt.xticks(np.arange(0, 2, step=1))\n",
        "plt.show()\n",
        "\n",
        "race.hist(bins=race_bins, figsize=[8,4], xrot=90, edgecolor='red', linewidth=1, grid=False, alpha=0.5, legend=True, color='orchid')\n",
        "plt.xticks(np.arange(0, 5, step=1))\n",
        "plt.title('Race distribution')\n",
        "plt.show()"
      ],
      "execution_count": null,
      "outputs": [
        {
          "output_type": "display_data",
          "data": {
            "image/png": "[encoded data removed]",
            "text/plain": [
              "<Figure size 576x288 with 1 Axes>"
            ]
          },
          "metadata": {
            "needs_background": "light"
          }
        },
        {
          "output_type": "display_data",
          "data": {
            "image/png": "[encoded data removed]",
            "text/plain": [
              "<Figure size 576x288 with 1 Axes>"
            ]
          },
          "metadata": {
            "needs_background": "light"
          }
        },
        {
          "output_type": "display_data",
          "data": {
            "image/png": "[encoded data removed]",
            "text/plain": [
              "<Figure size 576x288 with 1 Axes>"
            ]
          },
          "metadata": {
            "needs_background": "light"
          }
        }
      ]
    },
    {
      "cell_type": "code",
      "metadata": {
        "colab": {
          "base_uri": "https://localhost:8080/",
          "height": 226
        },
        "id": "ny1y3rxjGiXW",
        "outputId": "1fa66237-43b2-49f9-e743-0594c4b5c965"
      },
      "source": [
        "# ONE HOT ENCODING\n",
        "utkface_df = pd.get_dummies(utkface_df, columns=[\"age\", \"gender\", \"race\"], dtype=float)\n",
        "utkface_df.head(5)"
      ],
      "execution_count": null,
      "outputs": [
        {
          "output_type": "execute_result",
          "data": {
            "text/html": [
              "<div>\n",
              "<style scoped>\n",
              "    .dataframe tbody tr th:only-of-type {\n",
              "        vertical-align: middle;\n",
              "    }\n",
              "\n",
              "    .dataframe tbody tr th {\n",
              "        vertical-align: top;\n",
              "    }\n",
              "\n",
              "    .dataframe thead th {\n",
              "        text-align: right;\n",
              "    }\n",
              "</style>\n",
              "<table border=\"1\" class=\"dataframe\">\n",
              "  <thead>\n",
              "    <tr style=\"text-align: right;\">\n",
              "      <th></th>\n",
              "      <th>age_0</th>\n",
              "      <th>age_1</th>\n",
              "      <th>age_2</th>\n",
              "      <th>age_3</th>\n",
              "      <th>age_4</th>\n",
              "      <th>gender_0</th>\n",
              "      <th>gender_1</th>\n",
              "      <th>race_0</th>\n",
              "      <th>race_1</th>\n",
              "      <th>race_2</th>\n",
              "      <th>race_3</th>\n",
              "      <th>race_4</th>\n",
              "    </tr>\n",
              "  </thead>\n",
              "  <tbody>\n",
              "    <tr>\n",
              "      <th>37_0_3_20170119202516470.jpg.chip.jpg</th>\n",
              "      <td>0.0</td>\n",
              "      <td>0.0</td>\n",
              "      <td>1.0</td>\n",
              "      <td>0.0</td>\n",
              "      <td>0.0</td>\n",
              "      <td>1.0</td>\n",
              "      <td>0.0</td>\n",
              "      <td>0.0</td>\n",
              "      <td>0.0</td>\n",
              "      <td>0.0</td>\n",
              "      <td>1.0</td>\n",
              "      <td>0.0</td>\n",
              "    </tr>\n",
              "    <tr>\n",
              "      <th>15_0_0_20170110225705232.jpg.chip.jpg</th>\n",
              "      <td>0.0</td>\n",
              "      <td>1.0</td>\n",
              "      <td>0.0</td>\n",
              "      <td>0.0</td>\n",
              "      <td>0.0</td>\n",
              "      <td>1.0</td>\n",
              "      <td>0.0</td>\n",
              "      <td>1.0</td>\n",
              "      <td>0.0</td>\n",
              "      <td>0.0</td>\n",
              "      <td>0.0</td>\n",
              "      <td>0.0</td>\n",
              "    </tr>\n",
              "    <tr>\n",
              "      <th>45_0_3_20170119171425106.jpg.chip.jpg</th>\n",
              "      <td>0.0</td>\n",
              "      <td>0.0</td>\n",
              "      <td>1.0</td>\n",
              "      <td>0.0</td>\n",
              "      <td>0.0</td>\n",
              "      <td>1.0</td>\n",
              "      <td>0.0</td>\n",
              "      <td>0.0</td>\n",
              "      <td>0.0</td>\n",
              "      <td>0.0</td>\n",
              "      <td>1.0</td>\n",
              "      <td>0.0</td>\n",
              "    </tr>\n",
              "    <tr>\n",
              "      <th>53_0_3_20170119201334485.jpg.chip.jpg</th>\n",
              "      <td>0.0</td>\n",
              "      <td>0.0</td>\n",
              "      <td>1.0</td>\n",
              "      <td>0.0</td>\n",
              "      <td>0.0</td>\n",
              "      <td>1.0</td>\n",
              "      <td>0.0</td>\n",
              "      <td>0.0</td>\n",
              "      <td>0.0</td>\n",
              "      <td>0.0</td>\n",
              "      <td>1.0</td>\n",
              "      <td>0.0</td>\n",
              "    </tr>\n",
              "    <tr>\n",
              "      <th>22_0_1_20170113193211629.jpg.chip.jpg</th>\n",
              "      <td>0.0</td>\n",
              "      <td>1.0</td>\n",
              "      <td>0.0</td>\n",
              "      <td>0.0</td>\n",
              "      <td>0.0</td>\n",
              "      <td>1.0</td>\n",
              "      <td>0.0</td>\n",
              "      <td>0.0</td>\n",
              "      <td>1.0</td>\n",
              "      <td>0.0</td>\n",
              "      <td>0.0</td>\n",
              "      <td>0.0</td>\n",
              "    </tr>\n",
              "  </tbody>\n",
              "</table>\n",
              "</div>"
            ],
            "text/plain": [
              "                                       age_0  age_1  ...  race_3  race_4\n",
              "37_0_3_20170119202516470.jpg.chip.jpg    0.0    0.0  ...     1.0     0.0\n",
              "15_0_0_20170110225705232.jpg.chip.jpg    0.0    1.0  ...     0.0     0.0\n",
              "45_0_3_20170119171425106.jpg.chip.jpg    0.0    0.0  ...     1.0     0.0\n",
              "53_0_3_20170119201334485.jpg.chip.jpg    0.0    0.0  ...     1.0     0.0\n",
              "22_0_1_20170113193211629.jpg.chip.jpg    0.0    1.0  ...     0.0     0.0\n",
              "\n",
              "[5 rows x 12 columns]"
            ]
          },
          "metadata": {},
          "execution_count": 42
        }
      ]
    },
    {
      "cell_type": "code",
      "metadata": {
        "id": "gAf_ffgWu-o7"
      },
      "source": [
        "# ONE HOT ENCODED ATTRIBUTES JSON\n",
        "attr_dict = utkface_df.to_json(orient='index')\n",
        "with open(UTKFACE_ATTR_PATH, 'w') as outfile:\n",
        "    json.dump(json.loads(attr_dict), outfile)"
      ],
      "execution_count": null,
      "outputs": []
    },
    {
      "cell_type": "code",
      "metadata": {
        "id": "6jKVf2259vT6",
        "colab": {
          "base_uri": "https://localhost:8080/"
        },
        "outputId": "c60c3883-dd79-4b5d-cbe5-f06785626809"
      },
      "source": [
        "# DATASET SPLIT\n",
        "\n",
        "from sklearn.model_selection import train_test_split\n",
        "\n",
        "X_train, X_test = train_test_split(utkface_df, test_size=0.35)\n",
        "\n",
        "print('Training samples number:', X_train.shape[0])\n",
        "print('Testing samples number: ', X_test.shape[0])"
      ],
      "execution_count": null,
      "outputs": [
        {
          "output_type": "stream",
          "name": "stdout",
          "text": [
            "Training samples number: 15384\n",
            "Testing samples number:  8285\n"
          ]
        }
      ]
    },
    {
      "cell_type": "markdown",
      "metadata": {
        "id": "nNK1k2ldmKDK"
      },
      "source": [
        "## Age Race Gender Recognition\n",
        "\n",
        "Source: https://coursys.sfu.ca/2020sp-cmpt-726-x1/pages/ARG_report/view\n"
      ]
    },
    {
      "cell_type": "code",
      "metadata": {
        "id": "qtbDR14tmz3R",
        "colab": {
          "base_uri": "https://localhost:8080/"
        },
        "outputId": "3aa5b8c9-f6c4-4019-a4bf-9cf01e253743"
      },
      "source": [
        "! git clone https://github.com/pagand/CMPT726.git"
      ],
      "execution_count": null,
      "outputs": [
        {
          "output_type": "stream",
          "name": "stdout",
          "text": [
            "Cloning into 'CMPT726'...\n",
            "remote: Enumerating objects: 203, done.\u001b[K\n",
            "remote: Counting objects: 100% (87/87), done.\u001b[K\n",
            "remote: Compressing objects: 100% (84/84), done.\u001b[K\n",
            "remote: Total 203 (delta 42), reused 2 (delta 1), pack-reused 116\u001b[K\n",
            "Receiving objects: 100% (203/203), 101.86 KiB | 3.64 MiB/s, done.\n",
            "Resolving deltas: 100% (91/91), done.\n"
          ]
        }
      ]
    },
    {
      "cell_type": "markdown",
      "metadata": {
        "id": "-ToA1cOr4Ol5"
      },
      "source": [
        "Source: https://github.com/Sobika2531/Age-Gender-And-Race-Detection-Using-CNN/blob/main/AGRdetector.ipynb"
      ]
    },
    {
      "cell_type": "code",
      "metadata": {
        "id": "tKNnymS_tVSo",
        "colab": {
          "base_uri": "https://localhost:8080/",
          "height": 1000
        },
        "outputId": "ca93835f-f132-4f1d-fcb2-61e965ad47b1"
      },
      "source": [
        "from keras.layers import Input, Dense, BatchNormalization, Conv2D, MaxPool2D, GlobalMaxPool2D, Dropout\n",
        "from keras.models import Model\n",
        "from tensorflow.keras.utils import plot_model\n",
        "\n",
        "\n",
        "ID_GENDER_MAP = {0: 'male', 1: 'female'}\n",
        "GENDER_ID_MAP = dict((g, i) for i, g in ID_GENDER_MAP.items())\n",
        "ID_RACE_MAP = {0: 'white', 1: 'black', 2: 'asian', 3: 'indian', 4: 'others'}\n",
        "RACE_ID_MAP = dict((r, i) for i, r in ID_RACE_MAP.items())\n",
        "ID_AGE_MAP = {0: 'children', 1: 'young', 2:'adult', 3:'senior', 4:'old'}\n",
        "AGE_ID_MAP = dict((a, i) for i, a in ID_AGE_MAP.items())\n",
        "\n",
        "def conv_block(inp, filters=32, bn=True, pool=True):\n",
        "    _ = Conv2D(filters=filters, kernel_size=3, activation='relu', padding='same')(inp)\n",
        "    if bn:\n",
        "        _ = BatchNormalization()(_)\n",
        "    if pool:\n",
        "        _ = MaxPool2D()(_)\n",
        "    return _\n",
        "\n",
        "input_layer = Input(shape=(200, 200, 3))\n",
        "_ = conv_block(input_layer, filters=32, bn=False, pool=False)\n",
        "_ = conv_block(_, filters=32*2)\n",
        "_ = conv_block(_, filters=32*3)\n",
        "_ = conv_block(_, filters=32*4)\n",
        "_ = conv_block(_, filters=32*5)\n",
        "_ = conv_block(_, filters=32*6)\n",
        "bottleneck = GlobalMaxPool2D()(_)\n",
        "\n",
        "# age no categorical \n",
        "#_ = Dense(units=128, activation='relu')(bottleneck)\n",
        "#age_output = Dense(units=1, activation='sigmoid', name='age_output')(_)\n",
        "\n",
        "\n",
        "# for age calculation\n",
        "_ = Dense(units=128, activation='relu')(bottleneck)\n",
        "age_output = Dense(units=len(AGE_ID_MAP), activation='softmax', name='age_output')(_)\n",
        "\n",
        "# for race prediction\n",
        "_ = Dense(units=128, activation='relu')(bottleneck)\n",
        "race_output = Dense(units=len(RACE_ID_MAP), activation='softmax', name='race_output')(_)\n",
        "\n",
        "# for gender prediction\n",
        "_ = Dense(units=128, activation='relu')(bottleneck)\n",
        "gender_output = Dense(units=len(GENDER_ID_MAP), activation='softmax', name='gender_output')(_)\n",
        "\n",
        "model = Model(inputs=input_layer, outputs=[age_output, race_output, gender_output])\n",
        "model.compile(optimizer='rmsprop', \n",
        "              loss={'age_output': 'categorical_crossentropy', 'race_output': 'categorical_crossentropy', 'gender_output': 'categorical_crossentropy'},\n",
        "              loss_weights={'age_output': 1.5, 'race_output': 1.5, 'gender_output': 1.},\n",
        "              metrics={'age_output': 'accuracy', 'race_output': 'accuracy', 'gender_output': 'accuracy'})\n",
        "#model.summary()\n",
        "plot_model(model, \"model.png\")\n"
      ],
      "execution_count": null,
      "outputs": [
        {
          "output_type": "execute_result",
          "data": {
            "image/png": "[encoded data removed]",
            "text/plain": [
              "<IPython.core.display.Image object>"
            ]
          },
          "metadata": {},
          "execution_count": 49
        }
      ]
    },
    {
      "cell_type": "code",
      "metadata": {
        "id": "t26SSTsxzu-A"
      },
      "source": [
        "from tensorflow.keras.utils import to_categorical\n",
        "from PIL import Image\n",
        "from pathlib import Path\n",
        "\n",
        "def map_ages(age):\n",
        "  if age <= 14:\n",
        "    age = 0.0 # children\n",
        "  elif age <= 24:\n",
        "    age = 1.0 # young\n",
        "  elif age <= 64:\n",
        "    age = 2.0 # adult\n",
        "  elif age <= 84:\n",
        "    age = 3.0 # senior\n",
        "  else:\n",
        "    age = 4.0 # old\n",
        "  return age \n",
        "\n",
        "\n",
        "def get_data_generator(df, for_training, batch_size=16):\n",
        "    images, ages, genders, races = [], [], [], []\n",
        "    while True:\n",
        "        for i in range(len(df)):\n",
        "            r = df.iloc[i]\n",
        "            file, age, gender, race = r.name, r['age'], r['gender'],  r['race']\n",
        "            \n",
        "            path = Path(UTKFACE_PATH, file)\n",
        "            im = Image.open(str(path))\n",
        "            # im = im.resize((200, 200))\n",
        "            im = np.array(im) / 255.0\n",
        "            age = map_ages(age)\n",
        "            images.append(im)\n",
        "            ages.append(to_categorical(age, 5))\n",
        "            races.append(to_categorical(race, len(RACE_ID_MAP)))\n",
        "            genders.append(to_categorical(gender, 2))\n",
        "            if len(images) >= batch_size:\n",
        "                yield np.array(images), [np.array(ages), np.array(races), np.array(genders)]\n",
        "                images, ages, races, genders = [], [], [], []\n",
        "        if not for_training:\n",
        "            break"
      ],
      "execution_count": null,
      "outputs": []
    },
    {
      "cell_type": "code",
      "metadata": {
        "id": "g9CllP9kvxOf",
        "colab": {
          "base_uri": "https://localhost:8080/"
        },
        "outputId": "0af12f3c-ecb9-4205-ac84-cda3a2650c8e"
      },
      "source": [
        "from keras.callbacks import ModelCheckpoint\n",
        "from tensorflow import keras\n",
        "\n",
        "batch_size = 16\n",
        "valid_batch_size = 16\n",
        "train_gen = get_data_generator(X_train, for_training=True, batch_size=batch_size)\n",
        "valid_gen = get_data_generator(X_test, for_training=True, batch_size=valid_batch_size)\n",
        "\n",
        "callbacks = [ModelCheckpoint(\"/content/drive/MyDrive/AGR_recognition/model_checkpoint\", monitor='val_loss')]\n",
        "\n",
        "history = model.fit(train_gen,\n",
        "                    epochs=10,\n",
        "                    steps_per_epoch=64,\n",
        "                    callbacks=callbacks,\n",
        "                    validation_data=valid_gen,\n",
        "                    validation_steps=len(X_test)//valid_batch_size)"
      ],
      "execution_count": null,
      "outputs": [
        {
          "output_type": "stream",
          "name": "stdout",
          "text": [
            "Epoch 1/10\n",
            "64/64 [==============================] - ETA: 0s - loss: 5.9136 - age_output_loss: 1.4177 - race_output_loss: 1.8054 - gender_output_loss: 1.0790 - age_output_accuracy: 0.5566 - race_output_accuracy: 0.4062 - gender_output_accuracy: 0.5430INFO:tensorflow:Assets written to: /content/drive/MyDrive/AGR_recognition/model_checkpoint/assets\n",
            "64/64 [==============================] - 962s 15s/step - loss: 5.9136 - age_output_loss: 1.4177 - race_output_loss: 1.8054 - gender_output_loss: 1.0790 - age_output_accuracy: 0.5566 - race_output_accuracy: 0.4062 - gender_output_accuracy: 0.5430 - val_loss: 5.3615 - val_age_output_loss: 1.3151 - val_race_output_loss: 1.7386 - val_gender_output_loss: 0.7809 - val_age_output_accuracy: 0.5581 - val_race_output_accuracy: 0.3447 - val_gender_output_accuracy: 0.4483\n",
            "Epoch 2/10\n",
            "64/64 [==============================] - ETA: 0s - loss: 4.7657 - age_output_loss: 1.1454 - race_output_loss: 1.4965 - gender_output_loss: 0.8028 - age_output_accuracy: 0.6211 - race_output_accuracy: 0.4121 - gender_output_accuracy: 0.5527INFO:tensorflow:Assets written to: /content/drive/MyDrive/AGR_recognition/model_checkpoint/assets\n",
            "64/64 [==============================] - 944s 15s/step - loss: 4.7657 - age_output_loss: 1.1454 - race_output_loss: 1.4965 - gender_output_loss: 0.8028 - age_output_accuracy: 0.6211 - race_output_accuracy: 0.4121 - gender_output_accuracy: 0.5527 - val_loss: 5.3797 - val_age_output_loss: 1.3787 - val_race_output_loss: 1.7408 - val_gender_output_loss: 0.7004 - val_age_output_accuracy: 0.6333 - val_race_output_accuracy: 0.4284 - val_gender_output_accuracy: 0.5455\n",
            "Epoch 3/10\n",
            "64/64 [==============================] - ETA: 0s - loss: 4.6348 - age_output_loss: 1.1584 - race_output_loss: 1.4249 - gender_output_loss: 0.7598 - age_output_accuracy: 0.5713 - race_output_accuracy: 0.4414 - gender_output_accuracy: 0.5674INFO:tensorflow:Assets written to: /content/drive/MyDrive/AGR_recognition/model_checkpoint/assets\n",
            "64/64 [==============================] - 973s 15s/step - loss: 4.6348 - age_output_loss: 1.1584 - race_output_loss: 1.4249 - gender_output_loss: 0.7598 - age_output_accuracy: 0.5713 - race_output_accuracy: 0.4414 - gender_output_accuracy: 0.5674 - val_loss: 5.5472 - val_age_output_loss: 1.1930 - val_race_output_loss: 1.7114 - val_gender_output_loss: 1.1905 - val_age_output_accuracy: 0.5265 - val_race_output_accuracy: 0.4067 - val_gender_output_accuracy: 0.5243\n",
            "Epoch 4/10\n",
            "64/64 [==============================] - ETA: 0s - loss: 4.4058 - age_output_loss: 1.0628 - race_output_loss: 1.4255 - gender_output_loss: 0.6734 - age_output_accuracy: 0.6367 - race_output_accuracy: 0.4277 - gender_output_accuracy: 0.6182INFO:tensorflow:Assets written to: /content/drive/MyDrive/AGR_recognition/model_checkpoint/assets\n",
            "64/64 [==============================] - 961s 15s/step - loss: 4.4058 - age_output_loss: 1.0628 - race_output_loss: 1.4255 - gender_output_loss: 0.6734 - age_output_accuracy: 0.6367 - race_output_accuracy: 0.4277 - gender_output_accuracy: 0.6182 - val_loss: 4.5095 - val_age_output_loss: 1.1000 - val_race_output_loss: 1.4724 - val_gender_output_loss: 0.6510 - val_age_output_accuracy: 0.6586 - val_race_output_accuracy: 0.3866 - val_gender_output_accuracy: 0.6104\n",
            "Epoch 5/10\n",
            "64/64 [==============================] - ETA: 0s - loss: 4.3755 - age_output_loss: 1.1024 - race_output_loss: 1.3779 - gender_output_loss: 0.6551 - age_output_accuracy: 0.6182 - race_output_accuracy: 0.4541 - gender_output_accuracy: 0.6436INFO:tensorflow:Assets written to: /content/drive/MyDrive/AGR_recognition/model_checkpoint/assets\n",
            "64/64 [==============================] - 970s 15s/step - loss: 4.3755 - age_output_loss: 1.1024 - race_output_loss: 1.3779 - gender_output_loss: 0.6551 - age_output_accuracy: 0.6182 - race_output_accuracy: 0.4541 - gender_output_accuracy: 0.6436 - val_loss: 4.3441 - val_age_output_loss: 1.0737 - val_race_output_loss: 1.3707 - val_gender_output_loss: 0.6775 - val_age_output_accuracy: 0.6561 - val_race_output_accuracy: 0.4917 - val_gender_output_accuracy: 0.6223\n",
            "Epoch 6/10\n",
            "64/64 [==============================] - ETA: 0s - loss: 4.0828 - age_output_loss: 0.9956 - race_output_loss: 1.3270 - gender_output_loss: 0.5989 - age_output_accuracy: 0.6426 - race_output_accuracy: 0.4951 - gender_output_accuracy: 0.6807INFO:tensorflow:Assets written to: /content/drive/MyDrive/AGR_recognition/model_checkpoint/assets\n",
            "64/64 [==============================] - 961s 15s/step - loss: 4.0828 - age_output_loss: 0.9956 - race_output_loss: 1.3270 - gender_output_loss: 0.5989 - age_output_accuracy: 0.6426 - race_output_accuracy: 0.4951 - gender_output_accuracy: 0.6807 - val_loss: 5.1005 - val_age_output_loss: 1.5864 - val_race_output_loss: 1.3925 - val_gender_output_loss: 0.6321 - val_age_output_accuracy: 0.6337 - val_race_output_accuracy: 0.4564 - val_gender_output_accuracy: 0.6758\n",
            "Epoch 7/10\n",
            "64/64 [==============================] - ETA: 0s - loss: 3.9457 - age_output_loss: 0.9454 - race_output_loss: 1.3017 - gender_output_loss: 0.5751 - age_output_accuracy: 0.6748 - race_output_accuracy: 0.5049 - gender_output_accuracy: 0.6963INFO:tensorflow:Assets written to: /content/drive/MyDrive/AGR_recognition/model_checkpoint/assets\n",
            "64/64 [==============================] - 947s 15s/step - loss: 3.9457 - age_output_loss: 0.9454 - race_output_loss: 1.3017 - gender_output_loss: 0.5751 - age_output_accuracy: 0.6748 - race_output_accuracy: 0.5049 - gender_output_accuracy: 0.6963 - val_loss: 5.1666 - val_age_output_loss: 1.3077 - val_race_output_loss: 1.4901 - val_gender_output_loss: 0.9700 - val_age_output_accuracy: 0.5410 - val_race_output_accuracy: 0.4377 - val_gender_output_accuracy: 0.5256\n",
            "Epoch 8/10\n",
            "64/64 [==============================] - ETA: 0s - loss: 3.7897 - age_output_loss: 0.9077 - race_output_loss: 1.2402 - gender_output_loss: 0.5679 - age_output_accuracy: 0.6895 - race_output_accuracy: 0.5117 - gender_output_accuracy: 0.7207INFO:tensorflow:Assets written to: /content/drive/MyDrive/AGR_recognition/model_checkpoint/assets\n",
            "64/64 [==============================] - 938s 15s/step - loss: 3.7897 - age_output_loss: 0.9077 - race_output_loss: 1.2402 - gender_output_loss: 0.5679 - age_output_accuracy: 0.6895 - race_output_accuracy: 0.5117 - gender_output_accuracy: 0.7207 - val_loss: 4.1976 - val_age_output_loss: 1.0992 - val_race_output_loss: 1.3331 - val_gender_output_loss: 0.5493 - val_age_output_accuracy: 0.7010 - val_race_output_accuracy: 0.4956 - val_gender_output_accuracy: 0.7411\n",
            "Epoch 9/10\n",
            "64/64 [==============================] - ETA: 0s - loss: 3.6983 - age_output_loss: 0.9131 - race_output_loss: 1.2082 - gender_output_loss: 0.5163 - age_output_accuracy: 0.6836 - race_output_accuracy: 0.5430 - gender_output_accuracy: 0.7422INFO:tensorflow:Assets written to: /content/drive/MyDrive/AGR_recognition/model_checkpoint/assets\n",
            "64/64 [==============================] - 940s 15s/step - loss: 3.6983 - age_output_loss: 0.9131 - race_output_loss: 1.2082 - gender_output_loss: 0.5163 - age_output_accuracy: 0.6836 - race_output_accuracy: 0.5430 - gender_output_accuracy: 0.7422 - val_loss: 4.5961 - val_age_output_loss: 0.9221 - val_race_output_loss: 1.7984 - val_gender_output_loss: 0.5154 - val_age_output_accuracy: 0.6789 - val_race_output_accuracy: 0.2459 - val_gender_output_accuracy: 0.7483\n",
            "Epoch 10/10\n",
            "64/64 [==============================] - ETA: 0s - loss: 3.4082 - age_output_loss: 0.8212 - race_output_loss: 1.1255 - gender_output_loss: 0.4881 - age_output_accuracy: 0.7178 - race_output_accuracy: 0.5879 - gender_output_accuracy: 0.7695INFO:tensorflow:Assets written to: /content/drive/MyDrive/AGR_recognition/model_checkpoint/assets\n",
            "64/64 [==============================] - 931s 15s/step - loss: 3.4082 - age_output_loss: 0.8212 - race_output_loss: 1.1255 - gender_output_loss: 0.4881 - age_output_accuracy: 0.7178 - race_output_accuracy: 0.5879 - gender_output_accuracy: 0.7695 - val_loss: 4.2024 - val_age_output_loss: 1.1482 - val_race_output_loss: 1.3172 - val_gender_output_loss: 0.5043 - val_age_output_accuracy: 0.6639 - val_race_output_accuracy: 0.4648 - val_gender_output_accuracy: 0.7576\n"
          ]
        }
      ]
    },
    {
      "cell_type": "markdown",
      "metadata": {
        "id": "Vh3sIalL20nN"
      },
      "source": [
        "Source: https://github.com/wondonghyeon/face-classification/blob/master/train.ipynb"
      ]
    },
    {
      "cell_type": "code",
      "metadata": {
        "id": "tvrOWyf_vBas"
      },
      "source": [
        "# MLP CLASSIFIER \n",
        "from sklearn.neural_network import MLPClassifier\n",
        "\n",
        "clf = MLPClassifier(solver='adam', hidden_layer_sizes=(128, 128),max_iter = 5000, verbose=True, tol=1e-4, activation='relu')\n",
        "clf.fit(X_train)\n",
        "pred = clf.predict(X_test)\n",
        "score = clf.predict_proba(X_test)\n",
        "\n",
        "df_pred = pd.DataFrame(pred, columns=df_label.columns, index=Y_test.index)\n",
        "df_score = pd.DataFrame(score, columns=df_label.columns, index=Y_test.index)"
      ],
      "execution_count": null,
      "outputs": []
    },
    {
      "cell_type": "markdown",
      "metadata": {
        "id": "cDgggP-8L-at"
      },
      "source": [
        "Provare il classificatore MLP"
      ]
    },
    {
      "cell_type": "markdown",
      "metadata": {
        "id": "_BTuzMApjMr1"
      },
      "source": [
        "## PGAN"
      ]
    },
    {
      "cell_type": "code",
      "metadata": {
        "id": "Gs-FLztxPQIz"
      },
      "source": [
        "content = { \n",
        "    \"pathDB\": UTKFACE_PATH, \n",
        "    \"pathAttribDict\": UTKFACE_ATTR_PATH,\n",
        "    \"config\": {\n",
        "        \"maxIterAtScale\": [48000, 96000, 96000, 96000, 96000, 96000, 200000], \n",
        "        \"depthScales\": [256, 256, 256, 128, 64, 32, 16]\n",
        "        }\n",
        "    }\n",
        "\n",
        "with open(UTKFACE_CONFIG_PATH, 'w') as outfile:\n",
        "    json.dump(content, outfile)"
      ],
      "execution_count": null,
      "outputs": []
    },
    {
      "cell_type": "code",
      "metadata": {
        "colab": {
          "base_uri": "https://localhost:8080/"
        },
        "id": "3ovZttJcezuq",
        "outputId": "5fd811a8-ef42-4af0-c5ec-b449a1c394cc"
      },
      "source": [
        "%cd /content/pytorch_GAN_zoo/\n",
        "!pip install -r /content/pytorch_GAN_zoo/requirements.txt"
      ],
      "execution_count": null,
      "outputs": [
        {
          "output_type": "stream",
          "name": "stdout",
          "text": [
            "/content/pytorch_GAN_zoo\n",
            "Requirement already satisfied: numpy in /usr/local/lib/python3.7/dist-packages (from -r /content/pytorch_GAN_zoo/requirements.txt (line 1)) (1.19.5)\n",
            "Requirement already satisfied: scipy in /usr/local/lib/python3.7/dist-packages (from -r /content/pytorch_GAN_zoo/requirements.txt (line 2)) (1.4.1)\n",
            "Requirement already satisfied: visdom in /usr/local/lib/python3.7/dist-packages (from -r /content/pytorch_GAN_zoo/requirements.txt (line 3)) (0.1.8.9)\n",
            "Requirement already satisfied: h5py in /usr/local/lib/python3.7/dist-packages (from -r /content/pytorch_GAN_zoo/requirements.txt (line 4)) (3.1.0)\n",
            "Requirement already satisfied: nevergrad in /usr/local/lib/python3.7/dist-packages (from -r /content/pytorch_GAN_zoo/requirements.txt (line 5)) (0.4.3.post9)\n",
            "Requirement already satisfied: pillow in /usr/local/lib/python3.7/dist-packages (from visdom->-r /content/pytorch_GAN_zoo/requirements.txt (line 3)) (7.1.2)\n",
            "Requirement already satisfied: tornado in /usr/local/lib/python3.7/dist-packages (from visdom->-r /content/pytorch_GAN_zoo/requirements.txt (line 3)) (5.1.1)\n",
            "Requirement already satisfied: requests in /usr/local/lib/python3.7/dist-packages (from visdom->-r /content/pytorch_GAN_zoo/requirements.txt (line 3)) (2.23.0)\n",
            "Requirement already satisfied: six in /usr/local/lib/python3.7/dist-packages (from visdom->-r /content/pytorch_GAN_zoo/requirements.txt (line 3)) (1.15.0)\n",
            "Requirement already satisfied: torchfile in /usr/local/lib/python3.7/dist-packages (from visdom->-r /content/pytorch_GAN_zoo/requirements.txt (line 3)) (0.1.0)\n",
            "Requirement already satisfied: websocket-client in /usr/local/lib/python3.7/dist-packages (from visdom->-r /content/pytorch_GAN_zoo/requirements.txt (line 3)) (1.2.1)\n",
            "Requirement already satisfied: pyzmq in /usr/local/lib/python3.7/dist-packages (from visdom->-r /content/pytorch_GAN_zoo/requirements.txt (line 3)) (22.3.0)\n",
            "Requirement already satisfied: jsonpatch in /usr/local/lib/python3.7/dist-packages (from visdom->-r /content/pytorch_GAN_zoo/requirements.txt (line 3)) (1.32)\n",
            "Requirement already satisfied: cached-property in /usr/local/lib/python3.7/dist-packages (from h5py->-r /content/pytorch_GAN_zoo/requirements.txt (line 4)) (1.5.2)\n",
            "Requirement already satisfied: bayesian-optimization>=1.2.0 in /usr/local/lib/python3.7/dist-packages (from nevergrad->-r /content/pytorch_GAN_zoo/requirements.txt (line 5)) (1.2.0)\n",
            "Requirement already satisfied: cma>=2.6.0 in /usr/local/lib/python3.7/dist-packages (from nevergrad->-r /content/pytorch_GAN_zoo/requirements.txt (line 5)) (3.1.0)\n",
            "Requirement already satisfied: typing-extensions>=3.6.6 in /usr/local/lib/python3.7/dist-packages (from nevergrad->-r /content/pytorch_GAN_zoo/requirements.txt (line 5)) (3.10.0.2)\n",
            "Requirement already satisfied: scikit-learn>=0.18.0 in /usr/local/lib/python3.7/dist-packages (from bayesian-optimization>=1.2.0->nevergrad->-r /content/pytorch_GAN_zoo/requirements.txt (line 5)) (1.0.1)\n",
            "Requirement already satisfied: joblib>=0.11 in /usr/local/lib/python3.7/dist-packages (from scikit-learn>=0.18.0->bayesian-optimization>=1.2.0->nevergrad->-r /content/pytorch_GAN_zoo/requirements.txt (line 5)) (1.1.0)\n",
            "Requirement already satisfied: threadpoolctl>=2.0.0 in /usr/local/lib/python3.7/dist-packages (from scikit-learn>=0.18.0->bayesian-optimization>=1.2.0->nevergrad->-r /content/pytorch_GAN_zoo/requirements.txt (line 5)) (3.0.0)\n",
            "Requirement already satisfied: jsonpointer>=1.9 in /usr/local/lib/python3.7/dist-packages (from jsonpatch->visdom->-r /content/pytorch_GAN_zoo/requirements.txt (line 3)) (2.2)\n",
            "Requirement already satisfied: chardet<4,>=3.0.2 in /usr/local/lib/python3.7/dist-packages (from requests->visdom->-r /content/pytorch_GAN_zoo/requirements.txt (line 3)) (3.0.4)\n",
            "Requirement already satisfied: urllib3!=1.25.0,!=1.25.1,<1.26,>=1.21.1 in /usr/local/lib/python3.7/dist-packages (from requests->visdom->-r /content/pytorch_GAN_zoo/requirements.txt (line 3)) (1.24.3)\n",
            "Requirement already satisfied: idna<3,>=2.5 in /usr/local/lib/python3.7/dist-packages (from requests->visdom->-r /content/pytorch_GAN_zoo/requirements.txt (line 3)) (2.10)\n",
            "Requirement already satisfied: certifi>=2017.4.17 in /usr/local/lib/python3.7/dist-packages (from requests->visdom->-r /content/pytorch_GAN_zoo/requirements.txt (line 3)) (2021.10.8)\n"
          ]
        }
      ]
    },
    {
      "cell_type": "code",
      "metadata": {
        "colab": {
          "base_uri": "https://localhost:8080/"
        },
        "id": "0NhhT8IVfGeW",
        "outputId": "4ca63ae5-75c5-4f8f-d068-8617106e36d4"
      },
      "source": [
        "!python train.py --np_vis PGAN -c /content/A2MF_AP/UTKFace/utkface_config.json -n 'utkface_visible' -d /content/drive/MyDrive/checkpoints"
      ],
      "execution_count": null,
      "outputs": [
        {
          "output_type": "stream",
          "name": "stdout",
          "text": [
            "Running PGAN\n",
            "size 10\n",
            "23669 images found\n",
            "AC-GAN classes : \n",
            "{'age_0': {'order': 0, 'values': [0.0, 1.0]}, 'age_1': {'order': 1, 'values': [0.0, 1.0]}, 'age_2': {'order': 2, 'values': [0.0, 1.0]}, 'age_3': {'order': 3, 'values': [0.0, 1.0]}, 'age_4': {'order': 4, 'values': [0.0, 1.0]}, 'gender_0': {'order': 5, 'values': [0.0, 1.0]}, 'gender_1': {'order': 6, 'values': [0.0, 1.0]}, 'race_0': {'order': 7, 'values': [0.0, 1.0]}, 'race_1': {'order': 8, 'values': [0.0, 1.0]}, 'race_2': {'order': 9, 'values': [0.0, 1.0]}, 'race_3': {'order': 10, 'values': [0.0, 1.0]}, 'race_4': {'order': 11, 'values': [0.0, 1.0]}}\n",
            "\n",
            "size 10\n",
            "23669 images found\n",
            "23669 images detected\n",
            "size (4, 4)\n",
            "23669 images found\n",
            "Changing alpha to 0.000\n",
            "Traceback (most recent call last):\n",
            "  File \"train.py\", line 137, in <module>\n",
            "    GANTrainer.train()\n",
            "  File \"/content/pytorch_GAN_zoo/models/trainer/progressive_gan_trainer.py\", line 237, in train\n",
            "    maxIter=self.modelConfig.maxIterAtScale[scale])\n",
            "  File \"/content/pytorch_GAN_zoo/models/trainer/gan_trainer.py\", line 479, in trainOnEpoch\n",
            "    inputs_real = self.inScaleUpdate(i, scale, inputs_real)\n",
            "  File \"/content/pytorch_GAN_zoo/models/trainer/progressive_gan_trainer.py\", line 166, in inScaleUpdate\n",
            "    self.model.updateAlpha(alpha)\n",
            "  File \"/content/pytorch_GAN_zoo/models/progressive_gan.py\", line 134, in updateAlpha\n",
            "    self.avgG.module.setNewAlpha(newAlpha)\n",
            "  File \"/usr/local/lib/python3.7/dist-packages/torch/nn/modules/module.py\", line 1178, in __getattr__\n",
            "    type(self).__name__, name))\n",
            "AttributeError: 'GNet' object has no attribute 'module'\n"
          ]
        }
      ]
    }
  ]
}