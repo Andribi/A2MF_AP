{
  "nbformat": 4,
  "nbformat_minor": 0,
  "metadata": {
    "colab": {
      "name": "DataAnalysisUTKFace.ipynb",
      "provenance": [],
      "authorship_tag": "ABX9TyNvtocgKjwC2H4lJdtbRbMT",
      "include_colab_link": true
    },
    "kernelspec": {
      "name": "python3",
      "display_name": "Python 3"
    },
    "language_info": {
      "name": "python"
    }
  },
  "cells": [
    {
      "cell_type": "markdown",
      "metadata": {
        "id": "view-in-github",
        "colab_type": "text"
      },
      "source": [
        "<a href=\"https://colab.research.google.com/github/Andribi/A2MF_AP/blob/main/DataAnalysisUTKFace.ipynb\" target=\"_parent\"><img src=\"https://colab.research.google.com/assets/colab-badge.svg\" alt=\"Open In Colab\"/></a>"
      ]
    },
    {
      "cell_type": "code",
      "metadata": {
        "id": "CoCQcWIlgx47"
      },
      "source": [
        "# IMPORTS\n",
        "\n",
        "import os \n",
        "import pandas as pd \n",
        "import matplotlib.pyplot as plt\n",
        "import json \n",
        "import numpy as np"
      ],
      "execution_count": 1,
      "outputs": []
    },
    {
      "cell_type": "code",
      "metadata": {
        "colab": {
          "base_uri": "https://localhost:8080/"
        },
        "id": "-UDanmS1hZ0w",
        "outputId": "d57b6bf9-0d0d-4bba-b0b6-9b81fca0f200"
      },
      "source": [
        "# CLONE OF REPOSITORY WITH DATASETS\n",
        "\n",
        "!git clone https://github.com/Andribi/A2MF_AP.git "
      ],
      "execution_count": 2,
      "outputs": [
        {
          "output_type": "stream",
          "name": "stdout",
          "text": [
            "Cloning into 'A2MF_AP'...\n",
            "remote: Enumerating objects: 218437, done.\u001b[K\n",
            "remote: Counting objects: 100% (23313/23313), done.\u001b[K\n",
            "remote: Compressing objects: 100% (23311/23311), done.\u001b[K\n",
            "remote: Total 218437 (delta 13), reused 23291 (delta 2), pack-reused 195124\n",
            "Receiving objects: 100% (218437/218437), 1.91 GiB | 38.43 MiB/s, done.\n",
            "Resolving deltas: 100% (30/30), done.\n",
            "Checking out files: 100% (219079/219079), done.\n"
          ]
        }
      ]
    },
    {
      "cell_type": "code",
      "metadata": {
        "id": "foGE2Mx2iBRl"
      },
      "source": [
        "# GLOBAL VARS\n",
        "\n",
        "UTKFACE_LABELS_PATH = '/content/A2MF_AP/utkface.json'"
      ],
      "execution_count": 3,
      "outputs": []
    },
    {
      "cell_type": "code",
      "metadata": {
        "id": "gQz2ka58iWc0",
        "outputId": "f3b94494-d5e7-4cee-e223-8c73a8454bf1",
        "colab": {
          "base_uri": "https://localhost:8080/",
          "height": 206
        }
      },
      "source": [
        "# CREATE DATAFRAME\n",
        "\n",
        "with open(UTKFACE_LABELS_PATH) as utkface:\n",
        "    utkface_dict = json.load(utkface)\n",
        "\n",
        "utkface_df = pd.DataFrame.from_dict(utkface_dict, orient='index')\n",
        "utkface_df.head(5)"
      ],
      "execution_count": 4,
      "outputs": [
        {
          "output_type": "execute_result",
          "data": {
            "text/html": [
              "<div>\n",
              "<style scoped>\n",
              "    .dataframe tbody tr th:only-of-type {\n",
              "        vertical-align: middle;\n",
              "    }\n",
              "\n",
              "    .dataframe tbody tr th {\n",
              "        vertical-align: top;\n",
              "    }\n",
              "\n",
              "    .dataframe thead th {\n",
              "        text-align: right;\n",
              "    }\n",
              "</style>\n",
              "<table border=\"1\" class=\"dataframe\">\n",
              "  <thead>\n",
              "    <tr style=\"text-align: right;\">\n",
              "      <th></th>\n",
              "      <th>age</th>\n",
              "      <th>gender</th>\n",
              "      <th>race</th>\n",
              "    </tr>\n",
              "  </thead>\n",
              "  <tbody>\n",
              "    <tr>\n",
              "      <th>100_0_0_20170112213500903.jpg.chip.jpg</th>\n",
              "      <td>100</td>\n",
              "      <td>0</td>\n",
              "      <td>0</td>\n",
              "    </tr>\n",
              "    <tr>\n",
              "      <th>100_0_0_20170112215240346.jpg.chip.jpg</th>\n",
              "      <td>100</td>\n",
              "      <td>0</td>\n",
              "      <td>0</td>\n",
              "    </tr>\n",
              "    <tr>\n",
              "      <th>100_1_0_20170110183726390.jpg.chip.jpg</th>\n",
              "      <td>100</td>\n",
              "      <td>1</td>\n",
              "      <td>0</td>\n",
              "    </tr>\n",
              "    <tr>\n",
              "      <th>100_1_0_20170112213001988.jpg.chip.jpg</th>\n",
              "      <td>100</td>\n",
              "      <td>1</td>\n",
              "      <td>0</td>\n",
              "    </tr>\n",
              "    <tr>\n",
              "      <th>100_1_0_20170112213303693.jpg.chip.jpg</th>\n",
              "      <td>100</td>\n",
              "      <td>1</td>\n",
              "      <td>0</td>\n",
              "    </tr>\n",
              "  </tbody>\n",
              "</table>\n",
              "</div>"
            ],
            "text/plain": [
              "                                        age gender race\n",
              "100_0_0_20170112213500903.jpg.chip.jpg  100      0    0\n",
              "100_0_0_20170112215240346.jpg.chip.jpg  100      0    0\n",
              "100_1_0_20170110183726390.jpg.chip.jpg  100      1    0\n",
              "100_1_0_20170112213001988.jpg.chip.jpg  100      1    0\n",
              "100_1_0_20170112213303693.jpg.chip.jpg  100      1    0"
            ]
          },
          "metadata": {},
          "execution_count": 4
        }
      ]
    },
    {
      "cell_type": "code",
      "metadata": {
        "colab": {
          "base_uri": "https://localhost:8080/"
        },
        "id": "38maChxYtRUC",
        "outputId": "0a13e36f-c5a1-4cfe-ee9d-0ace019ca026"
      },
      "source": [
        "# MISSING VALUES\n",
        "\n",
        "print('Percentage of missing values:', round((utkface_df.isna().sum().sum() / utkface_df.shape[0]) * 100 , 2), '%')\n",
        "nan_vals = utkface_df[utkface_df.isna().any(axis=1)]\n",
        "utkface_df = utkface_df.dropna()\n",
        "print('Percentage of missing values after drop:', round((utkface_df.isna().sum().sum() / utkface_df.shape[0]) * 100 , 2), '%')"
      ],
      "execution_count": 5,
      "outputs": [
        {
          "output_type": "stream",
          "name": "stdout",
          "text": [
            "Percentage of missing values: 0.01 %\n",
            "Percentage of missing values after drop: 0.0 %\n"
          ]
        }
      ]
    },
    {
      "cell_type": "code",
      "metadata": {
        "colab": {
          "base_uri": "https://localhost:8080/",
          "height": 829
        },
        "id": "hH7XfD1JhqoG",
        "outputId": "1f8e7d7f-964c-44a5-e902-3709f01342e4"
      },
      "source": [
        "# DISTRIBUTIONS\n",
        "\n",
        "print('Total number of images in UTK_Face: ' + str(utkface_df.shape[0]))\n",
        "\n",
        "age = utkface_df[\"age\"].astype(int).sort_values()\n",
        "age_bins=len(age.value_counts())\n",
        "\n",
        "gender = utkface_df[\"gender\"].astype(int).sort_values()\n",
        "gender_bins=len(gender.value_counts())\n",
        "\n",
        "race = utkface_df[\"race\"].astype(int).sort_values()\n",
        "race_bins=len(race.value_counts())\n",
        "\n",
        "age.hist(bins=age_bins, figsize=[8,4], xrot=90, edgecolor='steelblue', linewidth=1, grid=False, alpha=0.5, legend=True)\n",
        "plt.title('Age distribution')\n",
        "plt.show()\n",
        "\n",
        "gender.hist(bins=gender_bins, figsize=[8,4], xrot=90, edgecolor='orange', linewidth=1, grid=False, alpha=0.5, legend=True, color='yellow')\n",
        "plt.title('Gender distribution')\n",
        "plt.xticks(np.arange(0, 2, step=1))\n",
        "plt.show()\n",
        "\n",
        "race.hist(bins=race_bins, figsize=[8,4], xrot=90, edgecolor='red', linewidth=1, grid=False, alpha=0.5, legend=True, color='orchid')\n",
        "plt.xticks(np.arange(0, 5, step=1))\n",
        "plt.title('Race distribution')\n",
        "plt.show()"
      ],
      "execution_count": 6,
      "outputs": [
        {
          "output_type": "stream",
          "name": "stdout",
          "text": [
            "Total number of images in UTK_Face: 23669\n"
          ]
        },
        {
          "output_type": "display_data",
          "data": {
            "image/png": "[encoded data removed]",
            "text/plain": [
              "<Figure size 576x288 with 1 Axes>"
            ]
          },
          "metadata": {
            "needs_background": "light"
          }
        },
        {
          "output_type": "display_data",
          "data": {
            "image/png": "[encoded data removed]",
            "text/plain": [
              "<Figure size 576x288 with 1 Axes>"
            ]
          },
          "metadata": {
            "needs_background": "light"
          }
        },
        {
          "output_type": "display_data",
          "data": {
            "image/png": "[encoded data removed]",
            "text/plain": [
              "<Figure size 576x288 with 1 Axes>"
            ]
          },
          "metadata": {
            "needs_background": "light"
          }
        }
      ]
    },
    {
      "cell_type": "code",
      "metadata": {
        "id": "6jKVf2259vT6",
        "outputId": "05a9b649-0f99-4693-ad94-4e4b222046d2",
        "colab": {
          "base_uri": "https://localhost:8080/"
        }
      },
      "source": [
        "# DATASET SPLIT\n",
        "\n",
        "from sklearn.model_selection import train_test_split\n",
        "\n",
        "X_train, X_test = train_test_split(utkface_df, test_size=0.2)\n",
        "\n",
        "print('Training samples number:', X_train.shape[0])\n",
        "print('Testing samples number: ', X_test.shape[0])"
      ],
      "execution_count": 16,
      "outputs": [
        {
          "output_type": "stream",
          "name": "stdout",
          "text": [
            "Training samples number: 18935\n",
            "Testing samples number:  4734\n"
          ]
        }
      ]
    }
  ]
}